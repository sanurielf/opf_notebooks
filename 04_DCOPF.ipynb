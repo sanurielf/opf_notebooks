{
 "cells": [
  {
   "cell_type": "markdown",
   "metadata": {},
   "source": [
    "# Flujos de Potencia Óptimos Lineales (DCOPF)\n",
    "\n",
    "**Contribución de**: Uriel Sandoval\n",
    "\n",
    "Esta notebook contiene la implementación de un flujos de potencia óptimos linealizados en el lenguaje Julia.\n",
    "\n",
    "Para ejecutar los comandos los siguientes paquetes de Julia son necesarios:\n",
    "\n",
    "\n",
    "* [JuMP](https://jump.dev/)  \n",
    "* [OSQP](https://osqp.org/): Solver para problemas qudrácticos.\n",
    "* [PowerSystems](https://nrel-siip.github.io/PowerSystems.jl/stable/): Paquete para leer archivos de MatPower y PSS/E.\n",
    "\n",
    "Los paquetes pueden ser instalados de la siguiente forma:\n",
    "\n",
    "```Julia\n",
    "import Pkg;\n",
    "Pkg.add([\"JuMP\", \"OSQP\", \"PowerSystems\"])\n",
    "```\n",
    "\n",
    "Los archivos de prueba fueron obtenidos del repositorio de [Power Grid Lib](https://github.com/power-grid-lib/pglib-opf), el cual es mantenido activamente por el [IEEE PES Task Force](https://arxiv.org/abs/1908.02788).\n",
    "\n",
    "En la literatura se pueden encontrar diversas formulaciones del DCOPF, sin embargo para propósitos educativos y tratando ser lo más claro posible, la formulación aquí mostrada es igual a la implementada en [Matpower](https://matpower.org/).\n",
    "\n",
    "Adicionalmente, el lector puede verificar sus resultados con los reportados en [The Power Grid Library for Benchmarking AC Optimal Power Flow Algorithms](https://arxiv.org/abs/1908.02788).\n"
   ]
  },
  {
   "cell_type": "markdown",
   "metadata": {},
   "source": [
    "Empezamos importando los paquetes necesarios"
   ]
  },
  {
   "cell_type": "code",
   "execution_count": 1,
   "metadata": {},
   "outputs": [],
   "source": [
    "using JuMP, OSQP;\n",
    "using PowerSystems;"
   ]
  },
  {
   "cell_type": "markdown",
   "metadata": {},
   "source": [
    "A continuación usamos la librería PowerSystems para leer el archivo *pglib_opf_case5_pjm.m*"
   ]
  },
  {
   "cell_type": "code",
   "execution_count": 2,
   "metadata": {},
   "outputs": [
    {
     "name": "stderr",
     "output_type": "stream",
     "text": [
      "┌ Info: extending matpower format with data: areas 1x3\n",
      "└ @ PowerSystems C:\\Users\\UFSANDOVAL\\.julia\\packages\\PowerSystems\\hE7SB\\src\\parsers\\pm_io\\matpower.jl:332\n",
      "┌ Info: removing 1 cost terms from generator 4: [4000.0, 0.0]\n",
      "└ @ PowerSystems C:\\Users\\UFSANDOVAL\\.julia\\packages\\PowerSystems\\hE7SB\\src\\parsers\\pm_io\\data.jl:1867\n",
      "┌ Info: removing 1 cost terms from generator 1: [1400.0, 0.0]\n",
      "└ @ PowerSystems C:\\Users\\UFSANDOVAL\\.julia\\packages\\PowerSystems\\hE7SB\\src\\parsers\\pm_io\\data.jl:1867\n",
      "┌ Info: removing 1 cost terms from generator 5: [1000.0, 0.0]\n",
      "└ @ PowerSystems C:\\Users\\UFSANDOVAL\\.julia\\packages\\PowerSystems\\hE7SB\\src\\parsers\\pm_io\\data.jl:1867\n",
      "┌ Info: removing 1 cost terms from generator 2: [1500.0, 0.0]\n",
      "└ @ PowerSystems C:\\Users\\UFSANDOVAL\\.julia\\packages\\PowerSystems\\hE7SB\\src\\parsers\\pm_io\\data.jl:1867\n",
      "┌ Info: removing 1 cost terms from generator 3: [3000.0, 0.0]\n",
      "└ @ PowerSystems C:\\Users\\UFSANDOVAL\\.julia\\packages\\PowerSystems\\hE7SB\\src\\parsers\\pm_io\\data.jl:1867\n"
     ]
    }
   ],
   "source": [
    "# Leemos los datos utilizando PowerSystems\n",
    "dat = PowerSystems.PowerModelsData(\"data/pglib_opf_case5_pjm.m\").data;\n",
    "\n",
    "# Los siguientes únicamente son aliases\n",
    "branches = dat[\"branch\"];\n",
    "buses = dat[\"bus\"];\n",
    "gens = dat[\"gen\"];\n",
    "loads = dat[\"load\"];\n",
    "shunts = dat[\"shunt\"];"
   ]
  },
  {
   "cell_type": "code",
   "execution_count": 3,
   "metadata": {},
   "outputs": [
    {
     "name": "stdout",
     "output_type": "stream",
     "text": [
      "B = [\"4\", \"1\", \"5\", \"2\", \"3\"]\n",
      "L = [\"4\", \"1\", \"5\", \"2\", \"6\", \"3\"]\n"
     ]
    }
   ],
   "source": [
    "# Creamos los conjuntos a ser utilizados en los indices de JuMP\n",
    "B = keys(buses);\n",
    "L = keys(branches);\n",
    "G = keys(gens);\n",
    "C = keys(loads);\n",
    "S = keys(shunts);\n",
    "\n",
    "@show(B)\n",
    "@show(L)\n",
    "\n",
    "##  Creamos un mapeo  bus -> elemento, para los dispositivos de una terminal\n",
    "\n",
    "# Mapeo: bus -> [cargas]\n",
    "load_map = Dict((i, String[]) for i in B);\n",
    "for (key, load) in loads\n",
    "    push!(load_map[string(load[\"load_bus\"])], key)\n",
    "end\n",
    "\n",
    "# Mapeo: bus -> [gens]\n",
    "gen_map = Dict((i, String[]) for i in keys(buses));\n",
    "for (key, load) in gens\n",
    "    push!(gen_map[string(load[\"gen_bus\"])], key)\n",
    "end\n",
    "\n",
    "# Mapeo: bus -> [shunts]\n",
    "shunt_map = Dict((i, String[]) for i in keys(buses));\n",
    "for (key, load) in shunts\n",
    "    push!(shunt_map[string(load[\"shunt_bus\"])], key)\n",
    "end"
   ]
  },
  {
   "cell_type": "markdown",
   "metadata": {},
   "source": [
    "## Modelado de la red eléctrica\n",
    "\n",
    "Esta sección presenta el modelado de la red eléctrica utilizando JuMP. Se consideran los elementos más importantes de un sistemas de potencia:\n",
    "\n",
    "* Nodos.\n",
    "* Ramas (lineas de transmisión y transformadores).\n",
    "* Cargas y equipos de compensación shunt.\n",
    "* Generadores\n",
    "\n",
    "\n"
   ]
  },
  {
   "cell_type": "code",
   "execution_count": 4,
   "metadata": {},
   "outputs": [],
   "source": [
    "# Creamos el modelo de JuMP y asignamos el solver a utilizar (OSQP)\n",
    "mod = Model(OSQP.Optimizer);"
   ]
  },
  {
   "cell_type": "markdown",
   "metadata": {},
   "source": [
    "A diferencia del ACOPF, en esta formulación únicamente consideramos los ángulos de voltaje nodales:"
   ]
  },
  {
   "cell_type": "code",
   "execution_count": 5,
   "metadata": {},
   "outputs": [],
   "source": [
    "@variable(mod, δ[k in B], start = 0.0);\n",
    "for (k, bus_data) in buses\n",
    "    \n",
    "    # Referencia angular para el nodo \"slack\"\n",
    "    if (bus_data[\"bus_type\"] == 3)\n",
    "        set_lower_bound(δ[k], bus_data[\"va\"]);\n",
    "        set_upper_bound(δ[k], bus_data[\"va\"]);\n",
    "    end\n",
    "end"
   ]
  },
  {
   "cell_type": "markdown",
   "metadata": {},
   "source": [
    "Una aproximación lineal al flujo a través de los elementos de la red de transmisión:\n",
    "\n",
    "$$\n",
    "P_{km} = \\frac{\\delta_k - \\delta_m}{x_s \\tau}\n",
    "$$\n"
   ]
  },
  {
   "cell_type": "code",
   "execution_count": 6,
   "metadata": {},
   "outputs": [],
   "source": [
    "Pinj_f_bra = Dict((k, []) for k in B);\n",
    "Pinj_t_bra = Dict((k, []) for k in B);\n",
    "\n",
    "for brn in values(branches)\n",
    "    if (brn[\"br_status\"] == 0)\n",
    "        continue\n",
    "    end\n",
    "    # Nodos k y m\n",
    "    k = string(brn[\"f_bus\"]);\n",
    "    m = string(brn[\"t_bus\"]);\n",
    "\n",
    "    Pkm = @expression(mod, (δ[k] - δ[m]) / (brn[\"br_x\"] * brn[\"tap\"]));\n",
    "\n",
    "    push!(Pinj_f_bra[k], Pkm);\n",
    "    push!(Pinj_t_bra[m], -Pkm);\n",
    "\n",
    "    if (brn[\"rate_a\"] > 0)\n",
    "        # En caso que sea necesario vigilar el flujo en la rama\n",
    "        @constraint(mod, -brn[\"rate_a\"] <= Pkm <= brn[\"rate_a\"]);\n",
    "    end\n",
    "\n",
    "end"
   ]
  },
  {
   "cell_type": "code",
   "execution_count": 7,
   "metadata": {},
   "outputs": [],
   "source": [
    "@variable(mod, gens[i][\"pmin\"] <= Pg[i in G] <= gens[i][\"pmax\"]);"
   ]
  },
  {
   "cell_type": "markdown",
   "metadata": {},
   "source": [
    "### Ecuación de balance de potencia activa\n",
    "\n",
    "$$\n",
    "\\sum_{i \\in \\mathcal{G}} p_{G_i} - \\sum_{i \\in \\mathcal{C}} p_{L_i} - \n",
    "\\sum_{(k,m) \\in \\mathcal{E}} p_{km}  -\n",
    "\\sum_{(m,k) \\in \\mathcal{E}} p_{mk} = 0 \\quad \\forall k \\in \\mathcal{B} \n",
    "$$"
   ]
  },
  {
   "cell_type": "code",
   "execution_count": 8,
   "metadata": {},
   "outputs": [],
   "source": [
    "@constraint(mod, dP[k in B],sum(Pg[i] for i in gen_map[k]) -\n",
    "                            sum(loads[load][\"pd\"] for load in load_map[k]) -\n",
    "                            sum(Pkm for Pkm in Pinj_f_bra[k]) -\n",
    "                            sum(Pmk for Pmk in Pinj_t_bra[k]) ==0);\n"
   ]
  },
  {
   "cell_type": "markdown",
   "metadata": {},
   "source": [
    "### Función objetivo\n",
    "\n",
    "La función objetivo del problema de flujos óptimos es minimizar el costo de producción total:\n",
    "\n",
    "$$\n",
    "\\min \\sum_{i \\in \\mathcal{G}} f_{C_i}\\left( P_{G_i} \\right) = \\sum_{i \\in \\mathcal{G}}\\left( c_i P_{G_i}^2 + b_i P_{G_i} + c_i \\right)\n",
    "$$\n"
   ]
  },
  {
   "cell_type": "code",
   "execution_count": 9,
   "metadata": {},
   "outputs": [],
   "source": [
    "@objective(mod, Min, \n",
    "    sum(sum(gen[\"cost\"][j] * Pg[i] ^(gen[\"ncost\"] - j) for j in 1:gen[\"ncost\"]) for (i, gen) in gens));"
   ]
  },
  {
   "cell_type": "code",
   "execution_count": 10,
   "metadata": {},
   "outputs": [
    {
     "data": {
      "text/latex": [
       "$$ \\begin{alignat*}{1}\\min\\quad & 4000 Pg_{4} + 1400 Pg_{1} + 1000 Pg_{5} + 1500 Pg_{2} + 3000 Pg_{3}\\\\\n",
       "\\text{Subject to} \\quad & -100.2348041821726 δ_{4} + 32.89473684210526 δ_{1} + 33.67003367003367 δ_{5} + 33.67003367003367 δ_{3} + Pg_{4} = 4.0\\\\\n",
       " & 32.89473684210526 δ_{4} - 224.7319254542049 δ_{1} + 156.25 δ_{5} + 35.587188612099645 δ_{2} + Pg_{1} + Pg_{2} = 0.0\\\\\n",
       " & 33.67003367003367 δ_{4} + 156.25 δ_{1} - 189.92003367003366 δ_{5} + Pg_{5} = 0.0\\\\\n",
       " & 35.587188612099645 δ_{1} - 128.17978120469223 δ_{2} + 92.59259259259258 δ_{3} = 3.0\\\\\n",
       " & 33.67003367003367 δ_{4} + 92.59259259259258 δ_{2} - 126.26262626262624 δ_{3} + Pg_{3} = 3.0\\\\\n",
       " & 92.59259259259258 δ_{2} - 92.59259259259258 δ_{3} \\in \\[-4.26, 4.26\\]\\\\\n",
       " & 35.587188612099645 δ_{1} - 35.587188612099645 δ_{2} \\in \\[-4.0, 4.0\\]\\\\\n",
       " & -33.67003367003367 δ_{4} + 33.67003367003367 δ_{3} \\in \\[-4.26, 4.26\\]\\\\\n",
       " & -32.89473684210526 δ_{4} + 32.89473684210526 δ_{1} \\in \\[-4.26, 4.26\\]\\\\\n",
       " & 33.67003367003367 δ_{4} - 33.67003367003367 δ_{5} \\in \\[-2.4, 2.4\\]\\\\\n",
       " & 156.25 δ_{1} - 156.25 δ_{5} \\in \\[-4.26, 4.26\\]\\\\\n",
       " & δ_{4} \\geq 0.0\\\\\n",
       " & Pg_{4} \\geq 0.0\\\\\n",
       " & Pg_{1} \\geq 0.0\\\\\n",
       " & Pg_{5} \\geq 0.0\\\\\n",
       " & Pg_{2} \\geq 0.0\\\\\n",
       " & Pg_{3} \\geq 0.0\\\\\n",
       " & δ_{4} \\leq 0.0\\\\\n",
       " & Pg_{4} \\leq 2.0\\\\\n",
       " & Pg_{1} \\leq 0.4\\\\\n",
       " & Pg_{5} \\leq 6.0\\\\\n",
       " & Pg_{2} \\leq 1.7\\\\\n",
       " & Pg_{3} \\leq 5.2\\\\\n",
       "\\end{alignat*}\n",
       " $$"
      ],
      "text/plain": [
       "A JuMP Model\n",
       "Minimization problem with:\n",
       "Variables: 10\n",
       "Objective function type: GenericQuadExpr{Float64,VariableRef}\n",
       "`GenericAffExpr{Float64,VariableRef}`-in-`MathOptInterface.EqualTo{Float64}`: 5 constraints\n",
       "`GenericAffExpr{Float64,VariableRef}`-in-`MathOptInterface.Interval{Float64}`: 6 constraints\n",
       "`VariableRef`-in-`MathOptInterface.GreaterThan{Float64}`: 6 constraints\n",
       "`VariableRef`-in-`MathOptInterface.LessThan{Float64}`: 6 constraints\n",
       "Model mode: AUTOMATIC\n",
       "CachingOptimizer state: EMPTY_OPTIMIZER\n",
       "Solver name: OSQP\n",
       "Names registered in the model: Pg, dP, δ"
      ]
     },
     "execution_count": 10,
     "metadata": {},
     "output_type": "execute_result"
    }
   ],
   "source": [
    "mod"
   ]
  },
  {
   "cell_type": "code",
   "execution_count": 11,
   "metadata": {},
   "outputs": [
    {
     "name": "stderr",
     "output_type": "stream",
     "text": [
      "┌ Warning: MathOptInterface.VariablePrimalStart() is not supported by MathOptInterface.Bridges.LazyBridgeOptimizer{MathOptInterface.Utilities.CachingOptimizer{OSQP.MathOptInterfaceOSQP.Optimizer,MathOptInterface.Utilities.UniversalFallback{MathOptInterface.Utilities.Model{Float64}}}}. This information will be discarded.\n",
      "└ @ MathOptInterface.Utilities C:\\Users\\UFSANDOVAL\\.julia\\packages\\MathOptInterface\\k7UUH\\src\\Utilities\\copy.jl:185\n"
     ]
    },
    {
     "name": "stdout",
     "output_type": "stream",
     "text": [
      "-----------------------------------------------------------------\n",
      "           OSQP v0.6.0  -  Operator Splitting QP Solver\n",
      "              (c) Bartolomeo Stellato,  Goran Banjac\n",
      "        University of Oxford  -  Stanford University 2019\n",
      "-----------------------------------------------------------------\n",
      "problem:  variables n = 10, constraints m = 23\n",
      "          nnz(P) + nnz(A) = 46\n",
      "settings: linear system solver = qdldl,\n",
      "          eps_abs = 1.0e-003, eps_rel = 1.0e-003,\n",
      "          eps_prim_inf = 1.0e-004, eps_dual_inf = 1.0e-004,\n",
      "          rho = 1.00e-001 (adaptive),\n",
      "          sigma = 1.00e-006, alpha = 1.60, max_iter = 4000\n",
      "          check_termination: on (interval 25),\n",
      "          scaling: on, scaled_termination: off\n",
      "          warm start: on, polish: off, time_limit: off\n",
      "\n",
      "iter  objective    pri res    dua res    rho        time\n",
      "   1 -2.3870e+004  4.68e+000  1.28e+006  1.00e-001  6.53e-005s\n",
      " 200  1.7724e+004  3.71e-002  4.15e+002  8.00e-001  1.61e-004s\n",
      " 400  1.9043e+004  2.51e-001  2.03e+001  1.22e-001  2.51e-004s\n",
      " 600  1.6948e+004  8.58e-002  5.14e+000  1.22e-001  3.39e-004s\n",
      " 750  1.7492e+004  1.91e-003  2.84e+000  1.22e-001  4.05e-004s\n",
      "\n",
      "status:               solved\n",
      "number of iterations: 750\n",
      "optimal objective:    17491.7055\n",
      "run time:             4.09e-004s\n",
      "optimal rho estimate: 5.22e-002\n",
      "\n"
     ]
    }
   ],
   "source": [
    "optimize!(mod)"
   ]
  },
  {
   "cell_type": "markdown",
   "metadata": {},
   "source": [
    "Podemos obtener los valores resultantes y actualizar nuestro diccionario de datos"
   ]
  },
  {
   "cell_type": "code",
   "execution_count": 12,
   "metadata": {},
   "outputs": [
    {
     "name": "stdout",
     "output_type": "stream",
     "text": [
      "OPTIMAL"
     ]
    },
    {
     "name": "stderr",
     "output_type": "stream",
     "text": [
      "┌ Info: Problema resuelto. Actualizando variables\n",
      "└ @ Main In[12]:3\n"
     ]
    },
    {
     "name": "stdout",
     "output_type": "stream",
     "text": [
      "Función objetivo 17491.70550869146\n"
     ]
    }
   ],
   "source": [
    "print(termination_status(mod))\n",
    "if termination_status(mod) in (MOI.OPTIMAL, MOI.LOCALLY_SOLVED)\n",
    "    @info(\"Problema resuelto. Actualizando variables\")\n",
    "    println(\"Función objetivo \", objective_value(mod));\n",
    "    for (k, bus) in buses\n",
    "        bus[\"va\"] = value.(δ[k]);\n",
    "    end\n",
    "    for (i, gen) in gens\n",
    "        gen[\"pg\"] = value.(Pg[i]);\n",
    "    end\n",
    "end"
   ]
  },
  {
   "cell_type": "code",
   "execution_count": null,
   "metadata": {},
   "outputs": [],
   "source": []
  }
 ],
 "metadata": {
  "kernelspec": {
   "display_name": "Julia 1.5.3",
   "language": "julia",
   "name": "julia-1.5"
  },
  "language_info": {
   "file_extension": ".jl",
   "mimetype": "application/julia",
   "name": "julia",
   "version": "1.5.3"
  }
 },
 "nbformat": 4,
 "nbformat_minor": 4
}
