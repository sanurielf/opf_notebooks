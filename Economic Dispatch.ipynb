{
 "cells": [
  {
   "cell_type": "markdown",
   "metadata": {},
   "source": [
    "# Economic dispatch\n",
    "\n",
    "**Contributed by**: Uriel Sandoval, based on notes of Prof. Claudio Fuerte."
   ]
  },
  {
   "cell_type": "markdown",
   "metadata": {},
   "source": [
    "Economic dispatch (ED) is an optimization problem that minimizes the cost of supplying energy demand subject to operational constraints on power system assets. In its simplest modification, ED is an LP (or QP) problem solved for an aggregated load and wind forecast and for a single infinitesimal moment. Mathematically, the ED problem can be written as follows:\n",
    "\n",
    "\\begin{equation*}\n",
    "\\min \\sum_{i=1}^N C_i (P_{G_i}) = \\sum_{i=1}^N \\left(a_i + b_i P_{G_i} + c P_{G_i}^2\\right)\n",
    "\\end{equation*}\n",
    "\n",
    "where $a_{i}$ is the fixed production cost ($\\$/MWh$), $b_i$ is the incremental cost ($\\$/MWh$), $c_i$ is the quadratic cost ($\\$/MWh$) and $P_{G_i}$ is the power output (MW) of the $i^{th}$ generator, respectively.\n",
    "\n",
    "\n",
    "subject to the following constraint:\n",
    "    \n",
    "* Power balance constraint\n",
    "\n",
    "\\begin{equation}\n",
    "\\sum_{i=1}^N P_{G_i} = P_D\n",
    "\\end{equation}\n",
    "\n",
    "where $P_D$ is the forecasted demand.\n",
    "\n",
    "\n",
    "This formulation doesn't take into account transmission losses and constraints. Also note that reactive power effect is not considered."
   ]
  },
  {
   "attachments": {
    "image.png": {
     "image/png": "[encoded data removed]"
    }
   },
   "cell_type": "markdown",
   "metadata": {},
   "source": [
    "## Three generators example\n",
    "\n",
    "Consider the following ideal (no losses) power system:\n",
    "\n",
    "![image.png](attachment:image.png)\n",
    "\n",
    "\n",
    "with the follwing generators incremental costs\n",
    "\n",
    "\n",
    "| Unit  | $a_i$ | $b_i$ | $c_i$ |\n",
    "| -- | -- | -- | -- | \n",
    "| $G_1$  | 561 | 7.92 | 0.00154 |\n",
    "| $G_2$ | 310  | 7.8 | 0.002 |\n",
    "| $G_3$| 78  | 8 | 0.005 |\n",
    "\n",
    "\n",
    "Then, our QP problem is given by:\n",
    "\n",
    "\n",
    "\\begin{equation}\n",
    "\\min C_T = 561 + 7.92 P_{G_1}  + 0.00154 P_{G_1}^2 + 310 + 7.8 P_{G_2}  + 0.002 P_{G_2}^2 + 78 + 8 P_{G_3}  + 0.005 P_{G_3}^2\n",
    "\\end{equation}\n",
    "\n",
    "st.\n",
    "\n",
    "\\begin{equation}\n",
    "P_{G_1} + P_{G_2} + P_{G_3} = 850\n",
    "\\end{equation}\n",
    "\n",
    "We can translate this optimization problem to an expanded Lagrange system as follows:\n",
    "\n",
    "\\begin{equation}\n",
    "\\begin{split}\n",
    "L  &= C_T + \\lambda \\left(-\\left(P_{G_1} + P_{G_2} + P_{G_3} \\right) + 850 \\right) \\\\\n",
    "&=  561 + 7.92 P_{G_1}  + 0.00154 P_{G_1}^2 + 310 + 7.8 P_{G_2}  + 0.002 P_{G_2}^2 + 78 + 8 P_{G_3}  + 0.005 P_{G_3}^2 +  \\lambda \\left(- \\left(P_{G_1} + P_{G_2} + P_{G_3}\\right)  + 850 \\right)\n",
    "\\end{split}\n",
    "\\end{equation}\n",
    "\n",
    "Since this Lagrangian equation is smooth and convex we can obtain its global optimum. To do so, we differentiate $L$ with respect all the variables and equal them to zero:\n",
    "\n",
    "\\begin{equation}\n",
    "\\frac{\\partial L}{\\partial P_{G_1}} = 7.92 + 2\\left(0.00154 P_{G_1}\\right)  - \\lambda = 0 \\\\ \n",
    "\\frac{\\partial L}{\\partial P_{G_2}} = 7.8 + 2\\left(0.002 P_{G_2}\\right)  - \\lambda = 0 \\\\\n",
    "\\frac{\\partial L}{\\partial P_{G_3}} = 8.0 + 2\\left(0.005 P_{G_3}\\right)  - \\lambda = 0 \\\\\n",
    "\\frac{\\partial L}{\\partial \\lambda} = -P_{G_1} - P_{G_2} - P_{G_3} + 850 = 0 \n",
    "\\end{equation}\n",
    "\n",
    "\n",
    "As noted before, this optimization is now a linear system of 4 equations with 4 variables that can be easilly solved with Julia (or Matlab, etc):\n",
    "\n",
    "\n",
    "\\begin{equation}\n",
    "\\begin{bmatrix}\n",
    "0.00308 & 0 & 0 & -1 \\\\\n",
    "0 & 0.004 & 0 & -1 \\\\\n",
    "0 & 0 & 0.01 & -1 \\\\\n",
    "-1 &-1 &-1 & 0\n",
    "\\end{bmatrix}\n",
    "\\begin{bmatrix}\n",
    "P_{G_1} \\\\\n",
    "P_{G_2} \\\\\n",
    "P_{G_2} \\\\\n",
    "\\lambda\n",
    "\\end{bmatrix} = \n",
    "\\begin{bmatrix}\n",
    "-7.92 \\\\\n",
    "-7.8 \\\\\n",
    "-8 \\\\\n",
    "-850\n",
    "\\end{bmatrix}\n",
    "\\end{equation}"
   ]
  },
  {
   "cell_type": "code",
   "execution_count": 2,
   "metadata": {},
   "outputs": [],
   "source": [
    "using LinearAlgebra;"
   ]
  },
  {
   "cell_type": "code",
   "execution_count": 3,
   "metadata": {},
   "outputs": [
    {
     "data": {
      "text/plain": [
       "4×4 Array{Float64,2}:\n",
       "  0.00308   0.0     0.0   -1.0\n",
       "  0.0       0.004   0.0   -1.0\n",
       "  0.0       0.0     0.01  -1.0\n",
       " -1.0      -1.0    -1.0    0.0"
      ]
     },
     "execution_count": 3,
     "metadata": {},
     "output_type": "execute_result"
    }
   ],
   "source": [
    "A = [2*0.00154 0 0 -1; \n",
    "    0 2*0.002 0 -1;\n",
    "    0 0 2*0.005 -1;\n",
    "    -1 -1 -1 0]"
   ]
  },
  {
   "cell_type": "code",
   "execution_count": 4,
   "metadata": {},
   "outputs": [
    {
     "data": {
      "text/plain": [
       "4-element Array{Float64,1}:\n",
       "   -7.92\n",
       "   -7.8\n",
       "   -8.0\n",
       " -850.0"
      ]
     },
     "execution_count": 4,
     "metadata": {},
     "output_type": "execute_result"
    }
   ],
   "source": [
    "b = [-7.92;-7.8; -8; -850]"
   ]
  },
  {
   "cell_type": "code",
   "execution_count": 6,
   "metadata": {},
   "outputs": [
    {
     "data": {
      "text/plain": [
       "4-element Array{Float64,1}:\n",
       " 398.4600577478343\n",
       " 336.81424446583264\n",
       " 114.72569778633303\n",
       "   9.14725697786333"
      ]
     },
     "execution_count": 6,
     "metadata": {},
     "output_type": "execute_result"
    }
   ],
   "source": [
    "x = A\\b"
   ]
  },
  {
   "cell_type": "markdown",
   "metadata": {},
   "source": [
    "Which gives us the following solution\n",
    "\n",
    "\\begin{equation*}\n",
    "P_{G_1} = 398.46\\\\\n",
    "P_{G_2} = 336.8142\\\\\n",
    "P_{G_3} = 114.7256\\\\\n",
    "\\lambda = 9.1472\n",
    "\\end{equation*}\n",
    "\n",
    "\n",
    "$\\lambda$ is known as system marginal cost. \n",
    "\n",
    "This problem can also be solved using JuMP pacakge from Julia as follows:"
   ]
  },
  {
   "cell_type": "code",
   "execution_count": 7,
   "metadata": {},
   "outputs": [],
   "source": [
    "# Import packades\n",
    "using JuMP, OSQP"
   ]
  },
  {
   "cell_type": "code",
   "execution_count": 19,
   "metadata": {},
   "outputs": [
    {
     "name": "stdout",
     "output_type": "stream",
     "text": [
      "\n",
      "\n",
      "Dispatch of Generators: [398.4600685880324, 336.8142529804936, 114.72570133313387] MW\n",
      "\n",
      "\n",
      "Total cost: 8186.964598322787$\n",
      "-----------------------------------------------------------------\n",
      "           OSQP v0.6.0  -  Operator Splitting QP Solver\n",
      "              (c) Bartolomeo Stellato,  Goran Banjac\n",
      "        University of Oxford  -  Stanford University 2019\n",
      "-----------------------------------------------------------------\n",
      "problem:  variables n = 3, constraints m = 1\n",
      "          nnz(P) + nnz(A) = 6\n",
      "settings: linear system solver = qdldl,\n",
      "          eps_abs = 1.0e-03, eps_rel = 1.0e-03,\n",
      "          eps_prim_inf = 1.0e-04, eps_dual_inf = 1.0e-04,\n",
      "          rho = 1.00e-01 (adaptive),\n",
      "          sigma = 1.00e-06, alpha = 1.60, max_iter = 4000\n",
      "          check_termination: on (interval 25),\n",
      "          scaling: on, scaled_termination: off\n",
      "          warm start: on, polish: off, time_limit: off\n",
      "\n",
      "iter   objective    pri res    dua res    rho        time\n",
      "   1  -1.2571e+00   8.50e+02   6.80e+05   1.00e-01   3.04e-05s\n",
      "  50   7.2380e+03   2.29e-05   9.16e-06   3.44e-03   5.64e-05s\n",
      "\n",
      "status:               solved\n",
      "number of iterations: 50\n",
      "optimal objective:    7237.9646\n",
      "run time:             5.83e-05s\n",
      "optimal rho estimate: 5.64e-04\n",
      "\n"
     ]
    }
   ],
   "source": [
    "a = [561, 310, 78];\n",
    "b = [7.92, 7.8, 8];\n",
    "c = [0.00154, 0.002, 0.005];\n",
    "Pd = 850.;\n",
    "n = 3;\n",
    "\n",
    "\n",
    "# Define optmization model\n",
    "ed = Model(OSQP.Optimizer)\n",
    "\n",
    "# Add continous variables\n",
    "@variable(ed,p_g[i=1:n]);\n",
    "\n",
    "#Define the objective funciton\n",
    "@objective(ed, Min, sum(a[i] + b[i]*p_g[i] + c[i]*p_g[i]^2 for i in 1:n));\n",
    "\n",
    "# Power balance constraint\n",
    "@constraint(ed, sum(p_g[i] for i in 1:n) == Pd);\n",
    "\n",
    "optimize!(ed)\n",
    "\n",
    "\n",
    "println(\"\\n\")\n",
    "println(\"Dispatch of Generators: \", value.(p_g), \" MW\")\n",
    "println(\"\\n\")\n",
    "println(\"Total cost: \", objective_value(ed), \"\\$\")\n"
   ]
  },
  {
   "cell_type": "markdown",
   "metadata": {},
   "source": [
    "Now considering generation limits the economic dispatch problem is QP programming problem with inequality constraints as follows:\n",
    "\n",
    "\\begin{equation*}\n",
    "\\min \\sum_{i=1}^N C_i (P_{G_i}) = \\sum_{i=1}^N \\left(a_i + b_i P_{G_i} + c P_{G_i}^2\\right)\n",
    "\\end{equation*}\n",
    "\n",
    "subject to:\n",
    "\n",
    "* Power balance constraint:\n",
    "\n",
    "$$\n",
    "\\sum_{i=1}^N P_{G_i} = P_D\\\\\n",
    "$$\n",
    "\n",
    "* Minimum ($P_{G_i}^{\\min}$) and maximum ($P_{G_i}^{\\max}$) power generation limits: \n",
    "\n",
    "$$\n",
    "P_{G_i}^{\\min} \\leq P_{G_i} \\leq P_{G_i}^{\\max}\n",
    "$$\n",
    "\n",
    "In the next example the generation costs of the first generator were modified to make it cheaper and to try to reach its maximum limit (for demonstration purpose only).\n",
    "\n"
   ]
  },
  {
   "cell_type": "code",
   "execution_count": 20,
   "metadata": {},
   "outputs": [],
   "source": [
    "# Import packades\n",
    "using JuMP, OSQP, Ipopt"
   ]
  },
  {
   "cell_type": "code",
   "execution_count": 21,
   "metadata": {},
   "outputs": [],
   "source": [
    "# We define inputs for test system\n",
    "p_gmax = [600., 400, 200];\n",
    "p_gmin = [150., 100, 50];\n",
    "a = [459., 310, 78];\n",
    "b = [6.48, 7.8, 8];\n",
    "c = [0.00126, 0.002, 0.005];\n",
    "Pd = 850.;\n",
    "n = 3;"
   ]
  },
  {
   "cell_type": "code",
   "execution_count": 25,
   "metadata": {},
   "outputs": [
    {
     "name": "stdout",
     "output_type": "stream",
     "text": [
      "This is Ipopt version 3.13.2, running with linear solver mumps.\n",
      "NOTE: Other linear solvers might be more efficient (see Ipopt documentation).\n",
      "\n",
      "Number of nonzeros in equality constraint Jacobian...:        3\n",
      "Number of nonzeros in inequality constraint Jacobian.:        0\n",
      "Number of nonzeros in Lagrangian Hessian.............:        3\n",
      "\n",
      "Total number of variables............................:        3\n",
      "                     variables with only lower bounds:        0\n",
      "                variables with lower and upper bounds:        3\n",
      "                     variables with only upper bounds:        0\n",
      "Total number of equality constraints.................:        1\n",
      "Total number of inequality constraints...............:        0\n",
      "        inequality constraints with only lower bounds:        0\n",
      "   inequality constraints with lower and upper bounds:        0\n",
      "        inequality constraints with only upper bounds:        0\n",
      "\n",
      "iter    objective    inf_pr   inf_du lg(mu)  ||d||  lg(rg) alpha_du alpha_pr  ls\n",
      "   0  3.0825931e+03 5.47e+02 9.95e-01  -1.0 0.00e+00    -  0.00e+00 0.00e+00   0\n",
      "   1  7.4310688e+03 0.00e+00 1.83e+02  -1.0 2.75e+02    -  5.38e-03 1.00e+00h  1\n",
      "   2  7.3104340e+03 0.00e+00 6.96e-01  -1.0 9.05e+01    -  5.85e-01 1.00e+00f  1\n",
      "   3  7.2481090e+03 1.14e-13 4.63e-02  -1.0 7.14e+01    -  7.55e-01 1.00e+00f  1\n",
      "   4  7.2414821e+03 0.00e+00 1.77e-03  -1.0 1.08e+01    -  9.70e-01 1.00e+00f  1\n",
      "   5  7.2407694e+03 1.14e-13 1.21e-15  -1.7 1.22e+00    -  1.00e+00 1.00e+00f  1\n",
      "   6  7.2407430e+03 0.00e+00 4.44e-16  -3.8 2.45e-01    -  1.00e+00 1.00e+00f  1\n",
      "   7  7.2407429e+03 0.00e+00 9.14e-16  -5.7 1.01e-02    -  1.00e+00 1.00e+00f  1\n",
      "   8  7.2407429e+03 0.00e+00 5.40e-16  -8.6 3.19e-05    -  1.00e+00 1.00e+00f  1\n",
      "\n",
      "Number of Iterations....: 8\n",
      "\n",
      "                                   (scaled)                 (unscaled)\n",
      "Objective...............:   7.2407428536687912e+03    7.2407428536687912e+03\n",
      "Dual infeasibility......:   5.3969076796455640e-16    5.3969076796455640e-16\n",
      "Constraint violation....:   0.0000000000000000e+00    0.0000000000000000e+00\n",
      "Complementarity.........:   2.5204719372286981e-09    2.5204719372286981e-09\n",
      "Overall NLP error.......:   2.5204719372286981e-09    2.5204719372286981e-09\n",
      "\n",
      "\n",
      "Number of objective function evaluations             = 9\n",
      "Number of objective gradient evaluations             = 9\n",
      "Number of equality constraint evaluations            = 9\n",
      "Number of inequality constraint evaluations          = 0\n",
      "Number of equality constraint Jacobian evaluations   = 1\n",
      "Number of inequality constraint Jacobian evaluations = 0\n",
      "Number of Lagrangian Hessian evaluations             = 1\n",
      "Total CPU secs in IPOPT (w/o function evaluations)   =      0.005\n",
      "Total CPU secs in NLP function evaluations           =      0.000\n",
      "\n",
      "EXIT: Optimal Solution Found.\n",
      "\n",
      "\n",
      "Dispatch of Generators: [600.0, 192.85713855162825, 57.1428554526959] MW\n",
      "\n",
      "\n",
      "Total cost: 7240.742853668791$\n"
     ]
    }
   ],
   "source": [
    "# Define optmization model\n",
    "ed = Model(Ipopt.Optimizer)\n",
    "\n",
    "# Add continous variables\n",
    "@variable(ed, p_gmin[i] <= p_g[i=1:n] <= p_gmax[i]);\n",
    "\n",
    "#Define the objective funciton\n",
    "@objective(ed, Min, sum(a[i] + b[i]*p_g[i] + c[i]*p_g[i]^2 for i in 1:n));\n",
    "\n",
    "# Power balance constraint\n",
    "@constraint(ed, sum(p_g[i] for i in 1:n) == Pd);\n",
    "\n",
    "optimize!(ed);\n",
    "\n",
    "println(\"\\n\")\n",
    "println(\"Dispatch of Generators: \", value.(p_g), \" MW\")\n",
    "println(\"\\n\")\n",
    "println(\"Total cost: \", objective_value(ed), \"\\$\")"
   ]
  },
  {
   "cell_type": "markdown",
   "metadata": {},
   "source": [
    "\\begin{equation*}\n",
    "P_{G_1} = 600\\\\\n",
    "P_{G_2} = 192.8571\\\\\n",
    "P_{G_3} = 57.1428\n",
    "\\end{equation*}\n"
   ]
  }
 ],
 "metadata": {
  "kernelspec": {
   "display_name": "Julia 1.5.1",
   "language": "julia",
   "name": "julia-1.5"
  },
  "language_info": {
   "file_extension": ".jl",
   "mimetype": "application/julia",
   "name": "julia",
   "version": "1.5.2"
  }
 },
 "nbformat": 4,
 "nbformat_minor": 4
}
