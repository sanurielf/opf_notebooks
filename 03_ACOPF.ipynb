{
 "cells": [
  {
   "cell_type": "markdown",
   "metadata": {},
   "source": [
    "# Flujos de Potencia Óptimos (ACOPF)\n",
    "\n",
    "**Contribución de**: Uriel Sandoval\n",
    "\n",
    "Esta notebook contiene la implementación de un flujos de potencia óptimos en el lenguaje Julia.\n",
    "\n",
    "Para ejecutar los comandos los siguientes paquetes de Julia son necesarios:\n",
    "\n",
    "\n",
    "* [JuMP](https://jump.dev/)  \n",
    "* [Ipopt](https://github.com/coin-or/Ipopt): Solver para problemas no-lineales.\n",
    "* [PowerSystems](https://nrel-siip.github.io/PowerSystems.jl/stable/): Paquete para leer archivos de MatPower y PSS/E.\n",
    "\n",
    "Los paquetes pueden ser instalados de la siguiente forma:\n",
    "\n",
    "```Julia\n",
    "import Pkg;\n",
    "Pkg.add([\"JuMP\", \"Ipopt\", \"PowerSystems\"])\n",
    "```\n",
    "\n",
    "Los archivos de prueba fueron obtenidos del repositorio de [Power Grid Lib](https://github.com/power-grid-lib/pglib-opf), el cual es mantenido activamente por el [IEEE PES Task Force](https://arxiv.org/abs/1908.02788).\n",
    "\n",
    "En la literatura se pueden encontrar diversas formulaciones del ACOPF, sin embargo para propósitos educativos y tratando ser lo más claro posible, la formulación aquí mostrada es igual a la implementada en [Matpower](https://matpower.org/).\n",
    "\n",
    "Adicionalmente, el lector puede verificar sus resultados con los reportados en [The Power Grid Library for Benchmarking AC Optimal Power Flow Algorithms](https://arxiv.org/abs/1908.02788).\n"
   ]
  },
  {
   "cell_type": "markdown",
   "metadata": {},
   "source": [
    "Empezamos importando los paquetes necesarios"
   ]
  },
  {
   "cell_type": "code",
   "execution_count": 2,
   "metadata": {},
   "outputs": [
    {
     "name": "stderr",
     "output_type": "stream",
     "text": [
      "┌ Info: Precompiling PowerSystems [bcd98974-b02a-5e2f-9ee0-a103f5c450dd]\n",
      "└ @ Base loading.jl:1278\n"
     ]
    }
   ],
   "source": [
    "using JuMP, Ipopt;\n",
    "using PowerSystems;"
   ]
  },
  {
   "cell_type": "markdown",
   "metadata": {},
   "source": [
    "A continuación usamos la librería PowerSystems para leer el archivo *pglib_opf_case14_ieee.m*"
   ]
  },
  {
   "cell_type": "code",
   "execution_count": 4,
   "metadata": {},
   "outputs": [
    {
     "name": "stderr",
     "output_type": "stream",
     "text": [
      "┌ Info: extending matpower format with data: areas 1x3\n",
      "└ @ PowerSystems /Users/urielsandoval/.julia/packages/PowerSystems/KcYao/src/parsers/pm_io/matpower.jl:332\n",
      "┌ Info: removing 1 cost terms from generator 4: [4000.0, 0.0]\n",
      "└ @ PowerSystems /Users/urielsandoval/.julia/packages/PowerSystems/KcYao/src/parsers/pm_io/data.jl:1860\n",
      "┌ Info: removing 1 cost terms from generator 1: [1400.0, 0.0]\n",
      "└ @ PowerSystems /Users/urielsandoval/.julia/packages/PowerSystems/KcYao/src/parsers/pm_io/data.jl:1860\n",
      "┌ Info: removing 1 cost terms from generator 5: [1000.0, 0.0]\n",
      "└ @ PowerSystems /Users/urielsandoval/.julia/packages/PowerSystems/KcYao/src/parsers/pm_io/data.jl:1860\n",
      "┌ Info: removing 1 cost terms from generator 2: [1500.0, 0.0]\n",
      "└ @ PowerSystems /Users/urielsandoval/.julia/packages/PowerSystems/KcYao/src/parsers/pm_io/data.jl:1860\n",
      "┌ Info: removing 1 cost terms from generator 3: [3000.0, 0.0]\n",
      "└ @ PowerSystems /Users/urielsandoval/.julia/packages/PowerSystems/KcYao/src/parsers/pm_io/data.jl:1860\n"
     ]
    }
   ],
   "source": [
    "# Leemos los datos utilizando PowerSystems\n",
    "dat = PowerSystems.PowerModelsData(\"data/pglib_opf_case5_pjm.m\").data;\n",
    "\n",
    "# Los siguientes únicamente son aliases\n",
    "branches = dat[\"branch\"];\n",
    "buses = dat[\"bus\"];\n",
    "gens = dat[\"gen\"];\n",
    "loads = dat[\"load\"];\n",
    "shunts = dat[\"shunt\"];"
   ]
  },
  {
   "cell_type": "code",
   "execution_count": 5,
   "metadata": {},
   "outputs": [
    {
     "data": {
      "text/plain": [
       "Dict{String,Any} with 5 entries:\n",
       "  \"4\" => Dict{String,Any}(\"zone\"=>1,\"bus_i\"=>4,\"bus_type\"=>3,\"vmax\"=>1.1,\"sourc…\n",
       "  \"1\" => Dict{String,Any}(\"zone\"=>1,\"bus_i\"=>1,\"bus_type\"=>2,\"vmax\"=>1.1,\"sourc…\n",
       "  \"5\" => Dict{String,Any}(\"zone\"=>1,\"bus_i\"=>5,\"bus_type\"=>2,\"vmax\"=>1.1,\"sourc…\n",
       "  \"2\" => Dict{String,Any}(\"zone\"=>1,\"bus_i\"=>2,\"bus_type\"=>1,\"vmax\"=>1.1,\"sourc…\n",
       "  \"3\" => Dict{String,Any}(\"zone\"=>1,\"bus_i\"=>3,\"bus_type\"=>2,\"vmax\"=>1.1,\"sourc…"
      ]
     },
     "execution_count": 5,
     "metadata": {},
     "output_type": "execute_result"
    }
   ],
   "source": [
    "buses"
   ]
  },
  {
   "cell_type": "code",
   "execution_count": 6,
   "metadata": {},
   "outputs": [
    {
     "data": {
      "text/plain": [
       "Dict{String,Any} with 5 entries:\n",
       "  \"4\" => Dict{String,Any}(\"pg\"=>1.0,\"model\"=>2,\"shutdown\"=>0.0,\"startup\"=>0.0,\"…\n",
       "  \"1\" => Dict{String,Any}(\"pg\"=>0.2,\"model\"=>2,\"shutdown\"=>0.0,\"startup\"=>0.0,\"…\n",
       "  \"5\" => Dict{String,Any}(\"pg\"=>3.0,\"model\"=>2,\"shutdown\"=>0.0,\"startup\"=>0.0,\"…\n",
       "  \"2\" => Dict{String,Any}(\"pg\"=>0.85,\"model\"=>2,\"shutdown\"=>0.0,\"startup\"=>0.0,…\n",
       "  \"3\" => Dict{String,Any}(\"pg\"=>2.6,\"model\"=>2,\"shutdown\"=>0.0,\"startup\"=>0.0,\"…"
      ]
     },
     "execution_count": 6,
     "metadata": {},
     "output_type": "execute_result"
    }
   ],
   "source": [
    "gens"
   ]
  },
  {
   "cell_type": "code",
   "execution_count": 7,
   "metadata": {},
   "outputs": [
    {
     "name": "stdout",
     "output_type": "stream",
     "text": [
      "B = [\"4\", \"1\", \"5\", \"2\", \"3\"]\n",
      "L = [\"4\", \"1\", \"5\", \"2\", \"6\", \"3\"]\n"
     ]
    },
    {
     "data": {
      "text/plain": [
       "Base.KeySet for a Dict{String,Any} with 6 entries. Keys:\n",
       "  \"4\"\n",
       "  \"1\"\n",
       "  \"5\"\n",
       "  \"2\"\n",
       "  \"6\"\n",
       "  \"3\""
      ]
     },
     "execution_count": 7,
     "metadata": {},
     "output_type": "execute_result"
    }
   ],
   "source": [
    "# Creamos los conjuntos a ser utilizados en los indices de JuMP\n",
    "B = keys(buses);\n",
    "L = keys(branches);\n",
    "G = keys(gens);\n",
    "C = keys(loads);\n",
    "S = keys(shunts);\n",
    "\n",
    "@show(B)\n",
    "@show(L)"
   ]
  },
  {
   "cell_type": "code",
   "execution_count": 8,
   "metadata": {},
   "outputs": [],
   "source": [
    "##  Creamos un mapeo  bus -> elemento, para los dispositivos de una terminal\n",
    "\n",
    "# Mapeo: bus -> [cargas]\n",
    "load_map = Dict((i, String[]) for i in B);\n",
    "for (key, load) in loads\n",
    "    push!(load_map[string(load[\"load_bus\"])], key)\n",
    "end\n",
    "\n",
    "# Mapeo: bus -> [gens]\n",
    "gen_map = Dict((i, String[]) for i in keys(buses));\n",
    "for (key, load) in gens\n",
    "    push!(gen_map[string(load[\"gen_bus\"])], key)\n",
    "end\n",
    "\n",
    "# Mapeo: bus -> [shunts]\n",
    "shunt_map = Dict((i, String[]) for i in keys(buses));\n",
    "for (key, load) in shunts\n",
    "    push!(shunt_map[string(load[\"shunt_bus\"])], key)\n",
    "end"
   ]
  },
  {
   "cell_type": "markdown",
   "metadata": {},
   "source": [
    "## Modelado de la red eléctrica\n",
    "\n",
    "Esta sección presenta el modelado de la red eléctrica utilizando JuMP. Se consideran los elementos más importantes de un sistemas de potencia:\n",
    "\n",
    "* Nodos.\n",
    "* Ramas (lineas de transmisión y transformadores).\n",
    "* Cargas y equipos de compensación shunt.\n",
    "* Generadores\n",
    "\n",
    "\n"
   ]
  },
  {
   "cell_type": "code",
   "execution_count": 9,
   "metadata": {},
   "outputs": [],
   "source": [
    "# Creamos el modelo de JuMP y asignamos el solver a utilizar (Ipopt)\n",
    "mod = Model(Ipopt.Optimizer);"
   ]
  },
  {
   "cell_type": "markdown",
   "metadata": {},
   "source": [
    "### Nodo\n",
    "\n",
    "Los nodos son elementos topológicos y son la unidad mínima de modelado en una red eléctrica. Los elementos *shunt* (cargas, reactores, generadores, etc) están conectados a un bus, mientras que los elementos serie están conectados a dos o más buses al mismo tiempo.\n",
    "\n",
    "\n",
    "Considerando un sistema balanceado y una representación de secuencia positiva, cada nodo tiene varias valores complejos asociados: un voltaje fasorial, inyecciones de potencia y corriente complejas. El voltaje puede ser representado en coordenadas poalres como: $\\bar v = v e^{j\\delta}$. Siguiendo esta representación cada nodo tiene un dos variables reales asociadas: magnitud de voltaje $v$ y ángulo de voltaje $\\delta$.\n",
    "\n",
    "Estas dos variables deben de ser consideradas para cada bus $k \\in \\mathcal{B}$. Adicionalmente, la magnitud de voltaje de cada bus deberá permanecer dentro de límites:\n",
    "\n",
    "$$\n",
    "v_k^{\\min} \\leq v_k \\leq v_k^{\\max} \\quad \\forall k \\in \\mathcal{B}\n",
    "$$,\n",
    "\n",
    "Por último, para el nodo de referencia angular se deberá considerar la siguiente restricción:\n",
    "\n",
    "\n",
    "$$\n",
    "\\delta_{\\text{swing}} = \\delta^{\\text{ref}}\n",
    "$$."
   ]
  },
  {
   "cell_type": "code",
   "execution_count": 10,
   "metadata": {},
   "outputs": [],
   "source": [
    "@variable(mod, buses[k][\"vmin\"] <= v[k in B] <= buses[k][\"vmax\"], start = 1.0);\n",
    "\n",
    "@variable(mod, δ[k in B], start = 0.0);\n",
    "\n",
    "\n",
    "for (k, bus_data) in buses\n",
    "    \n",
    "    # Limites de voltaje \n",
    "    #set_lower_bound(v[k], bus_data[\"vmin\"]);\n",
    "    #set_upper_bound(v[k], bus_data[\"vmax\"]);\n",
    "\n",
    "    # Referencia angular para el nodo \"slack\"\n",
    "    if (bus_data[\"bus_type\"] == 3)\n",
    "        set_lower_bound(δ[k], bus_data[\"va\"]);\n",
    "        set_upper_bound(δ[k], bus_data[\"va\"]);\n",
    "    end\n",
    "end"
   ]
  },
  {
   "cell_type": "markdown",
   "metadata": {},
   "source": [
    "Notar que en Julia podemos definir cualquier caracter Unicode. Para la lista completa consultar la [documentación de Julia](https://docs.julialang.org/en/v1/manual/unicode-input/)."
   ]
  },
  {
   "cell_type": "code",
   "execution_count": 11,
   "metadata": {},
   "outputs": [
    {
     "data": {
      "text/plain": [
       "1-dimensional DenseAxisArray{VariableRef,1,...} with index sets:\n",
       "    Dimension 1, [\"4\", \"1\", \"5\", \"2\", \"3\"]\n",
       "And data, a 5-element Array{VariableRef,1}:\n",
       " v[4]\n",
       " v[1]\n",
       " v[5]\n",
       " v[2]\n",
       " v[3]"
      ]
     },
     "execution_count": 11,
     "metadata": {},
     "output_type": "execute_result"
    }
   ],
   "source": [
    "v"
   ]
  },
  {
   "cell_type": "code",
   "execution_count": 12,
   "metadata": {},
   "outputs": [
    {
     "data": {
      "text/latex": [
       "$ v_{4} \\leq 1.1 $"
      ],
      "text/plain": [
       "v[4] ≤ 1.1"
      ]
     },
     "execution_count": 12,
     "metadata": {},
     "output_type": "execute_result"
    }
   ],
   "source": [
    "UpperBoundRef(v[\"4\"])"
   ]
  },
  {
   "cell_type": "code",
   "execution_count": 13,
   "metadata": {},
   "outputs": [
    {
     "data": {
      "text/latex": [
       "$ v_{1} \\geq 0.9 $"
      ],
      "text/plain": [
       "v[1] ≥ 0.9"
      ]
     },
     "execution_count": 13,
     "metadata": {},
     "output_type": "execute_result"
    }
   ],
   "source": [
    "LowerBoundRef(v[\"1\"])"
   ]
  },
  {
   "attachments": {
    "image.png": {
     "image/png": "[encoded data removed]"
    }
   },
   "cell_type": "markdown",
   "metadata": {},
   "source": [
    "### Branch model\n",
    "\n",
    "The following branch model is a positive sequence model. This model has a series impedance $\\bar z_{s} = r_{s} + jx_{s} = \\bar y_{s}^{-1}$ and a total shunt susceptance\n",
    "$b^{sh} = 2b^{sh}_k= 2b^{sh}_m$. The transformer, with a tap ratio that has a magnitude $\\tau$ and a phase shift angle $\\theta$, is located at the sending end of the branch, as shown in the following figure:\n",
    "\n",
    "\n",
    "![image.png](attachment:image.png)\n",
    "\n",
    "\n",
    "\n",
    "From this equivalent circuit, the complex power injected at each bus is\n",
    "\n",
    "$$\n",
    "      \\begin{align}\n",
    "        \\bar s_k &= \\bar v_k \\bar i_k ^*\\\\\n",
    "        \\bar s_m &= \\bar v_m \\bar i_m ^*\\,.\n",
    "      \\end{align}\n",
    "$$\n",
    "\n",
    "From Kirchhoff’s current law, the injected current $\\bar i_k$ is written as\n",
    "\n",
    "$$\n",
    "      \\begin{equation}\n",
    "        \\bar  n^* i_k = \\bar i_{km} + \\bar i_{k}^{sh}\\,,\n",
    "      \\end{equation}\n",
    "$$\n",
    "\n",
    "which can be expressed in terms of nodal voltages as\n",
    "$$\n",
    "      \\begin{align}\n",
    "          \\bar n ^* \\bar i_k &= \\bar y_{s}\\left(\\bar v_x - \\bar v_m\\right) +\n",
    "                     jb_k^{sh}\\bar v_x \\\\\n",
    "                   &= \\frac{\\bar v_k}{\\bar n} \\left(\\bar y_{s} + jb_k^{sh}\\right) - \\bar v_m \\bar y_{s} \\\\\n",
    "        \\bar i_k &= \\frac{\\bar v_k}{\\tau^2} \\left(\\bar y_{s} + jb_k^{sh}\\right) - \\frac{\\bar  v_m}{\\bar n^*}\\bar y_{s} \\,,\\label{eq: ik}\n",
    "      \\end{align}\n",
    "$$\n",
    "\n",
    "Applying the same procedure of analysis to bus $m$ yields\n",
    "\n",
    "$$\n",
    "      \\begin{align}\n",
    "        \\bar i_m &= \\bar v_m \\left(\\bar y_{s} + jb_m^{sh}\\right) - \\frac{\\bar v_k}{\\bar n} \\bar y_s \\,. \\label{eq: im}\n",
    "      \\end{align}\n",
    "$$\n",
    "By representing $\\bar i_k$ and $\\bar i_m$ in a matrix form the later current equations are written as\n",
    "\n",
    "$$\n",
    "      \\begin{align}\n",
    "        \\begin{bmatrix}\n",
    "        \\bar i_k\\\\\n",
    "        \\bar i_m\n",
    "        \\end{bmatrix} &=\n",
    "        \\begin{bmatrix}\n",
    "        \\frac{1}{\\tau ^2}\\left(\\bar y_s + jb_k^{sh}\\right) &  - \\frac{1}{\\bar n^*}\\bar y_s \\\\\n",
    "        -\\frac{1}{\\bar n}\\bar y_s                  & \\bar y_s + jb_m^{sh}\n",
    "        \\end{bmatrix}\n",
    "        \\begin{bmatrix}\n",
    "        \\bar v_k \\\\\n",
    "        \\bar v_m\n",
    "        \\end{bmatrix}\\\\\n",
    "        &=\\begin{bmatrix}\n",
    "          \\bar Y_{kk}  & \\bar Y_{km}\\\\\n",
    "          \\bar Y_{mk}  & \\bar Y_{mm}\n",
    "          \\end{bmatrix}\n",
    "          \\begin{bmatrix}\n",
    "          \\bar v_k \\\\\n",
    "          v_m\n",
    "          \\end{bmatrix}\\,.\n",
    "      \\end{align}\n",
    "$$\n",
    "\n",
    "From the above representation, the net power flow injected at $k$ and $m$ is calculated as follows for the element $l$:\n",
    "\n",
    "$$\n",
    "      \\begin{align}\n",
    "        p_{l,k} &= v_k^2 G_{kk} + v_kv_m\\left(G_{km} \\cos{\\delta_{km}} + B_{km} \\sin{\\delta_{km}}\\right) \\label{eq: p_k}\\\\\n",
    "        q_{l,k} &=-v_k^2 B_{kk} + v_kv_m\\left(G_{km} \\sin{\\delta_{km}} - B_{km} \\cos{\\delta_{km}}\\right) \\label{eq: q_k}\\\\\n",
    "        p_{l,m} &= v_m^2 G_{mm} + v_m v_k\\left(G_{mk} \\cos{\\delta_{mk}} + B_{mk} \\sin{\\delta_{mk}}\\right) \\label{eq: p_m}\\\\\n",
    "        q_{l,m} &=-v_m^2 B_{mm} + v_m v_k\\left(G_{mk} \\sin{\\delta_{mk}} - B_{mk} \\cos{\\delta_{mk}}\\right) \\label{eq: q_m}\\,,\n",
    "      \\end{align}\n",
    "$$\n",
    "\n",
    "where\n",
    "$$\n",
    "      \\begin{align}\n",
    "        \\delta_{km} &= \\delta_k-\\delta_m = -\\delta_{mk}\\\\\n",
    "        \\bar Y_{km} &= G_{km} + jB_{km}\\,. \\\\\n",
    "      \\end{align}\n",
    "$$\n",
    "\n",
    "\n",
    "Then, to compute the power flow in the transmission network elements it is necessary to get $\\bar Y_{kk}$, $\\bar Y_{km}$, $\\bar Y_{mk}$, and $\\bar Y_{mm}$.\n",
    "\n",
    "Additionally the following restrictions limit the power flow in each transmission element:\n",
    "\n",
    "$$\n",
    "p_{l,k}^2 + q_{l,k}^2 \\leq {s_l^{\\max}}^2 \\\\\n",
    "p_{l,m}^2 + q_{l,m}^2 \\leq {s_l^{\\max}}^2\n",
    "$$\n",
    "\n"
   ]
  },
  {
   "cell_type": "code",
   "execution_count": 14,
   "metadata": {},
   "outputs": [],
   "source": [
    "# Next dictionaries map bus->{Pkm, Qkm, Pmk, Qmk} \n",
    "Pinj_f_bra = Dict((k, []) for k in B);\n",
    "Pinj_t_bra = Dict((k, []) for k in B);\n",
    "Qinj_f_bra = Dict((k, []) for k in B);\n",
    "Qinj_t_bra = Dict((k, []) for k in B);\n",
    "\n",
    "\n",
    "for brn in values(branches)\n",
    "    \n",
    "    # Nodos k y m\n",
    "    k = string(brn[\"f_bus\"]);\n",
    "    m = string(brn[\"t_bus\"]);\n",
    "    \n",
    "    # Calculamos la admitancia serie entre los nodos k y m\n",
    "    Ys = 1.0 /(brn[\"br_r\"] + im * brn[\"br_x\"]);\n",
    "    Bc = brn[\"b_fr\"];\n",
    "    Gc = brn[\"g_fr\"];\n",
    "    # Calculamos el tap complejo (magnitud de tap y ángulo de desfase)\n",
    "    cTap = brn[\"tap\"] * exp(deg2rad(brn[\"shift\"])  * im  )\n",
    "    \n",
    "    # Admitancia vista desde el nodo m\n",
    "    Ymm =  Ys + Gc + im*Bc;\n",
    "    # Admitancia vista desde el nodo k\n",
    "    Ykk = Ymm / brn[\"tap\"]^2;\n",
    "    # Admitancia entre los nodos k y m\n",
    "    Ykm =  - Ys /conj(cTap);\n",
    "    # Admitancia entre los nodos m y k\n",
    "    Ymk = - Ys /cTap\n",
    "    brn[\"Gkk\"] = real(Ykk); brn[\"Bkk\"] = imag(Ykk);\n",
    "    brn[\"Gkm\"] = real(Ykm); brn[\"Bkm\"] = imag(Ykm);\n",
    "    brn[\"Gmm\"] = real(Ymm); brn[\"Bmm\"] = imag(Ymm);\n",
    "    brn[\"Gmk\"] = real(Ymk); brn[\"Bmk\"] = imag(Ymk);\n",
    "        \n",
    "    if (brn[\"br_status\"] == 0)\n",
    "        @info(\"La rama %s entre los nodos %d y %d está inactiva\", key, brn[\"f_bus\"], brn[\"t_bus\"])\n",
    "        continue\n",
    "    end\n",
    "    \n",
    "    # Expresion no-lineal del flujo de potencia activa y reactiva entre el nodo k y m\n",
    "    Pkm = @NLexpression(mod, v[k]^2 * brn[\"Gkk\"] +\n",
    "                             v[k] * v[m] * (brn[\"Gkm\"] *  cos(δ[k] - δ[m]) +\n",
    "                                            brn[\"Bkm\"] *  sin(δ[k] - δ[m])));\n",
    "    Qkm = @NLexpression(mod, -v[k]^2 * brn[\"Bkk\"] +\n",
    "                             v[k] * v[m] * (brn[\"Gkm\"] *  sin(δ[k] - δ[m]) -\n",
    "                                            brn[\"Bkm\"] *  cos(δ[k] - δ[m])));\n",
    "\n",
    "    # Expresion no-lineal del flujo de potencia activa y reactiva entre el nodo m y k\n",
    "    Pmk = @NLexpression(mod, v[m]^2 * brn[\"Gmm\"] +\n",
    "                             v[m] * v[k] * (brn[\"Gmk\"] *  cos(δ[m] - δ[k]) +\n",
    "                                            brn[\"Bmk\"] *  sin(δ[m] - δ[k])));\n",
    "    Qmk = @NLexpression(mod, -v[m]^2 * brn[\"Bmm\"] +\n",
    "                             v[m] * v[k] * (brn[\"Gmk\"] *  sin(δ[m] - δ[k]) -\n",
    "                                            brn[\"Bmk\"] *  cos(δ[m] - δ[k])));\n",
    "\n",
    "    # Incluímos la expresión no-lineal en cada una de las listas de inyecciones a nivel nodo\n",
    "    push!(Pinj_f_bra[k], Pkm);\n",
    "    push!(Qinj_f_bra[k], Qkm);\n",
    "    push!(Pinj_t_bra[m], Pmk);\n",
    "    push!(Qinj_t_bra[m], Qmk);\n",
    "\n",
    "    # En caso que tengamos un límite térmico que cuidar. Agregamos la restricción\n",
    "    if (brn[\"rate_a\"] > 0)\n",
    "        # Restricción de potencia aparente: Skm <= Smax\n",
    "        @NLconstraint(mod, Pkm^2 + Qkm^2 <= brn[\"rate_a\"]^2);\n",
    "        # Restricción de potencia aparnte: Smk <= Smax\n",
    "        @NLconstraint(mod, Pmk^2 + Qmk^2 <= brn[\"rate_a\"]^2);\n",
    "    end\n",
    "    \n",
    "    \n",
    "end"
   ]
  },
  {
   "cell_type": "code",
   "execution_count": 15,
   "metadata": {},
   "outputs": [
    {
     "data": {
      "text/plain": [
       "Dict{String,Array{Any,1}} with 5 entries:\n",
       "  \"4\" => Any[\"Reference to nonlinear expression #17\"]\n",
       "  \"1\" => Any[\"Reference to nonlinear expression #5\", \"Reference to nonlinear ex…\n",
       "  \"5\" => Any[]\n",
       "  \"2\" => Any[\"Reference to nonlinear expression #1\"]\n",
       "  \"3\" => Any[\"Reference to nonlinear expression #9\"]"
      ]
     },
     "execution_count": 15,
     "metadata": {},
     "output_type": "execute_result"
    }
   ],
   "source": [
    "Pinj_f_bra"
   ]
  },
  {
   "cell_type": "markdown",
   "metadata": {},
   "source": [
    "### Generator\n",
    "\n",
    "Let $\\mathcal{G}$ denote the set of generators. Define $p_{G_i}$ and $q_{G_i}$, respectively, as the active and reactive power outputs of the generator $i \\in \\mathcal{G}$. Each of these two variables is limited by upper and lower limits,\n",
    "\n",
    "\n",
    "$$\n",
    "p_{G_i}^{\\min} \\leq p_{G_i} \\leq p_{G_i}^{\\max} \\quad \\forall i \\in \\mathcal{G} \\\\\n",
    "q_{G_i}^{\\min} \\leq q_{G_i} \\leq q_{G_i}^{\\max} \\quad \\forall i \\in \\mathcal{G}\n",
    "$$."
   ]
  },
  {
   "cell_type": "code",
   "execution_count": 16,
   "metadata": {},
   "outputs": [],
   "source": [
    "@variable(mod, gens[i][\"pmin\"] <= Pg[i in G] <= gens[i][\"pmax\"]);\n",
    "@variable(mod, gens[i][\"qmin\"] <= Qg[i in G] <= gens[i][\"qmax\"]);\n",
    "\n"
   ]
  },
  {
   "cell_type": "code",
   "execution_count": 17,
   "metadata": {},
   "outputs": [
    {
     "name": "stdout",
     "output_type": "stream",
     "text": [
      "4\n",
      "Pg[4] ≤ 2.0\n",
      "Pg[4] ≥ 0.0\n",
      "1\n",
      "Pg[1] ≤ 0.4\n",
      "Pg[1] ≥ 0.0\n",
      "5\n",
      "Pg[5] ≤ 6.0\n",
      "Pg[5] ≥ 0.0\n",
      "2\n",
      "Pg[2] ≤ 1.7\n",
      "Pg[2] ≥ 0.0\n",
      "3\n",
      "Pg[3] ≤ 5.2\n",
      "Pg[3] ≥ 0.0\n"
     ]
    }
   ],
   "source": [
    "for i in G\n",
    "    println(i)\n",
    "    println(UpperBoundRef(Pg[i]))\n",
    "    println(LowerBoundRef(Pg[i]))\n",
    "end"
   ]
  },
  {
   "cell_type": "markdown",
   "metadata": {},
   "source": [
    "### Ecuaciones de balance de potencia nodal\n",
    "\n",
    "\n",
    "Siguiendo la ley de Kirchhoff, sabemos que la suma de corrientes (en este caso potencias) en un nodo debe ser cero:\n",
    "\n",
    "\n",
    "$$\n",
    "\\sum_{i \\in \\mathcal{G}} p_{G_i} - \\sum_{i \\in \\mathcal{C}} p_{L_i} - \n",
    "\\sum_{s \\in \\mathcal{S}} v_i^2 g_{s} - \\sum_{(k,m) \\in \\mathcal{E}} p_{km}  -\n",
    "\\sum_{(m,k) \\in \\mathcal{E}} p_{mk} = 0 \\quad \\forall k \\in \\mathcal{B} \\\\\n",
    "\\sum_{i \\in \\mathcal{G}} q_{G_i} - \\sum_{i \\in \\mathcal{C}} q_{L_i} + \n",
    "\\sum_{s \\in \\mathcal{S}} v_i^2 b_{s} - \\sum_{(k,m) \\in \\mathcal{E}} q_{km}  -\n",
    "\\sum_{(m,k) \\in \\mathcal{E}} q_{mk} = 0 \\quad \\forall k \\in \\mathcal{B}\n",
    "$$"
   ]
  },
  {
   "cell_type": "code",
   "execution_count": 18,
   "metadata": {},
   "outputs": [],
   "source": [
    "# Pg - Pd - Psh - Pkm == 0\n",
    "@NLconstraint(mod, dP[k in B], sum(Pg[i] for i in gen_map[k]) -\n",
    "                               sum(loads[load][\"pd\"] for load in load_map[k]) -\n",
    "                               sum(shunts[shunt][\"gs\"] * v[k]^2 for shunt in shunt_map[k]) -\n",
    "                               sum(Pkm for Pkm in Pinj_f_bra[k]) -\n",
    "                               sum(Pmk for Pmk in Pinj_t_bra[k]) ==0 );\n",
    "# Qg - Qd + Qsh - Qkm == 0\n",
    "@NLconstraint(mod, dQ[k in B], sum(Qg[i] for i in gen_map[k]) -\n",
    "                               sum(loads[load][\"qd\"] for load in load_map[k]) +\n",
    "                               sum(shunts[shunt][\"bs\"] * v[k]^2 for shunt in shunt_map[k]) -\n",
    "                               sum(Qkm for Qkm in Qinj_f_bra[k]) -\n",
    "                               sum(Qmk for Qmk in Qinj_t_bra[k]) ==0 );\n"
   ]
  },
  {
   "cell_type": "markdown",
   "metadata": {},
   "source": [
    "### Función objetivo\n",
    "\n",
    "La función objetivo del problema de flujos óptimos es minimizar el costo de producción total:\n",
    "\n",
    "$$\n",
    "\\min \\sum_{i \\in \\mathcal{G}} f_{C_i}\\left( P_{G_i} \\right) = \\sum_{i \\in \\mathcal{G}}\\left( c_i P_{G_i}^2 + b_i P_{G_i} + c_i \\right)\n",
    "$$\n"
   ]
  },
  {
   "cell_type": "code",
   "execution_count": 19,
   "metadata": {},
   "outputs": [],
   "source": [
    "@objective(mod, Min, \n",
    "    sum(sum(gen[\"cost\"][j] * Pg[i] ^(gen[\"ncost\"] - j) for j in 1:gen[\"ncost\"]) for (i, gen) in gens));"
   ]
  },
  {
   "cell_type": "code",
   "execution_count": 20,
   "metadata": {},
   "outputs": [
    {
     "data": {
      "text/latex": [
       "$$ \\begin{alignat*}{1}\\min\\quad & 4000 Pg_{4} + 1400 Pg_{1} + 1000 Pg_{5} + 1500 Pg_{2} + 3000 Pg_{3}\\\\\n",
       "\\text{Subject to} \\quad & v_{4} \\geq 0.9\\\\\n",
       " & v_{1} \\geq 0.9\\\\\n",
       " & v_{5} \\geq 0.9\\\\\n",
       " & v_{2} \\geq 0.9\\\\\n",
       " & v_{3} \\geq 0.9\\\\\n",
       " & δ_{4} \\geq 0.0\\\\\n",
       " & Pg_{4} \\geq 0.0\\\\\n",
       " & Pg_{1} \\geq 0.0\\\\\n",
       " & Pg_{5} \\geq 0.0\\\\\n",
       " & Pg_{2} \\geq 0.0\\\\\n",
       " & Pg_{3} \\geq 0.0\\\\\n",
       " & Qg_{4} \\geq -1.5\\\\\n",
       " & Qg_{1} \\geq -0.3\\\\\n",
       " & Qg_{5} \\geq -4.5\\\\\n",
       " & Qg_{2} \\geq -1.275\\\\\n",
       " & Qg_{3} \\geq -3.9\\\\\n",
       " & v_{4} \\leq 1.1\\\\\n",
       " & v_{1} \\leq 1.1\\\\\n",
       " & v_{5} \\leq 1.1\\\\\n",
       " & v_{2} \\leq 1.1\\\\\n",
       " & v_{3} \\leq 1.1\\\\\n",
       " & δ_{4} \\leq 0.0\\\\\n",
       " & Pg_{4} \\leq 2.0\\\\\n",
       " & Pg_{1} \\leq 0.4\\\\\n",
       " & Pg_{5} \\leq 6.0\\\\\n",
       " & Pg_{2} \\leq 1.7\\\\\n",
       " & Pg_{3} \\leq 5.2\\\\\n",
       " & Qg_{4} \\leq 1.5\\\\\n",
       " & Qg_{1} \\leq 0.3\\\\\n",
       " & Qg_{5} \\leq 4.5\\\\\n",
       " & Qg_{2} \\leq 1.275\\\\\n",
       " & Qg_{3} \\leq 3.9\\\\\n",
       " & (subexpression_{1} ^ 2.0 + subexpression_{2} ^ 2.0) - 4.26 ^ 2.0 \\leq 0\\\\\n",
       " & (subexpression_{3} ^ 2.0 + subexpression_{4} ^ 2.0) - 4.26 ^ 2.0 \\leq 0\\\\\n",
       " & (subexpression_{5} ^ 2.0 + subexpression_{6} ^ 2.0) - 4.0 ^ 2.0 \\leq 0\\\\\n",
       " & (subexpression_{7} ^ 2.0 + subexpression_{8} ^ 2.0) - 4.0 ^ 2.0 \\leq 0\\\\\n",
       " & (subexpression_{9} ^ 2.0 + subexpression_{10} ^ 2.0) - 4.26 ^ 2.0 \\leq 0\\\\\n",
       " & (subexpression_{11} ^ 2.0 + subexpression_{12} ^ 2.0) - 4.26 ^ 2.0 \\leq 0\\\\\n",
       " & (subexpression_{13} ^ 2.0 + subexpression_{14} ^ 2.0) - 4.26 ^ 2.0 \\leq 0\\\\\n",
       " & (subexpression_{15} ^ 2.0 + subexpression_{16} ^ 2.0) - 4.26 ^ 2.0 \\leq 0\\\\\n",
       " & (subexpression_{17} ^ 2.0 + subexpression_{18} ^ 2.0) - 2.4 ^ 2.0 \\leq 0\\\\\n",
       " & (subexpression_{19} ^ 2.0 + subexpression_{20} ^ 2.0) - 2.4 ^ 2.0 \\leq 0\\\\\n",
       " & (subexpression_{21} ^ 2.0 + subexpression_{22} ^ 2.0) - 4.26 ^ 2.0 \\leq 0\\\\\n",
       " & (subexpression_{23} ^ 2.0 + subexpression_{24} ^ 2.0) - 4.26 ^ 2.0 \\leq 0\\\\\n",
       " & ((((+Pg_{4} - +4.0) - 0) - +subexpression_{17}) - (subexpression_{11} + subexpression_{15})) - 0.0 = 0\\\\\n",
       " & (((((Pg_{1} + Pg_{2}) - 0) - 0) - (subexpression_{5} + subexpression_{13} + subexpression_{21})) - 0) - 0.0 = 0\\\\\n",
       " & ((((+Pg_{5} - 0) - 0) - 0) - (subexpression_{19} + subexpression_{23})) - 0.0 = 0\\\\\n",
       " & ((((0 - +3.0) - 0) - +subexpression_{1}) - +subexpression_{7}) - 0.0 = 0\\\\\n",
       " & ((((+Pg_{3} - +3.0) - 0) - +subexpression_{9}) - +subexpression_{3}) - 0.0 = 0\\\\\n",
       " & ((((+Qg_{4} - +1.3147) + 0) - +subexpression_{18}) - (subexpression_{12} + subexpression_{16})) - 0.0 = 0\\\\\n",
       " & (((((Qg_{1} + Qg_{2}) - 0) + 0) - (subexpression_{6} + subexpression_{14} + subexpression_{22})) - 0) - 0.0 = 0\\\\\n",
       " & ((((+Qg_{5} - 0) + 0) - 0) - (subexpression_{20} + subexpression_{24})) - 0.0 = 0\\\\\n",
       " & ((((0 - +0.9861) + 0) - +subexpression_{2}) - +subexpression_{8}) - 0.0 = 0\\\\\n",
       " & ((((+Qg_{3} - +0.9861) + 0) - +subexpression_{10}) - +subexpression_{4}) - 0.0 = 0\\\\\n",
       "\\text{With NL expressions} \\quad & subexpression_{1}: v_{2} ^ 2.0 * 9.167583425009166 + v_{2} * v_{3} * (-9.167583425009166 * cos(δ_{2} - δ_{3}) + 91.67583425009167 * sin(δ_{2} - δ_{3}))\\\\\n",
       " & subexpression_{2}: -(v_{2} ^ 2.0) * -91.66657425009167 + v_{2} * v_{3} * (-9.167583425009166 * sin(δ_{2} - δ_{3}) - 91.67583425009167 * cos(δ_{2} - δ_{3}))\\\\\n",
       " & subexpression_{3}: v_{3} ^ 2.0 * 9.167583425009166 + v_{3} * v_{2} * (-9.167583425009166 * cos(δ_{3} - δ_{2}) + 91.67583425009167 * sin(δ_{3} - δ_{2}))\\\\\n",
       " & subexpression_{4}: -(v_{3} ^ 2.0) * -91.66657425009167 + v_{3} * v_{2} * (-9.167583425009166 * sin(δ_{3} - δ_{2}) - 91.67583425009167 * cos(δ_{3} - δ_{2}))\\\\\n",
       " & subexpression_{5}: v_{1} ^ 2.0 * 3.5234840209999647 + v_{1} * v_{2} * (-3.5234840209999647 * cos(δ_{1} - δ_{2}) + 35.234840209999646 * sin(δ_{1} - δ_{2}))\\\\\n",
       " & subexpression_{6}: -(v_{1} ^ 2.0) * -35.231280209999646 + v_{1} * v_{2} * (-3.5234840209999647 * sin(δ_{1} - δ_{2}) - 35.234840209999646 * cos(δ_{1} - δ_{2}))\\\\\n",
       " & subexpression_{7}: v_{2} ^ 2.0 * 3.5234840209999647 + v_{2} * v_{1} * (-3.5234840209999647 * cos(δ_{2} - δ_{1}) + 35.234840209999646 * sin(δ_{2} - δ_{1}))\\\\\n",
       " & subexpression_{8}: -(v_{2} ^ 2.0) * -35.231280209999646 + v_{2} * v_{1} * (-3.5234840209999647 * sin(δ_{2} - δ_{1}) - 35.234840209999646 * cos(δ_{2} - δ_{1}))\\\\\n",
       " & subexpression_{9}: v_{3} ^ 2.0 * 3.3336667000033335 + v_{3} * v_{4} * (-3.3336667000033335 * cos(δ_{3} - δ_{4}) + 33.33666700003334 * sin(δ_{3} - δ_{4}))\\\\\n",
       " & subexpression_{10}: -(v_{3} ^ 2.0) * -33.33329700003334 + v_{3} * v_{4} * (-3.3336667000033335 * sin(δ_{3} - δ_{4}) - 33.33666700003334 * cos(δ_{3} - δ_{4}))\\\\\n",
       " & subexpression_{11}: v_{4} ^ 2.0 * 3.3336667000033335 + v_{4} * v_{3} * (-3.3336667000033335 * cos(δ_{4} - δ_{3}) + 33.33666700003334 * sin(δ_{4} - δ_{3}))\\\\\n",
       " & subexpression_{12}: -(v_{4} ^ 2.0) * -33.33329700003334 + v_{4} * v_{3} * (-3.3336667000033335 * sin(δ_{4} - δ_{3}) - 33.33666700003334 * cos(δ_{4} - δ_{3}))\\\\\n",
       " & subexpression_{13}: v_{1} ^ 2.0 * 3.2569046378322044 + v_{1} * v_{4} * (-3.2569046378322044 * cos(δ_{1} - δ_{4}) + 32.56904637832204 * sin(δ_{1} - δ_{4}))\\\\\n",
       " & subexpression_{14}: -(v_{1} ^ 2.0) * -32.56575637832204 + v_{1} * v_{4} * (-3.2569046378322044 * sin(δ_{1} - δ_{4}) - 32.56904637832204 * cos(δ_{1} - δ_{4}))\\\\\n",
       " & subexpression_{15}: v_{4} ^ 2.0 * 3.2569046378322044 + v_{4} * v_{1} * (-3.2569046378322044 * cos(δ_{4} - δ_{1}) + 32.56904637832204 * sin(δ_{4} - δ_{1}))\\\\\n",
       " & subexpression_{16}: -(v_{4} ^ 2.0) * -32.56575637832204 + v_{4} * v_{1} * (-3.2569046378322044 * sin(δ_{4} - δ_{1}) - 32.56904637832204 * cos(δ_{4} - δ_{1}))\\\\\n",
       " & subexpression_{17}: v_{4} ^ 2.0 * 3.3336667000033335 + v_{4} * v_{5} * (-3.3336667000033335 * cos(δ_{4} - δ_{5}) + 33.33666700003334 * sin(δ_{4} - δ_{5}))\\\\\n",
       " & subexpression_{18}: -(v_{4} ^ 2.0) * -33.33329700003334 + v_{4} * v_{5} * (-3.3336667000033335 * sin(δ_{4} - δ_{5}) - 33.33666700003334 * cos(δ_{4} - δ_{5}))\\\\\n",
       " & subexpression_{19}: v_{5} ^ 2.0 * 3.3336667000033335 + v_{5} * v_{4} * (-3.3336667000033335 * cos(δ_{5} - δ_{4}) + 33.33666700003334 * sin(δ_{5} - δ_{4}))\\\\\n",
       " & subexpression_{20}: -(v_{5} ^ 2.0) * -33.33329700003334 + v_{5} * v_{4} * (-3.3336667000033335 * sin(δ_{5} - δ_{4}) - 33.33666700003334 * cos(δ_{5} - δ_{4}))\\\\\n",
       " & subexpression_{21}: v_{1} ^ 2.0 * 15.470297029702971 + v_{1} * v_{5} * (-15.470297029702971 * cos(δ_{1} - δ_{5}) + 154.7029702970297 * sin(δ_{1} - δ_{5}))\\\\\n",
       " & subexpression_{22}: -(v_{1} ^ 2.0) * -154.68734029702972 + v_{1} * v_{5} * (-15.470297029702971 * sin(δ_{1} - δ_{5}) - 154.7029702970297 * cos(δ_{1} - δ_{5}))\\\\\n",
       " & subexpression_{23}: v_{5} ^ 2.0 * 15.470297029702971 + v_{5} * v_{1} * (-15.470297029702971 * cos(δ_{5} - δ_{1}) + 154.7029702970297 * sin(δ_{5} - δ_{1}))\\\\\n",
       " & subexpression_{24}: -(v_{5} ^ 2.0) * -154.68734029702972 + v_{5} * v_{1} * (-15.470297029702971 * sin(δ_{5} - δ_{1}) - 154.7029702970297 * cos(δ_{5} - δ_{1}))\\\\\n",
       "\\end{alignat*}\n",
       " $$"
      ],
      "text/plain": [
       "A JuMP Model\n",
       "Minimization problem with:\n",
       "Variables: 20\n",
       "Objective function type: GenericQuadExpr{Float64,VariableRef}\n",
       "`VariableRef`-in-`MathOptInterface.GreaterThan{Float64}`: 16 constraints\n",
       "`VariableRef`-in-`MathOptInterface.LessThan{Float64}`: 16 constraints\n",
       "Nonlinear: 22 constraints\n",
       "Model mode: AUTOMATIC\n",
       "CachingOptimizer state: EMPTY_OPTIMIZER\n",
       "Solver name: Ipopt\n",
       "Names registered in the model: Pg, Qg, dP, dQ, v, δ"
      ]
     },
     "execution_count": 20,
     "metadata": {},
     "output_type": "execute_result"
    }
   ],
   "source": [
    "mod"
   ]
  },
  {
   "cell_type": "markdown",
   "metadata": {},
   "source": [
    "## Solve optimization problem"
   ]
  },
  {
   "cell_type": "code",
   "execution_count": 21,
   "metadata": {},
   "outputs": [
    {
     "name": "stdout",
     "output_type": "stream",
     "text": [
      "\n",
      "******************************************************************************\n",
      "This program contains Ipopt, a library for large-scale nonlinear optimization.\n",
      " Ipopt is released as open source code under the Eclipse Public License (EPL).\n",
      "         For more information visit http://projects.coin-or.org/Ipopt\n",
      "******************************************************************************\n",
      "\n",
      "This is Ipopt version 3.13.2, running with linear solver mumps.\n",
      "NOTE: Other linear solvers might be more efficient (see Ipopt documentation).\n",
      "\n",
      "Number of nonzeros in equality constraint Jacobian...:       70\n",
      "Number of nonzeros in inequality constraint Jacobian.:       42\n",
      "Number of nonzeros in Lagrangian Hessian.............:      254\n",
      "\n",
      "Total number of variables............................:       19\n",
      "                     variables with only lower bounds:        0\n",
      "                variables with lower and upper bounds:       15\n",
      "                     variables with only upper bounds:        0\n",
      "Total number of equality constraints.................:       10\n",
      "Total number of inequality constraints...............:       12\n",
      "        inequality constraints with only lower bounds:        0\n",
      "   inequality constraints with lower and upper bounds:        0\n",
      "        inequality constraints with only upper bounds:       12\n",
      "\n",
      "iter    objective    inf_pr   inf_du lg(mu)  ||d||  lg(rg) alpha_du alpha_pr  ls\n",
      "   0  1.0059989e+02 3.99e+00 4.55e+01  -1.0 0.00e+00    -  0.00e+00 0.00e+00   0\n",
      "   1  8.2616129e+03 2.47e+00 1.09e+02  -1.0 2.52e+00    -  4.08e-03 3.81e-01H  1\n",
      "   2  6.4913001e+03 2.34e+00 1.05e+02  -1.0 1.93e+01    -  6.22e-02 3.67e-02f  1\n",
      "   3  6.3445525e+03 2.29e+00 1.02e+02  -1.0 1.57e+01    -  3.92e-01 2.36e-02f  1\n",
      "   4  6.1333936e+03 2.12e+00 9.43e+01  -1.0 1.46e+01    -  3.50e-01 7.17e-02f  2\n",
      "   5  6.2958407e+03 1.93e+00 8.40e+01  -1.0 1.24e+01    -  8.24e-01 8.78e-02h  2\n",
      "   6  8.6035686e+03 1.02e+00 1.91e+02  -1.0 9.67e+00    -  6.70e-01 4.70e-01H  1\n",
      "   7  8.9782101e+03 9.69e-01 1.85e+02  -1.0 4.24e+00    -  4.39e-02 4.90e-02h  1\n",
      "   8  1.7624007e+04 5.65e-04 2.11e+02  -1.0 3.06e+00    -  9.65e-02 1.00e+00H  1\n",
      "   9  1.7595823e+04 2.32e-03 6.12e+01  -1.0 8.05e-01    -  5.68e-01 7.17e-01f  1\n",
      "iter    objective    inf_pr   inf_du lg(mu)  ||d||  lg(rg) alpha_du alpha_pr  ls\n",
      "  10  1.7576346e+04 9.05e-03 5.06e+00  -1.0 1.04e+00    -  1.00e+00 9.67e-01f  1\n",
      "  11  1.7585487e+04 1.83e-03 9.18e-01  -1.0 3.39e-01    -  1.00e+00 1.00e+00f  1\n",
      "  12  1.7561773e+04 4.46e-03 3.95e+00  -1.7 3.66e-01    -  1.00e+00 1.00e+00h  1\n",
      "  13  1.7558462e+04 2.74e-03 3.03e+00  -1.7 9.99e-02    -  1.00e+00 1.00e+00h  1\n",
      "  14  1.7558818e+04 4.76e-05 6.80e-02  -1.7 1.98e-03    -  1.00e+00 1.00e+00h  1\n",
      "  15  1.7553203e+04 1.02e-03 1.06e+00  -2.5 1.03e-01    -  1.00e+00 8.94e-01f  1\n",
      "  16  1.7552835e+04 2.08e-05 2.44e-02  -2.5 1.53e-02    -  1.00e+00 1.00e+00h  1\n",
      "  17  1.7551961e+04 1.18e-05 1.11e-02  -3.8 1.78e-02    -  1.00e+00 9.65e-01h  1\n",
      "  18  1.7551939e+04 3.69e-08 3.86e-05  -3.8 8.12e-04    -  1.00e+00 1.00e+00f  1\n",
      "  19  1.7551891e+04 1.63e-08 1.23e-05  -5.7 9.92e-04    -  1.00e+00 1.00e+00f  1\n",
      "iter    objective    inf_pr   inf_du lg(mu)  ||d||  lg(rg) alpha_du alpha_pr  ls\n",
      "  20  1.7551891e+04 1.70e-12 6.42e-10  -8.6 1.29e-05    -  1.00e+00 1.00e+00h  1\n",
      "\n",
      "Number of Iterations....: 20\n",
      "\n",
      "                                   (scaled)                 (unscaled)\n",
      "Objective...............:   4.3879727248482033e+02    1.7551890899392813e+04\n",
      "Dual infeasibility......:   6.4186884117644003e-10    2.5674753647057601e-08\n",
      "Constraint violation....:   1.3608282387175567e-12    1.7008616737257398e-12\n",
      "Complementarity.........:   2.5405213071917765e-09    1.0162085228767105e-07\n",
      "Overall NLP error.......:   2.5405213071917765e-09    1.0162085228767105e-07\n",
      "\n",
      "\n",
      "Number of objective function evaluations             = 30\n",
      "Number of objective gradient evaluations             = 21\n",
      "Number of equality constraint evaluations            = 30\n",
      "Number of inequality constraint evaluations          = 30\n",
      "Number of equality constraint Jacobian evaluations   = 21\n",
      "Number of inequality constraint Jacobian evaluations = 21\n",
      "Number of Lagrangian Hessian evaluations             = 20\n",
      "Total CPU secs in IPOPT (w/o function evaluations)   =      2.165\n",
      "Total CPU secs in NLP function evaluations           =      0.684\n",
      "\n",
      "EXIT: Optimal Solution Found.\n"
     ]
    }
   ],
   "source": [
    "optimize!(mod)"
   ]
  },
  {
   "attachments": {
    "image.png": {
     "image/png": "[encoded data removed]"
    }
   },
   "cell_type": "markdown",
   "metadata": {},
   "source": [
    "El resultado anterior es exactamente el mismo que el publicado en [PoderModels](https://lanl-ansi.github.io/PowerModels.jl/stable/experiment-results/):\n",
    "\n",
    "\n",
    "![image.png](attachment:image.png)"
   ]
  },
  {
   "cell_type": "markdown",
   "metadata": {},
   "source": [
    "Podemos *encapsular* todas las funciones antes mencionadas en una sóla función que resuelva un OPF unicamente dándole el nombre del archivo:"
   ]
  },
  {
   "cell_type": "code",
   "execution_count": 22,
   "metadata": {},
   "outputs": [
    {
     "data": {
      "text/plain": [
       "run_ACOPF (generic function with 1 method)"
      ]
     },
     "execution_count": 22,
     "metadata": {},
     "output_type": "execute_result"
    }
   ],
   "source": [
    "include(\"scripts/acopf.jl\")"
   ]
  },
  {
   "cell_type": "code",
   "execution_count": 24,
   "metadata": {},
   "outputs": [
    {
     "name": "stderr",
     "output_type": "stream",
     "text": [
      "┌ Info: extending matpower format with data: areas 1x3\n",
      "└ @ PowerSystems /Users/urielsandoval/.julia/packages/PowerSystems/KcYao/src/parsers/pm_io/matpower.jl:332\n",
      "┌ Info: removing 1 cost terms from generator 4: [4000.0, 0.0]\n",
      "└ @ PowerSystems /Users/urielsandoval/.julia/packages/PowerSystems/KcYao/src/parsers/pm_io/data.jl:1860\n",
      "┌ Info: removing 1 cost terms from generator 1: [1400.0, 0.0]\n",
      "└ @ PowerSystems /Users/urielsandoval/.julia/packages/PowerSystems/KcYao/src/parsers/pm_io/data.jl:1860\n",
      "┌ Info: removing 1 cost terms from generator 5: [1000.0, 0.0]\n",
      "└ @ PowerSystems /Users/urielsandoval/.julia/packages/PowerSystems/KcYao/src/parsers/pm_io/data.jl:1860\n",
      "┌ Info: removing 1 cost terms from generator 2: [1500.0, 0.0]\n",
      "└ @ PowerSystems /Users/urielsandoval/.julia/packages/PowerSystems/KcYao/src/parsers/pm_io/data.jl:1860\n",
      "┌ Info: removing 1 cost terms from generator 3: [3000.0, 0.0]\n",
      "└ @ PowerSystems /Users/urielsandoval/.julia/packages/PowerSystems/KcYao/src/parsers/pm_io/data.jl:1860\n"
     ]
    },
    {
     "name": "stdout",
     "output_type": "stream",
     "text": [
      "This is Ipopt version 3.13.2, running with linear solver mumps.\n",
      "NOTE: Other linear solvers might be more efficient (see Ipopt documentation).\n",
      "\n",
      "Number of nonzeros in equality constraint Jacobian...:       70\n",
      "Number of nonzeros in inequality constraint Jacobian.:       42\n",
      "Number of nonzeros in Lagrangian Hessian.............:      254\n",
      "\n",
      "Total number of variables............................:       19\n",
      "                     variables with only lower bounds:        0\n",
      "                variables with lower and upper bounds:       15\n",
      "                     variables with only upper bounds:        0\n",
      "Total number of equality constraints.................:       10\n",
      "Total number of inequality constraints...............:       12\n",
      "        inequality constraints with only lower bounds:        0\n",
      "   inequality constraints with lower and upper bounds:        0\n",
      "        inequality constraints with only upper bounds:       12\n",
      "\n",
      "iter    objective    inf_pr   inf_du lg(mu)  ||d||  lg(rg) alpha_du alpha_pr  ls\n",
      "   0  1.0059989e+02 3.99e+00 4.55e+01  -1.0 0.00e+00    -  0.00e+00 0.00e+00   0\n",
      "   1  8.2616129e+03 2.47e+00 1.09e+02  -1.0 2.52e+00    -  4.08e-03 3.81e-01H  1\n",
      "   2  6.4913001e+03 2.34e+00 1.05e+02  -1.0 1.93e+01    -  6.22e-02 3.67e-02f  1\n",
      "   3  6.3445525e+03 2.29e+00 1.02e+02  -1.0 1.57e+01    -  3.92e-01 2.36e-02f  1\n",
      "   4  6.1333936e+03 2.12e+00 9.43e+01  -1.0 1.46e+01    -  3.50e-01 7.17e-02f  2\n",
      "   5  6.2958407e+03 1.93e+00 8.40e+01  -1.0 1.24e+01    -  8.24e-01 8.78e-02h  2\n",
      "   6  8.6035686e+03 1.02e+00 1.91e+02  -1.0 9.67e+00    -  6.70e-01 4.70e-01H  1\n",
      "   7  8.9782101e+03 9.69e-01 1.85e+02  -1.0 4.24e+00    -  4.39e-02 4.90e-02h  1\n",
      "   8  1.7624007e+04 5.65e-04 2.11e+02  -1.0 3.06e+00    -  9.65e-02 1.00e+00H  1\n",
      "   9  1.7595823e+04 2.32e-03 6.12e+01  -1.0 8.05e-01    -  5.68e-01 7.17e-01f  1\n",
      "iter    objective    inf_pr   inf_du lg(mu)  ||d||  lg(rg) alpha_du alpha_pr  ls\n",
      "  10  1.7576346e+04 9.05e-03 5.06e+00  -1.0 1.04e+00    -  1.00e+00 9.67e-01f  1\n",
      "  11  1.7585487e+04 1.83e-03 9.18e-01  -1.0 3.39e-01    -  1.00e+00 1.00e+00f  1\n",
      "  12  1.7561773e+04 4.46e-03 3.95e+00  -1.7 3.66e-01    -  1.00e+00 1.00e+00h  1\n",
      "  13  1.7558462e+04 2.74e-03 3.03e+00  -1.7 9.99e-02    -  1.00e+00 1.00e+00h  1\n",
      "  14  1.7558818e+04 4.76e-05 6.80e-02  -1.7 1.98e-03    -  1.00e+00 1.00e+00h  1\n",
      "  15  1.7553203e+04 1.02e-03 1.06e+00  -2.5 1.03e-01    -  1.00e+00 8.94e-01f  1\n",
      "  16  1.7552835e+04 2.08e-05 2.44e-02  -2.5 1.53e-02    -  1.00e+00 1.00e+00h  1\n",
      "  17  1.7551961e+04 1.18e-05 1.11e-02  -3.8 1.78e-02    -  1.00e+00 9.65e-01h  1\n",
      "  18  1.7551939e+04 3.69e-08 3.86e-05  -3.8 8.12e-04    -  1.00e+00 1.00e+00f  1\n",
      "  19  1.7551891e+04 1.63e-08 1.23e-05  -5.7 9.92e-04    -  1.00e+00 1.00e+00f  1\n",
      "iter    objective    inf_pr   inf_du lg(mu)  ||d||  lg(rg) alpha_du alpha_pr  ls\n",
      "  20  1.7551891e+04 1.70e-12 6.42e-10  -8.6 1.29e-05    -  1.00e+00 1.00e+00h  1\n",
      "\n",
      "Number of Iterations....: 20\n",
      "\n",
      "                                   (scaled)                 (unscaled)\n",
      "Objective...............:   4.3879727248482033e+02    1.7551890899392813e+04\n",
      "Dual infeasibility......:   6.4186884117644003e-10    2.5674753647057601e-08\n",
      "Constraint violation....:   1.3608282387175567e-12    1.7008616737257398e-12\n",
      "Complementarity.........:   2.5405213071917765e-09    1.0162085228767105e-07\n",
      "Overall NLP error.......:   2.5405213071917765e-09    1.0162085228767105e-07\n",
      "\n",
      "\n",
      "Number of objective function evaluations             = 30\n",
      "Number of objective gradient evaluations             = 21\n",
      "Number of equality constraint evaluations            = 30\n",
      "Number of inequality constraint evaluations          = 30\n",
      "Number of equality constraint Jacobian evaluations   = 21\n",
      "Number of inequality constraint Jacobian evaluations = 21\n",
      "Number of Lagrangian Hessian evaluations             = 20\n",
      "Total CPU secs in IPOPT (w/o function evaluations)   =      0.017\n",
      "Total CPU secs in NLP function evaluations           =      0.002\n",
      "\n",
      "EXIT: Optimal Solution Found.\n",
      "  0.781235 seconds (916.82 k allocations: 46.882 MiB, 4.01% gc time)\n"
     ]
    }
   ],
   "source": [
    "@time dat, mod = run_ACOPF(\"data/pglib_opf_case5_pjm.m\");"
   ]
  },
  {
   "cell_type": "code",
   "execution_count": 25,
   "metadata": {},
   "outputs": [
    {
     "name": "stderr",
     "output_type": "stream",
     "text": [
      "┌ Info: extending matpower format with data: areas 1x3\n",
      "└ @ PowerSystems /Users/urielsandoval/.julia/packages/PowerSystems/KcYao/src/parsers/pm_io/matpower.jl:332\n",
      "┌ Info: removing 1 cost terms from generator 4: [4000.0, 0.0]\n",
      "└ @ PowerSystems /Users/urielsandoval/.julia/packages/PowerSystems/KcYao/src/parsers/pm_io/data.jl:1860\n",
      "┌ Info: removing 1 cost terms from generator 1: [1400.0, 0.0]\n",
      "└ @ PowerSystems /Users/urielsandoval/.julia/packages/PowerSystems/KcYao/src/parsers/pm_io/data.jl:1860\n",
      "┌ Info: removing 1 cost terms from generator 5: [1000.0, 0.0]\n",
      "└ @ PowerSystems /Users/urielsandoval/.julia/packages/PowerSystems/KcYao/src/parsers/pm_io/data.jl:1860\n",
      "┌ Info: removing 1 cost terms from generator 2: [1500.0, 0.0]\n",
      "└ @ PowerSystems /Users/urielsandoval/.julia/packages/PowerSystems/KcYao/src/parsers/pm_io/data.jl:1860\n",
      "┌ Info: removing 1 cost terms from generator 3: [3000.0, 0.0]\n",
      "└ @ PowerSystems /Users/urielsandoval/.julia/packages/PowerSystems/KcYao/src/parsers/pm_io/data.jl:1860\n"
     ]
    },
    {
     "name": "stdout",
     "output_type": "stream",
     "text": [
      "This is Ipopt version 3.13.2, running with linear solver mumps.\n",
      "NOTE: Other linear solvers might be more efficient (see Ipopt documentation).\n",
      "\n",
      "Number of nonzeros in equality constraint Jacobian...:       70\n",
      "Number of nonzeros in inequality constraint Jacobian.:       42\n",
      "Number of nonzeros in Lagrangian Hessian.............:      254\n",
      "\n",
      "Total number of variables............................:       19\n",
      "                     variables with only lower bounds:        0\n",
      "                variables with lower and upper bounds:       15\n",
      "                     variables with only upper bounds:        0\n",
      "Total number of equality constraints.................:       10\n",
      "Total number of inequality constraints...............:       12\n",
      "        inequality constraints with only lower bounds:        0\n",
      "   inequality constraints with lower and upper bounds:        0\n",
      "        inequality constraints with only upper bounds:       12\n",
      "\n",
      "iter    objective    inf_pr   inf_du lg(mu)  ||d||  lg(rg) alpha_du alpha_pr  ls\n",
      "   0  1.0059989e+02 3.99e+00 4.55e+01  -1.0 0.00e+00    -  0.00e+00 0.00e+00   0\n",
      "   1  8.2616129e+03 2.47e+00 1.09e+02  -1.0 2.52e+00    -  4.08e-03 3.81e-01H  1\n",
      "   2  6.4913001e+03 2.34e+00 1.05e+02  -1.0 1.93e+01    -  6.22e-02 3.67e-02f  1\n",
      "   3  6.3445525e+03 2.29e+00 1.02e+02  -1.0 1.57e+01    -  3.92e-01 2.36e-02f  1\n",
      "   4  6.1333936e+03 2.12e+00 9.43e+01  -1.0 1.46e+01    -  3.50e-01 7.17e-02f  2\n",
      "   5  6.2958407e+03 1.93e+00 8.40e+01  -1.0 1.24e+01    -  8.24e-01 8.78e-02h  2\n",
      "   6  8.6035686e+03 1.02e+00 1.91e+02  -1.0 9.67e+00    -  6.70e-01 4.70e-01H  1\n",
      "   7  8.9782101e+03 9.69e-01 1.85e+02  -1.0 4.24e+00    -  4.39e-02 4.90e-02h  1\n",
      "   8  1.7624007e+04 5.65e-04 2.11e+02  -1.0 3.06e+00    -  9.65e-02 1.00e+00H  1\n",
      "   9  1.7595823e+04 2.32e-03 6.12e+01  -1.0 8.05e-01    -  5.68e-01 7.17e-01f  1\n",
      "iter    objective    inf_pr   inf_du lg(mu)  ||d||  lg(rg) alpha_du alpha_pr  ls\n",
      "  10  1.7576346e+04 9.05e-03 5.06e+00  -1.0 1.04e+00    -  1.00e+00 9.67e-01f  1\n",
      "  11  1.7585487e+04 1.83e-03 9.18e-01  -1.0 3.39e-01    -  1.00e+00 1.00e+00f  1\n",
      "  12  1.7561773e+04 4.46e-03 3.95e+00  -1.7 3.66e-01    -  1.00e+00 1.00e+00h  1\n",
      "  13  1.7558462e+04 2.74e-03 3.03e+00  -1.7 9.99e-02    -  1.00e+00 1.00e+00h  1\n",
      "  14  1.7558818e+04 4.76e-05 6.80e-02  -1.7 1.98e-03    -  1.00e+00 1.00e+00h  1\n",
      "  15  1.7553203e+04 1.02e-03 1.06e+00  -2.5 1.03e-01    -  1.00e+00 8.94e-01f  1\n",
      "  16  1.7552835e+04 2.08e-05 2.44e-02  -2.5 1.53e-02    -  1.00e+00 1.00e+00h  1\n",
      "  17  1.7551961e+04 1.18e-05 1.11e-02  -3.8 1.78e-02    -  1.00e+00 9.65e-01h  1\n",
      "  18  1.7551939e+04 3.69e-08 3.86e-05  -3.8 8.12e-04    -  1.00e+00 1.00e+00f  1\n",
      "  19  1.7551891e+04 1.63e-08 1.23e-05  -5.7 9.92e-04    -  1.00e+00 1.00e+00f  1\n",
      "iter    objective    inf_pr   inf_du lg(mu)  ||d||  lg(rg) alpha_du alpha_pr  ls\n",
      "  20  1.7551891e+04 1.70e-12 6.42e-10  -8.6 1.29e-05    -  1.00e+00 1.00e+00h  1\n",
      "\n",
      "Number of Iterations....: 20\n",
      "\n",
      "                                   (scaled)                 (unscaled)\n",
      "Objective...............:   4.3879727248482033e+02    1.7551890899392813e+04\n",
      "Dual infeasibility......:   6.4186884117644003e-10    2.5674753647057601e-08\n",
      "Constraint violation....:   1.3608282387175567e-12    1.7008616737257398e-12\n",
      "Complementarity.........:   2.5405213071917765e-09    1.0162085228767105e-07\n",
      "Overall NLP error.......:   2.5405213071917765e-09    1.0162085228767105e-07\n",
      "\n",
      "\n",
      "Number of objective function evaluations             = 30\n",
      "Number of objective gradient evaluations             = 21\n",
      "Number of equality constraint evaluations            = 30\n",
      "Number of inequality constraint evaluations          = 30\n",
      "Number of equality constraint Jacobian evaluations   = 21\n",
      "Number of inequality constraint Jacobian evaluations = 21\n",
      "Number of Lagrangian Hessian evaluations             = 20\n",
      "Total CPU secs in IPOPT (w/o function evaluations)   =      0.020\n",
      "Total CPU secs in NLP function evaluations           =      0.003\n",
      "\n",
      "EXIT: Optimal Solution Found.\n",
      "  0.031434 seconds (18.89 k allocations: 1.320 MiB)\n"
     ]
    }
   ],
   "source": [
    "@time dat, mod = run_ACOPF(\"data/pglib_opf_case5_pjm.m\");"
   ]
  },
  {
   "cell_type": "code",
   "execution_count": 26,
   "metadata": {},
   "outputs": [
    {
     "name": "stderr",
     "output_type": "stream",
     "text": [
      "┌ Info: reversing the orientation of branch 661 (346, 344) to be consistent with other parallel branches\n",
      "└ @ PowerSystems /Users/urielsandoval/.julia/packages/PowerSystems/KcYao/src/parsers/pm_io/data.jl:1216\n",
      "┌ Info: removing 3 cost terms from generator 306: Float64[]\n",
      "└ @ PowerSystems /Users/urielsandoval/.julia/packages/PowerSystems/KcYao/src/parsers/pm_io/data.jl:1860\n",
      "┌ Info: removing 1 cost terms from generator 1: [11795.0, 0.0]\n",
      "└ @ PowerSystems /Users/urielsandoval/.julia/packages/PowerSystems/KcYao/src/parsers/pm_io/data.jl:1860\n",
      "┌ Info: removing 3 cost terms from generator 54: Float64[]\n",
      "└ @ PowerSystems /Users/urielsandoval/.julia/packages/PowerSystems/KcYao/src/parsers/pm_io/data.jl:1860\n",
      "┌ Info: removing 3 cost terms from generator 101: Float64[]\n",
      "└ @ PowerSystems /Users/urielsandoval/.julia/packages/PowerSystems/KcYao/src/parsers/pm_io/data.jl:1860\n",
      "┌ Info: removing 3 cost terms from generator 41: Float64[]\n",
      "└ @ PowerSystems /Users/urielsandoval/.julia/packages/PowerSystems/KcYao/src/parsers/pm_io/data.jl:1860\n",
      "┌ Info: removing 1 cost terms from generator 65: [13497.999999999998, 0.0]\n",
      "└ @ PowerSystems /Users/urielsandoval/.julia/packages/PowerSystems/KcYao/src/parsers/pm_io/data.jl:1860\n",
      "┌ Info: removing 3 cost terms from generator 326: Float64[]\n",
      "└ @ PowerSystems /Users/urielsandoval/.julia/packages/PowerSystems/KcYao/src/parsers/pm_io/data.jl:1860\n",
      "┌ Info: removing 3 cost terms from generator 299: Float64[]\n",
      "└ @ PowerSystems /Users/urielsandoval/.julia/packages/PowerSystems/KcYao/src/parsers/pm_io/data.jl:1860\n",
      "┌ Info: removing 3 cost terms from generator 168: Float64[]\n",
      "└ @ PowerSystems /Users/urielsandoval/.julia/packages/PowerSystems/KcYao/src/parsers/pm_io/data.jl:1860\n",
      "┌ Info: removing 1 cost terms from generator 159: [6132.0, 0.0]\n",
      "└ @ PowerSystems /Users/urielsandoval/.julia/packages/PowerSystems/KcYao/src/parsers/pm_io/data.jl:1860\n",
      "┌ Info: removing 3 cost terms from generator 228: Float64[]\n",
      "└ @ PowerSystems /Users/urielsandoval/.julia/packages/PowerSystems/KcYao/src/parsers/pm_io/data.jl:1860\n",
      "┌ Info: removing 3 cost terms from generator 190: Float64[]\n",
      "└ @ PowerSystems /Users/urielsandoval/.julia/packages/PowerSystems/KcYao/src/parsers/pm_io/data.jl:1860\n",
      "┌ Info: removing 3 cost terms from generator 227: Float64[]\n",
      "└ @ PowerSystems /Users/urielsandoval/.julia/packages/PowerSystems/KcYao/src/parsers/pm_io/data.jl:1860\n",
      "┌ Info: removing 3 cost terms from generator 270: Float64[]\n",
      "└ @ PowerSystems /Users/urielsandoval/.julia/packages/PowerSystems/KcYao/src/parsers/pm_io/data.jl:1860\n",
      "┌ Info: removing 3 cost terms from generator 223: Float64[]\n",
      "└ @ PowerSystems /Users/urielsandoval/.julia/packages/PowerSystems/KcYao/src/parsers/pm_io/data.jl:1860\n",
      "┌ Info: removing 3 cost terms from generator 88: Float64[]\n",
      "└ @ PowerSystems /Users/urielsandoval/.julia/packages/PowerSystems/KcYao/src/parsers/pm_io/data.jl:1860\n",
      "┌ Info: removing 3 cost terms from generator 297: Float64[]\n",
      "└ @ PowerSystems /Users/urielsandoval/.julia/packages/PowerSystems/KcYao/src/parsers/pm_io/data.jl:1860\n",
      "┌ Info: removing 3 cost terms from generator 26: Float64[]\n",
      "└ @ PowerSystems /Users/urielsandoval/.julia/packages/PowerSystems/KcYao/src/parsers/pm_io/data.jl:1860\n",
      "┌ Info: removing 3 cost terms from generator 289: Float64[]\n",
      "└ @ PowerSystems /Users/urielsandoval/.julia/packages/PowerSystems/KcYao/src/parsers/pm_io/data.jl:1860\n",
      "┌ Info: removing 3 cost terms from generator 250: Float64[]\n",
      "└ @ PowerSystems /Users/urielsandoval/.julia/packages/PowerSystems/KcYao/src/parsers/pm_io/data.jl:1860\n",
      "┌ Info: removing 3 cost terms from generator 77: Float64[]\n",
      "└ @ PowerSystems /Users/urielsandoval/.julia/packages/PowerSystems/KcYao/src/parsers/pm_io/data.jl:1860\n",
      "┌ Info: removing 1 cost terms from generator 230: [7687.0, 0.0]\n",
      "└ @ PowerSystems /Users/urielsandoval/.julia/packages/PowerSystems/KcYao/src/parsers/pm_io/data.jl:1860\n",
      "┌ Info: removing 1 cost terms from generator 24: [10751.0, 0.0]\n",
      "└ @ PowerSystems /Users/urielsandoval/.julia/packages/PowerSystems/KcYao/src/parsers/pm_io/data.jl:1860\n",
      "┌ Info: removing 3 cost terms from generator 258: Float64[]\n",
      "└ @ PowerSystems /Users/urielsandoval/.julia/packages/PowerSystems/KcYao/src/parsers/pm_io/data.jl:1860\n",
      "┌ Info: removing 3 cost terms from generator 204: Float64[]\n",
      "└ @ PowerSystems /Users/urielsandoval/.julia/packages/PowerSystems/KcYao/src/parsers/pm_io/data.jl:1860\n",
      "┌ Info: removing 1 cost terms from generator 23: [15194.0, 0.0]\n",
      "└ @ PowerSystems /Users/urielsandoval/.julia/packages/PowerSystems/KcYao/src/parsers/pm_io/data.jl:1860\n",
      "┌ Info: removing 3 cost terms from generator 160: Float64[]\n",
      "└ @ PowerSystems /Users/urielsandoval/.julia/packages/PowerSystems/KcYao/src/parsers/pm_io/data.jl:1860\n",
      "┌ Info: removing 3 cost terms from generator 149: Float64[]\n",
      "└ @ PowerSystems /Users/urielsandoval/.julia/packages/PowerSystems/KcYao/src/parsers/pm_io/data.jl:1860\n",
      "┌ Info: removing 3 cost terms from generator 59: Float64[]\n",
      "└ @ PowerSystems /Users/urielsandoval/.julia/packages/PowerSystems/KcYao/src/parsers/pm_io/data.jl:1860\n",
      "┌ Info: removing 3 cost terms from generator 184: Float64[]\n",
      "└ @ PowerSystems /Users/urielsandoval/.julia/packages/PowerSystems/KcYao/src/parsers/pm_io/data.jl:1860\n"
     ]
    },
    {
     "name": "stdout",
     "output_type": "stream",
     "text": [
      "This is Ipopt version 3.13.2, running with linear solver mumps.\n",
      "NOTE: Other linear solvers might be more efficient (see Ipopt documentation).\n",
      "\n",
      "Number of nonzeros in equality constraint Jacobian...:    33125\n",
      "Number of nonzeros in inequality constraint Jacobian.:    23152\n",
      "Number of nonzeros in Lagrangian Hessian.............:   152862\n",
      "\n",
      "Total number of variables............................:     5288\n",
      "                     variables with only lower bounds:        0\n",
      "                variables with lower and upper bounds:     2906\n",
      "                     variables with only upper bounds:        0\n",
      "Total number of equality constraints.................:     4766\n",
      "Total number of inequality constraints...............:     5792\n",
      "        inequality constraints with only lower bounds:        0\n",
      "   inequality constraints with lower and upper bounds:        0\n",
      "        inequality constraints with only upper bounds:     5792\n",
      "\n",
      "iter    objective    inf_pr   inf_du lg(mu)  ||d||  lg(rg) alpha_du alpha_pr  ls\n",
      "   0  5.6475880e+05 6.42e+00 1.00e+02  -1.0 0.00e+00    -  0.00e+00 0.00e+00   0\n",
      "   1  5.6577423e+05 6.42e+00 1.00e+02  -1.0 1.22e+01    -  1.63e-03 9.98e-04f  1\n",
      "   2  5.6960236e+05 6.39e+00 9.95e+01  -1.0 9.51e+00    -  3.02e-03 4.27e-03f  1\n",
      "   3  5.7199663e+05 6.33e+00 9.87e+01  -1.0 1.02e+01    -  2.59e-03 9.68e-03f  1\n",
      "   4  5.6224944e+05 6.26e+00 9.83e+01  -1.0 1.07e+02    -  2.37e-03 1.06e-02f  1\n",
      "   5  5.5998037e+05 6.15e+00 9.55e+01  -1.0 6.94e+01    -  3.17e-02 1.82e-02f  1\n",
      "   6  5.6066013e+05 6.02e+00 9.27e+01  -1.0 6.81e+01    -  3.36e-02 2.17e-02f  2\n",
      "   7  5.7387475e+05 5.81e+00 9.12e+01  -1.0 7.26e+01    -  9.83e-04 3.35e-02h  2\n",
      "   8  5.9517642e+05 5.55e+00 9.05e+01  -1.0 7.74e+01    -  1.39e-02 4.50e-02h  1\n",
      "   9  6.0647515e+05 5.46e+00 8.93e+01  -1.0 4.02e+01    -  5.35e-03 1.78e-02h  1\n",
      "iter    objective    inf_pr   inf_du lg(mu)  ||d||  lg(rg) alpha_du alpha_pr  ls\n",
      "  10  6.1851916e+05 5.36e+00 8.84e+01  -1.0 3.63e+01    -  9.21e-03 1.67e-02h  2\n",
      "  11  6.3782573e+05 5.23e+00 8.78e+01  -1.0 2.92e+01    -  4.83e-03 2.52e-02h  2\n",
      "  12  6.5544062e+05 5.11e+00 1.15e+02  -1.0 6.26e+01    -  2.68e-02 2.28e-02h  3\n",
      "  13  6.7760731e+05 4.96e+00 2.52e+02  -1.0 6.43e+01    -  2.44e-02 2.88e-02h  3\n",
      "  14  7.2846410e+05 4.64e+00 7.32e+02  -1.0 6.27e+01    -  9.79e-03 6.56e-02h  2\n",
      "  15  7.9861066e+05 4.23e+00 1.49e+03  -1.0 6.89e+01    -  2.76e-02 9.42e-02h  1\n",
      "  16  8.5469847e+05 3.91e+00 1.54e+03  -1.0 5.86e+01    -  4.05e-02 7.84e-02h  1\n",
      "  17  9.0117613e+05 3.65e+00 1.48e+03  -1.0 7.33e+01    -  1.43e-02 6.67e-02h  1\n",
      "  18  9.4028306e+05 3.44e+00 1.45e+03  -1.0 7.67e+01    -  2.84e-02 5.76e-02h  1\n",
      "  19  9.6244820e+05 3.33e+00 1.40e+03  -1.0 5.62e+01    -  2.57e-02 3.28e-02h  1\n",
      "iter    objective    inf_pr   inf_du lg(mu)  ||d||  lg(rg) alpha_du alpha_pr  ls\n",
      "  20  9.9663735e+05 3.16e+00 1.33e+03  -1.0 7.73e+01    -  5.36e-03 5.01e-02h  1\n",
      "  21  1.0558746e+06 2.88e+00 1.21e+03  -1.0 7.24e+01    -  7.68e-02 8.83e-02h  1\n",
      "  22  1.0938408e+06 2.71e+00 1.14e+03  -1.0 6.67e+01    -  2.65e-02 5.95e-02h  1\n",
      "  23  1.1366389e+06 2.52e+00 1.06e+03  -1.0 7.09e+01    -  2.05e-02 6.91e-02h  1\n",
      "  24  1.1659071e+06 2.40e+00 1.01e+03  -1.0 6.24e+01    -  6.56e-02 4.93e-02h  1\n",
      "  25  1.2086073e+06 2.23e+00 9.36e+02  -1.0 2.17e+01    -  8.96e-03 6.92e-02h  1\n",
      "  26  1.2207428e+06 2.19e+00 9.17e+02  -1.0 4.70e+01    -  3.13e-02 1.96e-02h  1\n",
      "  27  1.2491258e+06 2.09e+00 8.77e+02  -1.0 2.39e+01    -  1.57e-02 4.59e-02h  1\n",
      "  28  1.2952152e+06 1.93e+00 8.38e+02  -1.0 1.80e+01    -  3.50e-02 7.73e-02h  1\n",
      "  29  1.3190222e+06 1.85e+00 8.01e+02  -1.0 1.77e+01    -  3.96e-02 4.27e-02h  1\n",
      "iter    objective    inf_pr   inf_du lg(mu)  ||d||  lg(rg) alpha_du alpha_pr  ls\n",
      "  30  1.3630220e+06 1.69e+00 7.30e+02  -1.0 1.50e+01    -  2.93e-02 8.20e-02h  1\n",
      "  31  1.4730030e+06 1.32e+00 7.87e+02  -1.0 1.51e+01    -  3.28e-02 2.21e-01h  1\n",
      "  32  1.6063758e+06 9.23e-01 1.18e+03  -1.0 2.20e+01    -  2.86e-01 3.43e-01h  1\n",
      "  33  1.7124387e+06 5.95e-01 6.63e+02  -1.0 1.82e+01    -  6.57e-01 4.07e-01h  1\n",
      "  34  1.7376185e+06 5.02e-01 5.37e+02  -1.0 1.21e+01    -  5.85e-01 1.60e-01h  1\n",
      "  35  1.7769130e+06 3.67e-01 3.47e+02  -1.0 1.16e+01    -  2.33e-01 2.96e-01h  1\n",
      "  36  1.7917480e+06 3.14e-01 2.92e+02  -1.0 8.70e+00    -  7.99e-01 1.57e-01h  1\n",
      "  37  1.8167669e+06 2.55e-01 2.29e+02  -1.0 8.56e+00    -  8.96e-01 3.12e-01h  1\n",
      "  38  1.8435051e+06 1.35e-01 1.85e+02  -1.0 7.90e+00    -  1.00e+00 4.73e-01h  1\n",
      "  39  1.8489554e+06 1.11e-01 1.42e+02  -1.0 4.66e+00    -  5.11e-01 1.81e-01h  1\n",
      "iter    objective    inf_pr   inf_du lg(mu)  ||d||  lg(rg) alpha_du alpha_pr  ls\n",
      "  40  1.8554700e+06 8.29e-02 9.87e+01  -1.0 2.73e+00    -  1.00e+00 2.51e-01h  1\n",
      "  41  1.8733052e+06 1.25e-02 1.14e+02  -1.0 4.31e+00    -  2.11e-01 9.22e-01h  1\n",
      "  42  1.8754067e+06 2.39e-03 6.39e+00  -1.0 1.16e+00    -  1.00e+00 1.00e+00h  1\n",
      "  43  1.8754106e+06 3.99e-05 1.77e-01  -1.0 3.39e-01    -  1.00e+00 1.00e+00h  1\n",
      "  44  1.8729559e+06 1.65e-03 1.75e+01  -2.5 2.68e+00    -  4.60e-01 5.17e-01f  1\n",
      "  45  1.8718471e+06 2.73e-03 2.06e+01  -2.5 2.48e+00    -  2.38e-01 3.40e-01f  1\n",
      "  46  1.8709465e+06 2.87e-03 1.48e+01  -2.5 1.53e+00    -  4.90e-01 3.42e-01f  1\n",
      "  47  1.8697427e+06 2.95e-03 1.11e+01  -2.5 1.12e+00    -  2.72e-01 5.05e-01f  1\n",
      "  48  1.8694014e+06 2.19e-03 2.31e+01  -2.5 7.91e-01    -  6.46e-01 2.70e-01f  1\n",
      "  49  1.8689283e+06 1.20e-03 1.60e+01  -2.5 7.02e-01    -  6.02e-01 4.60e-01f  1\n",
      "iter    objective    inf_pr   inf_du lg(mu)  ||d||  lg(rg) alpha_du alpha_pr  ls\n",
      "  50  1.8687980e+06 1.07e-03 4.23e+01  -2.5 1.07e+00    -  8.41e-01 2.53e-01f  1\n",
      "  51  1.8685074e+06 1.34e-03 8.28e+00  -2.5 1.40e+00    -  8.57e-01 7.69e-01f  1\n",
      "  52  1.8684536e+06 2.19e-04 4.86e-02  -2.5 2.99e-01    -  1.00e+00 1.00e+00h  1\n",
      "  53  1.8684534e+06 2.22e-05 7.38e-04  -2.5 3.64e-02    -  1.00e+00 1.00e+00h  1\n",
      "  54  1.8683460e+06 1.11e-04 2.87e+00  -3.8 9.46e-01    -  4.91e-01 4.20e-01f  1\n",
      "  55  1.8683085e+06 1.09e-04 5.75e+00  -3.8 8.82e-01    -  4.02e-01 2.62e-01f  1\n",
      "  56  1.8682475e+06 2.98e-04 7.24e+00  -3.8 7.81e-01    -  8.33e-01 5.82e-01f  1\n",
      "  57  1.8682382e+06 2.57e-04 1.12e+01  -3.8 1.05e+00    -  1.00e+00 2.35e-01h  1\n",
      "  58  1.8682119e+06 1.89e-04 7.93e-01  -3.8 9.81e-01    -  1.00e+00 9.33e-01h  1\n",
      "  59  1.8682106e+06 8.76e-07 3.30e-04  -3.8 3.20e-01    -  1.00e+00 1.00e+00h  1\n",
      "iter    objective    inf_pr   inf_du lg(mu)  ||d||  lg(rg) alpha_du alpha_pr  ls\n",
      "  60  1.8682012e+06 5.19e-05 3.45e-01  -5.7 7.31e-01    -  8.34e-01 7.78e-01h  1\n",
      "  61  1.8681989e+06 3.17e-05 8.33e-01  -5.7 9.34e-01    -  7.75e-01 8.78e-01h  1\n",
      "  62  1.8681986e+06 3.36e-06 2.96e-01  -5.7 2.17e-01    -  1.00e+00 9.69e-01h  1\n",
      "  63  1.8681986e+06 1.47e-07 1.00e-05  -5.7 1.88e-02    -  1.00e+00 1.00e+00h  1\n",
      "  64  1.8681986e+06 5.12e-09 4.83e-07  -5.7 3.68e-03    -  1.00e+00 1.00e+00h  1\n",
      "  65  1.8681984e+06 7.13e-08 2.77e-01  -8.6 2.62e-02    -  9.82e-01 9.19e-01h  1\n",
      "  66  1.8681984e+06 6.58e-09 2.12e-06  -8.6 1.58e-03    -  1.00e+00 1.00e+00h  1\n",
      "  67  1.8681984e+06 5.35e-10 3.06e-07  -8.6 4.80e-04    -  1.00e+00 1.00e+00h  1\n",
      "  68  1.8681984e+06 3.64e-11 1.96e-08  -8.6 1.15e-04    -  1.00e+00 1.00e+00h  1\n",
      "  69  1.8681984e+06 5.89e-12 1.30e-09  -9.0 2.21e-05    -  1.00e+00 1.00e+00h  1\n",
      "\n",
      "Number of Iterations....: 69\n",
      "\n",
      "                                   (scaled)                 (unscaled)\n",
      "Objective...............:   1.0941773552788251e+04    1.8681984164030659e+06\n",
      "Dual infeasibility......:   1.3020154681290592e-09    2.2230612102835559e-07\n",
      "Constraint violation....:   8.5434997606202607e-13    5.8863920682217233e-12\n",
      "Complementarity.........:   9.5656286788788180e-10    1.6332354406317693e-07\n",
      "Overall NLP error.......:   9.5656286788788180e-10    2.2230612102835559e-07\n",
      "\n",
      "\n",
      "Number of objective function evaluations             = 89\n",
      "Number of objective gradient evaluations             = 70\n",
      "Number of equality constraint evaluations            = 89\n",
      "Number of inequality constraint evaluations          = 89\n",
      "Number of equality constraint Jacobian evaluations   = 70\n",
      "Number of inequality constraint Jacobian evaluations = 70\n",
      "Number of Lagrangian Hessian evaluations             = 69\n",
      "Total CPU secs in IPOPT (w/o function evaluations)   =      4.958\n",
      "Total CPU secs in NLP function evaluations           =      7.161\n",
      "\n",
      "EXIT: Optimal Solution Found.\n",
      " 12.664684 seconds (10.79 M allocations: 579.719 MiB, 3.62% gc time)\n"
     ]
    }
   ],
   "source": [
    "@time run_ACOPF(\"data/pglib_opf_case2383wp_k.m\");"
   ]
  },
  {
   "cell_type": "code",
   "execution_count": null,
   "metadata": {},
   "outputs": [],
   "source": []
  }
 ],
 "metadata": {
  "kernelspec": {
   "display_name": "Julia 1.5.3",
   "language": "julia",
   "name": "julia-1.5"
  },
  "language_info": {
   "file_extension": ".jl",
   "mimetype": "application/julia",
   "name": "julia",
   "version": "1.5.3"
  }
 },
 "nbformat": 4,
 "nbformat_minor": 4
}
