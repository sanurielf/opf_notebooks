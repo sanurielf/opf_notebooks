{
 "cells": [
  {
   "cell_type": "markdown",
   "metadata": {},
   "source": [
    "# Breve introducción a Julia/JuMP\n",
    "\n",
    "\n",
    "A continuación el contenido de las notebooks del curso:\n",
    "\n",
    "\n",
    "0. Introducción a Julia [notas de Ricardo Méndez (UNAM)](http://sistemas.fciencias.unam.mx/~rich/Herramientas/]): \n",
    "    * [Julia I](Tutorial_Julia/Julia_I.ipynb)\n",
    "    * [Julia II](Tutorial_Julia/Julia_II.ipynb)\n",
    "    * [Julia III](Tutorial_Julia/Julia_III.ipynb)\n",
    "    * [Julia IV](Tutorial_Julia/Julia_IV.ipynb)\n",
    "1. [Introducción a la Programación lineal](01_Introduccion.ipynb)\n",
    "2. [Despacho económico](02_Despacho%20Económico.ipynb)\n",
    "3. [Flujos de potencia óptimos (ACOPF)](03_ACOPF.ipynb)\n",
    "4. [Flujos de potencia lineales (DCOPF)](04_DCOPF.ipynb)\n",
    "4. [Asignación de Unidades](05_Unit_Commitment.ipynb)"
   ]
  }
 ],
 "metadata": {
  "kernelspec": {
   "display_name": "Julia 1.5.3",
   "language": "julia",
   "name": "julia-1.5"
  },
  "language_info": {
   "file_extension": ".jl",
   "mimetype": "application/julia",
   "name": "julia",
   "version": "1.5.3"
  }
 },
 "nbformat": 4,
 "nbformat_minor": 4
}
