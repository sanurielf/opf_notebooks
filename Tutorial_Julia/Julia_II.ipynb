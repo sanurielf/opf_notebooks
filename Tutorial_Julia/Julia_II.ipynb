{
 "cells": [
  {
   "cell_type": "markdown",
   "metadata": {},
   "source": [
    "# Tutorial básico de Julia\n",
    "\n",
    "## Julia II\n",
    "\n",
    "\n",
    "> Ricardo Méndez Fragoso $\\mathbb{R}i \\vec c \\hbar$\n",
    ">\n",
    "> Agradecimiento especial a Diego Alberto Olvera Millán por iniciar este tutorial que se ha ido actualizando a lo largo del tiempo.\n",
    "\n",
    "\n",
    "# Ciclos y condicionales en Julia\n",
    "\n",
    "Los ciclos y los condicionales son una de las herramientas más importantes al momento de programar. Los condicionales suelen tener la forma: `si [esto es cierto] entonces [haz esto] y si no [haz esto otro]` y los ciclos suelen tener la forma:  `mientras [esto sea cierto] [haz esto]`.\n",
    "\n",
    "## Variables booleanas\n",
    "\n",
    "Empecemos por hablar un poco acerca de las variables del tipo booleanas (`Bool`). Estas variables sólo pueden tomar dos clases de valores, cierto o falso. Veamos:"
   ]
  },
  {
   "cell_type": "code",
   "execution_count": 1,
   "metadata": {},
   "outputs": [
    {
     "data": {
      "text/plain": [
       "false"
      ]
     },
     "execution_count": 1,
     "metadata": {},
     "output_type": "execute_result"
    }
   ],
   "source": [
    "1>5"
   ]
  },
  {
   "cell_type": "code",
   "execution_count": 2,
   "metadata": {},
   "outputs": [
    {
     "data": {
      "text/plain": [
       "Bool"
      ]
     },
     "execution_count": 2,
     "metadata": {},
     "output_type": "execute_result"
    }
   ],
   "source": [
    "typeof(1>5)"
   ]
  },
  {
   "cell_type": "markdown",
   "metadata": {},
   "source": [
    "Una de las formas más usuales en las que se obtienen las variables booleanas es haciendo comparaciones con los operadores:\n",
    "\n",
    "```julia\n",
    "< \n",
    ">\n",
    "<=\n",
    ">=\n",
    "==\n",
    "!=\n",
    "``` \n",
    "\n",
    "Utiliza `?` para aprender que hace cada una de estos operadores. Observe que el operador `!` es el operador de negación:"
   ]
  },
  {
   "cell_type": "code",
   "execution_count": 3,
   "metadata": {},
   "outputs": [
    {
     "data": {
      "text/plain": [
       "false"
      ]
     },
     "execution_count": 3,
     "metadata": {},
     "output_type": "execute_result"
    }
   ],
   "source": [
    "!(true)"
   ]
  },
  {
   "cell_type": "code",
   "execution_count": 4,
   "metadata": {},
   "outputs": [
    {
     "data": {
      "text/plain": [
       "true"
      ]
     },
     "execution_count": 4,
     "metadata": {},
     "output_type": "execute_result"
    }
   ],
   "source": [
    "!(false)"
   ]
  },
  {
   "cell_type": "markdown",
   "metadata": {},
   "source": [
    "## Rangos \n",
    "\n",
    "Ahora mencionaremos lo que es un rango (`Range`). "
   ]
  },
  {
   "cell_type": "code",
   "execution_count": 5,
   "metadata": {},
   "outputs": [
    {
     "data": {
      "text/plain": [
       "UnitRange{Int64}"
      ]
     },
     "execution_count": 5,
     "metadata": {},
     "output_type": "execute_result"
    }
   ],
   "source": [
    "typeof(1:5)"
   ]
  },
  {
   "cell_type": "markdown",
   "metadata": {},
   "source": [
    "Un rango es algo parecido a un arreglo, pero a veces resulta más eficiente para la computadora trabajar con los rangos. Se trata de un conjunto de números sobre los cuales se puede realizar una iteración. La sintaxis usual al definir un rango es:\n",
    "\n",
    "```julia\n",
    "p:h:f\n",
    "```\n",
    "\n",
    "donde `p` es el número donde empieza el rango, `h` es el tamaño de paso y `f` es el final del rango. Si queremos convertir un rango en un arreglo usamos la función `collect`:"
   ]
  },
  {
   "cell_type": "code",
   "execution_count": 6,
   "metadata": {},
   "outputs": [
    {
     "data": {
      "text/plain": [
       "3-element Array{Float64,1}:\n",
       " 1.0\n",
       " 1.5\n",
       " 2.0"
      ]
     },
     "execution_count": 6,
     "metadata": {},
     "output_type": "execute_result"
    }
   ],
   "source": [
    "collect(1:.5:2)"
   ]
  },
  {
   "cell_type": "markdown",
   "metadata": {},
   "source": [
    "Otra forma muy útil de construir rangos es con la función `linspace`, cuya sintaxis es la siguiente:\n",
    "\n",
    "```julia \n",
    "linspace(incio, final, n=50)\n",
    "``` \n",
    "\n",
    "Esta función construye un rango con `p=inicio`, `f=final` y `h=(final-inicio)/n`. \n",
    "\n",
    "## If, else \n",
    "\n",
    "Los ciclos y los condicionales funcionan evaluando alguna expresión booleana que tomará el valor verdadero o falso y procederá de acuerdo a esa evaluación. Veamos un ejemplo."
   ]
  },
  {
   "cell_type": "code",
   "execution_count": 7,
   "metadata": {},
   "outputs": [
    {
     "name": "stdout",
     "output_type": "stream",
     "text": [
      "Uno es menor que cinco"
     ]
    }
   ],
   "source": [
    "if 1>5\n",
    "    print(\"Uno es mayor que cinco\")\n",
    "else\n",
    "    print(\"Uno es menor que cinco\")\n",
    "end"
   ]
  },
  {
   "cell_type": "markdown",
   "metadata": {},
   "source": [
    "Analicemos la sintaxis. El condicional se empieza escribiendo `if`, al lado del `if` ponemos la expresión booleana (condición) que se va a evaluar y resultará en un verdadero o un falso. Después presionamos `enter` y Julia automáticamente pone una sangría para indicar que eso es el cuerpo de lo que está dentro del `if`. Ahí escribimos el conjunto de instrucciones que se deben ejecutar en caso de que la condición sea verdadera. Opcionalmente podemos poner un `else` que le indica a Julia que si la condición no es verdad, entonces ha de hacer otra cosa. También podemos escribir algo como\n",
    "\n",
    "```julia\n",
    "if condición\n",
    "    orden\n",
    "elseif otra condición \n",
    "    otra orden\n",
    "else\n",
    "    última orden\n",
    "end\n",
    "``` \n",
    "\n",
    "La estructura anterior responde las siguientes preguntas: ¿Qué ocurre si una condición es verdadero?, ¿Qué ocurre si la primera condición es falsa y otra condición es verdadera? y, finalmente, ¿Qué ocurre si las dos condiciones son falsas?.\n",
    "\n",
    "## Ciclos for\n",
    "\n",
    "Ahora veamos un ejemplo de ciclo `for`:"
   ]
  },
  {
   "cell_type": "code",
   "execution_count": 8,
   "metadata": {},
   "outputs": [
    {
     "name": "stdout",
     "output_type": "stream",
     "text": [
      "Número: 1\n",
      "Número: 2\n",
      "Número: 3\n"
     ]
    }
   ],
   "source": [
    "for i in 1:3\n",
    "    println(\"Número: $i\")\n",
    "end"
   ]
  },
  {
   "cell_type": "markdown",
   "metadata": {},
   "source": [
    "Vamos por partes. Primero escribimos `for` para indicar que vamos a empezar un ciclo iterativo. A continuación ponemos la variable sobre la cual se va a iterar, en este caso `i`. Luego ponemos `in` para indicar sobre que posibles valores se hará la iteración, usualmente se usa un rango pero también podríamos usar un arreglo o una tupla. Presionamos `enter` y escribimos la operación que se va a realizar en cada iteración del ciclo. En el ejemplo le pedimos a Julia que escriba en una línea el número de la iteración en la cual vamos. Después de escribir la operación le indicamos a Julia que hemos terminado de definir el ciclo escribiendo `end`. \n",
    "\n",
    "A veces queremos iterar sobre dos variables, por ejemplo cuando queremos llenar los elementos de una matriz vacía o sustituirlos por otros elementos. Esto es muy fácil de hacer sin necesidad de usar (explícitamente) dos ciclos `for`. Veamos un ejemplo. "
   ]
  },
  {
   "cell_type": "code",
   "execution_count": 9,
   "metadata": {},
   "outputs": [
    {
     "data": {
      "text/plain": [
       "3×3 Array{Float64,2}:\n",
       " 2.0  3.0  4.0\n",
       " 3.0  4.0  5.0\n",
       " 4.0  5.0  6.0"
      ]
     },
     "execution_count": 9,
     "metadata": {},
     "output_type": "execute_result"
    }
   ],
   "source": [
    "M=zeros(3,3)\n",
    "for i in 1:3, j in 1:3\n",
    "    M[i,j] = i + j\n",
    "end\n",
    "M"
   ]
  },
  {
   "cell_type": "markdown",
   "metadata": {},
   "source": [
    "En este caso estamos haciendo dos ciclos for y es equivalente a que escribiéramos:\n",
    "\n",
    "```julia\n",
    "for i in 1:3\n",
    "    for j in 1:3\n",
    "        M[i,j] = i + j\n",
    "    end\n",
    "end\n",
    "``` \n",
    "\n",
    "Ahora un ejemplo de un ciclo `for` que itere sobre los elementos de un arreglo o de una tupla:"
   ]
  },
  {
   "cell_type": "code",
   "execution_count": 10,
   "metadata": {},
   "outputs": [
    {
     "name": "stdout",
     "output_type": "stream",
     "text": [
      "1\n",
      "hola\n",
      "[1, 2]\n"
     ]
    }
   ],
   "source": [
    "it = (1,\"hola\",[1,2])\n",
    "for i in it\n",
    "    println(i)\n",
    "end"
   ]
  },
  {
   "cell_type": "markdown",
   "metadata": {},
   "source": [
    "Vemos que la iteración no es necesariamente sobre números pero sí se hace en el orden en el que aparezcan los elementos de la tupla. "
   ]
  },
  {
   "cell_type": "code",
   "execution_count": 11,
   "metadata": {},
   "outputs": [
    {
     "name": "stdout",
     "output_type": "stream",
     "text": [
      "0.11302585169555424\n",
      "0.7629449040581373\n",
      "0.1712353190184719\n"
     ]
    }
   ],
   "source": [
    "it_2 = [rand() for i in 1:3]\n",
    "for i in it_2\n",
    "    println(i)\n",
    "end"
   ]
  },
  {
   "cell_type": "markdown",
   "metadata": {},
   "source": [
    "Nos damos un momento para explicar el arreglo `it_2` que ha sido creado con un ciclo por compresión. Este arreglo se construyó poniendo entre corchetes un ciclo `for`. Lo que esto hace es que inicia un arreglo vacío y le agrega lo que diga antes del `for` mientras el ciclo dure. En el ejemplo nos dá un número aleatorio mientras `i` va iterando del $1$ al $3$ con saltos de tamaño $1$, lo cual nos deja con un arreglo de 3 elementos. Esta es otra forma útil de usar el ciclo `for`. Podemos escribir la matriz `M` de ejemplos anteriores del mismo modo: "
   ]
  },
  {
   "cell_type": "code",
   "execution_count": 12,
   "metadata": {},
   "outputs": [
    {
     "data": {
      "text/plain": [
       "3×3 Array{Int64,2}:\n",
       " 2  3  4\n",
       " 3  4  5\n",
       " 4  5  6"
      ]
     },
     "execution_count": 12,
     "metadata": {},
     "output_type": "execute_result"
    }
   ],
   "source": [
    "M = [i+j for i in 1:3,j in 1:3]"
   ]
  },
  {
   "cell_type": "markdown",
   "metadata": {},
   "source": [
    "Ahora es un buen momento de ver un ejemplo de las cosas que en realidad queremos aprender a hacer. Consideremos la función factorial:\n",
    "\n",
    "$$\n",
    "n! = 1·2·...·(n-1)·n\n",
    "$$\n",
    "\n",
    "En Julia podemos evaluar $n!$ usando la función `gamma` o la función `factorial`, pero vamos a escribir una función que lo calcule. "
   ]
  },
  {
   "cell_type": "code",
   "execution_count": 13,
   "metadata": {},
   "outputs": [
    {
     "data": {
      "text/plain": [
       "fact (generic function with 1 method)"
      ]
     },
     "execution_count": 13,
     "metadata": {},
     "output_type": "execute_result"
    }
   ],
   "source": [
    "function fact(n)\n",
    "    x=1\n",
    "    for i in 2:n\n",
    "        x=x*i\n",
    "    end\n",
    "    x\n",
    "end"
   ]
  },
  {
   "cell_type": "markdown",
   "metadata": {},
   "source": [
    "Analicemos la función. Definimos x=1, luego entramos un ciclo `for` que empieza en `2` y llega a hasta `n` en saltos de $1$. En cada paso sustituye el valor de `x` por su valor anterior multiplicado por `i` que lleva cuenta del paso de la iteración en el que vamos. Es como si escribiéramos\n",
    "\n",
    "$$ \n",
    "x_1 = 1\n",
    "$$\n",
    "$$\n",
    "x_{n+1} = x_n · (n+1)\n",
    "$$\n",
    "\n",
    "Cuando llegamos a `n` salimos del ciclo `for` y la función nos regresa el valor de `x` en el que se quedó, que es precisamente $n!$.\n",
    "\n",
    "Veamos otro ejemplo similar. Recordemos que la serie de Taylor de la función exponencial es:\n",
    "\n",
    "$$\n",
    "e^x = \\sum_{n=0}^\\infty \\frac{x^n}{n!}\n",
    "$$\n",
    "\n",
    "Ahora, la computadora (ni nadie) pude hacer esta suma infinita, así que debemos escoger una $n$ lo suficientemente grande para tener una buena aproximación al valor real. Es decir, nosotros en realidad lo que vamos a calcular es:\n",
    "\n",
    "$$\n",
    "e^x \\approx \\sum_{l=0}^n \\frac{x^l}{l!}\n",
    "$$\n",
    "\n",
    "y si la $n$ es suficientemente grande entonces el número que obtengamos va a ser muy parecido a $e^x$. Ahora escribamos en Julia una función que haga esta aproximación hasta la $n$ que nosotros queramos."
   ]
  },
  {
   "cell_type": "code",
   "execution_count": 14,
   "metadata": {},
   "outputs": [
    {
     "data": {
      "text/plain": [
       "exponencial (generic function with 2 methods)"
      ]
     },
     "execution_count": 14,
     "metadata": {},
     "output_type": "execute_result"
    }
   ],
   "source": [
    "function exponencial(x,n=10)\n",
    "    m=1\n",
    "    for i in 1:n\n",
    "        m = m + x^i / factorial(i)\n",
    "    end\n",
    "    m\n",
    "end"
   ]
  },
  {
   "cell_type": "markdown",
   "metadata": {},
   "source": [
    "Se deja como ejercicio al lector ver que esta es una buena aproximación a la exponencial y entender cada línea del código. \n",
    "\n",
    "## Ciclos while\n",
    "\n",
    "Ahora hablemos de los ciclos `while`. Estos son muy similares a los ciclos `for`, pero a veces no sabemos exactamente cuántos pasos vamos a tener que dar antes de salir del ciclo. Cuando sea este el caso usamos un ciclo `while`:"
   ]
  },
  {
   "cell_type": "code",
   "execution_count": 15,
   "metadata": {},
   "outputs": [
    {
     "name": "stdout",
     "output_type": "stream",
     "text": [
      "0\n",
      "1\n",
      "2\n"
     ]
    },
    {
     "data": {
      "text/plain": [
       "3"
      ]
     },
     "execution_count": 15,
     "metadata": {},
     "output_type": "execute_result"
    }
   ],
   "source": [
    "l=0\n",
    "while l<3\n",
    "    println(\"$l\")\n",
    "    l+=1           #Escribir l+= es equivalente a escribir l=l+1\n",
    "                   #También se puede escribir l*=n para decir l=l*n \n",
    "end\n",
    "l"
   ]
  },
  {
   "cell_type": "markdown",
   "metadata": {},
   "source": [
    "Analicemos la sintaxis. Primero le indicamos a Julia que vamos a iniciar el ciclo escribiendo `while`. A continuación escribimos la condición que va a ser evaluada, en este caso vamos a checar que `l` tenga un valor menor a $3$. Presionamos `enter` y entramos al cuerpo del ciclo donde le decimos a Julia que hacer en caso de que la condición tenga un valor de verdad, en este caso es mostrar en que paso del ciclo vamos y luego actualizar la variable `l`. Esta última parte es muy importante porque debemos notar que si no actualizamos el valor de `l`, la condición siempre sería verdadera y entraríamos en un ciclo infinito. Esto sucede con frecuencia en los ciclos `while` así que hay que ser cuidadosos. Una vez que termina de realizar la tarea que esté en el cuerpo, se regresa a evaluar la condición otra vez para ver si va a salir del ciclo o vuelve a realizar una tarea, por ejemplo, después de la primera vuelta `l` se actualiza y pasa a valer $1$, pero $1$ sigue siendo menor que $3$ y entonces vuelve a entrar al ciclo y  sólo termina cuando `l` alcanza el valor $3$.\n",
    "\n",
    "¿Cuándo es más conveniente usar un ciclo `while` que un `for`?. Supongamos, por ejemplo, que se nos pide que encontremos el valor de $e^x$ con un cierto error con respecto al valor que calcula la computadora. De antemano no sabemos hasta qué orden de la aproximación (valor de $n$) debemos sumar para que el resultado tenga un error menor al pedido, entonces en este caso conviene utilizar un ciclo `while`."
   ]
  },
  {
   "cell_type": "code",
   "execution_count": 16,
   "metadata": {},
   "outputs": [
    {
     "data": {
      "text/plain": [
       "exponencial_2 (generic function with 1 method)"
      ]
     },
     "execution_count": 16,
     "metadata": {},
     "output_type": "execute_result"
    }
   ],
   "source": [
    "function exponencial_2(x,tolerancia)\n",
    "    m=1   #En m guardaremos el valor que estamos calculando de exp(x).\n",
    "    l=1   #En l guardamos el orden de la aproximación a la que hemos llegado. \n",
    "    while abs(m-exp(x)) > tolerancia #La funcion abs nos da la distancia entre m y exp(x).\n",
    "        m = m + x^l / factorial(l)\n",
    "        l=l+1\n",
    "    end\n",
    "    m,l   #Nos regresa el valor que se obtuvo y el orden en el que nos quedamos. \n",
    "end"
   ]
  },
  {
   "cell_type": "markdown",
   "metadata": {},
   "source": [
    "Veamos cómo funciona para $e^1=e$.\n",
    "\n",
    "> Julia tiene guardados valores como $\\pi$ o $e$. Para obtener el valor de $e$ en Julia hay que escribir `\\euler` y después presionar `tab`. Esto escribirá el símbolo $e$ con cursiva en el código de Julia y en consecuencia su valor."
   ]
  },
  {
   "cell_type": "code",
   "execution_count": 17,
   "metadata": {},
   "outputs": [
    {
     "data": {
      "text/plain": [
       "ℯ = 2.7182818284590..."
      ]
     },
     "execution_count": 17,
     "metadata": {},
     "output_type": "execute_result"
    }
   ],
   "source": [
    "ℯ"
   ]
  },
  {
   "cell_type": "markdown",
   "metadata": {},
   "source": [
    "Vamos a ejecutar la función `exponencial_2` con diferentes tolerancias:"
   ]
  },
  {
   "cell_type": "code",
   "execution_count": 18,
   "metadata": {},
   "outputs": [
    {
     "name": "stdout",
     "output_type": "stream",
     "text": [
      "(2.6666666666666665, 4)\n",
      "(2.708333333333333, 5)\n",
      "(2.7180555555555554, 7)\n",
      "(2.7182539682539684, 8)\n",
      "(2.71827876984127, 9)\n"
     ]
    }
   ],
   "source": [
    "for i in 1:5\n",
    "    println(exponencial_2(1,1/10^(i)))\n",
    "end"
   ]
  },
  {
   "cell_type": "markdown",
   "metadata": {},
   "source": [
    "Podemos ver que para acercarnos al resultado de la computadora en $0.1$ necesitamos al menos $4$ términos de la serie y para acercarnos en $0.00001$ necesitamos $9$ términos de la serie. Esto, en principio, no lo podríamos saber de antemano y por lo tanto un ciclo `for` no nos hubiera ayudado en este problema."
   ]
  },
  {
   "cell_type": "markdown",
   "metadata": {
    "collapsed": true
   },
   "source": [
    "Regresar a las [Herramientas](http://sistemas.fciencias.unam.mx/~rich/Herramientas/)\n",
    "\n",
    "Curso relacionado con este notebook: [Física Computacional](http://sistemas.fciencias.unam.mx/~rich/FisComp/)\n",
    "\n",
    "Se agradece el apoyo de los proyectos:\n",
    "* PE 112919 durante el año 2020. *Actualización a la última versión de Julia. Se han agregado explicaciones y ejemplos*\n",
    "* PE 105017 durante el año 2017. *Idea original*"
   ]
  }
 ],
 "metadata": {
  "anaconda-cloud": {},
  "kernelspec": {
   "display_name": "Julia 1.5.1",
   "language": "julia",
   "name": "julia-1.5"
  },
  "language_info": {
   "file_extension": ".jl",
   "mimetype": "application/julia",
   "name": "julia",
   "version": "1.5.1"
  }
 },
 "nbformat": 4,
 "nbformat_minor": 1
}
