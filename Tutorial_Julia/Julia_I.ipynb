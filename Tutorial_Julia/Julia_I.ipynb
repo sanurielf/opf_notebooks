{
 "cells": [
  {
   "cell_type": "markdown",
   "metadata": {},
   "source": [
    "# Tutorial básico de Julia\n",
    "\n",
    "## Julia I\n",
    "\n",
    "\n",
    "> Ricardo Méndez Fragoso $\\mathbb{R}i \\vec c \\hbar$\n",
    ">\n",
    "> Agradecimiento especial a Diego Alberto Olvera Millán por iniciar este tutorial que se ha ido actualizando a lo largo del tiempo.\n",
    "\n",
    "En el enlace de [Mi primer Notebook](http://nbviewer.jupyter.org/url/sistemas.fciencias.unam.mx/~rich/Herramientas/notebooks/Mi_primer_notebook.ipynb), se puede aprender acerca de las bondades y beneficios de la herramienta que ocupamos actualmente, a saber **Python 2** dentro de la plataforma de **Jupyter Notebook**. En este Notebook y en los subsecuentes a este tutorial comenzaremos a aprender a programar en el lenguaje **Julia**.\n",
    "\n",
    "Comencemos por notar una sutil diferencia entre la notación entre *Python 2* y *Julia*. Veamos la diferencia entre hacer las cosas en Julia y en Python 2: \n",
    "\n",
    "> Julia:\n",
    "\n",
    "``` julia\n",
    "print(\"Hola\") \n",
    "```\n",
    "\n",
    "> Python:\n",
    "\n",
    "```python\n",
    "print \"Hola\"\n",
    "```\n",
    "\n",
    "En el caso de Julia podemos observar que es un lenguaje mucho más estructurado con una notación más estricta o formal con la finalidad de no dejar ambigüedades. De hecho, en este ejemplo vemos que es más parecido a **Python 3**. A lo largo del camino veremos que hay muchas similitudes con **Python 3**, pero de una manera mucho más estructurada, con la ventaja de que **Julia** es más rápido si se sabe manejar de manera adecuada."
   ]
  },
  {
   "cell_type": "markdown",
   "metadata": {},
   "source": [
    "## Herramienta de ayuda y variables \n",
    "\n",
    "Empezaremos con una de las herramientas más útiles en Julia, la función de ayuda. Veamos cómo se usa, y para ello se utiliza símbolo de **?** antes de cada comando como se muestra a continuación:\n",
    "\n",
    "```julia\n",
    "?cos\n",
    "```\n",
    "\n",
    "Al ejecutar esta celda, Julia nos dirá información sobre la función `cos` (coseno), en particular, la salida de `?cos` es: \n",
    "\n",
    "```julia\n",
    "cos(x)\n",
    "Compute cosine of x, where x is in radians.\n",
    "```\n",
    "\n",
    "En general, la función **?** nos dirá cosas tales como los tipos de argumentos que puede tomar la función, la forma de las salidas y, algunas veces, ejemplos de uso de la función acerca de la cuál estamos preguntando. \n",
    "\n",
    "Ahora imaginémonos que queremos calcular el determinante de una matriz. Es razonable pensar que Julia tiene incorporada una función que haga esto, pero no sabemos qué función es. Tenemos dos formas de proceder:\n",
    "\n",
    "1. Revisar la documentación de julia [aquí](https://docs.julialang.org) o\n",
    "\n",
    "2. Intentar adivinar. \n",
    "\n",
    "Aunque la opción dos parece absurda, en Julia suele ser muy fácil, esto debido a que podemos empezar por escribir en la computadora \n",
    "\n",
    "```julia\n",
    "de\n",
    "```\n",
    "\n",
    "y luego presionamos la tecla `tab`. Esto generará una lista al lado de donde escribimos `de` con todas las funciones, variables que ya se hayan definido o disponibles en el momento. En este ejemplo en particular se obtiene\n",
    "\n",
    "``` julia\n",
    "dec\n",
    "deconv\n",
    "deepcopy\n",
    "default_worker_pool\n",
    "deg2rad\n",
    "delete!\n",
    "deleteat!\n",
    "den\n",
    "deserialize\n",
    "det\n",
    "\n",
    "```\n",
    "\n",
    "Claramente la función `det` es la principal candidata a ser la que buscamos, ahora simplemente tecleamos \n",
    "\n",
    "```julia\n",
    "?det\n",
    "```\n",
    "\n",
    "y así nos convencemos de que en efecto con `det` calculamos determinantes. \n",
    "\n",
    "Una de las primeras cosas que vamos a hacer con Julia es definir variables. Esto es muy simple y basta con escribir\n",
    "\n",
    "```julia\n",
    "\n",
    "x=5\n",
    "\n",
    "```\n",
    "y ya tenemos a `x` con el valor $5$.\n",
    "\n",
    "Si ahora quisiéramos imprimir el valor de `x` se usa la siguiente sintaxis: \n",
    "\n",
    "```julia\n",
    "println(\"$x\")\n",
    "```\n",
    "\n",
    "El operador ```$``` le está diciendo a Julia que evalúe a `x`, lo convierta en una cadena de caracteres y lo ponga en ese lugar."
   ]
  },
  {
   "cell_type": "code",
   "execution_count": 1,
   "metadata": {},
   "outputs": [
    {
     "data": {
      "text/plain": [
       "5"
      ]
     },
     "execution_count": 1,
     "metadata": {},
     "output_type": "execute_result"
    }
   ],
   "source": [
    "x=5"
   ]
  },
  {
   "cell_type": "code",
   "execution_count": 2,
   "metadata": {},
   "outputs": [
    {
     "name": "stdout",
     "output_type": "stream",
     "text": [
      "x = 5\n"
     ]
    }
   ],
   "source": [
    "println(\"x = $x\")"
   ]
  },
  {
   "cell_type": "markdown",
   "metadata": {},
   "source": [
    "Otra forma de hacerlo es simplemente decirle a Julia que nos de el valor de `x` sin la necesidad de que lo convierta en una cadena."
   ]
  },
  {
   "cell_type": "code",
   "execution_count": 3,
   "metadata": {},
   "outputs": [
    {
     "name": "stdout",
     "output_type": "stream",
     "text": [
      "5\n"
     ]
    }
   ],
   "source": [
    "println(x)"
   ]
  },
  {
   "cell_type": "markdown",
   "metadata": {},
   "source": [
    "Note que la primera forma de imprimir el valor de `x` es equivalente a la siguiente:"
   ]
  },
  {
   "cell_type": "code",
   "execution_count": 4,
   "metadata": {},
   "outputs": [
    {
     "name": "stdout",
     "output_type": "stream",
     "text": [
      "x = 5\n"
     ]
    }
   ],
   "source": [
    "println(\"x = \",x)"
   ]
  },
  {
   "cell_type": "markdown",
   "metadata": {},
   "source": [
    "## Tipos de datos\n",
    "\n",
    "### Números\n",
    "\n",
    "Ahora hablaremos un poco de la forma en la que Julia interpreta algunas de las variables que le decimos. Julia clasifica sus objetos con una etiqueta que se llama tipo. Por ejemplo, el número $1$ es del tipo `Int64`. ¿Qué quiere decir esto?. Significa que Julia le está pidiendo a la computadora que reserve 64 bits de memoria en alguna parte de la memoria para hacer existir al número introducido, en este caso el número *uno*. La variable `x` que definimos de ejemplo es de este tipo. ¿Cómo lo podemos saber?. Existe la función `typeof(x)` que nos dice qué tipo de objeto es `x`. Julia es muy inteligente con los tipos. Por ejemplo, en algunos lenguajes de programación si ponemos: \n",
    "\n",
    "```\n",
    "1/5\n",
    "```\n",
    "\n",
    "obtenemos de salida 0. Esto debido a que $1$ y $5$ son del tipo enteros, entonces el resultado debe ser un entero y el entero más cercano a $\\frac{1}{5}$ es $0$. En cambio, si en Julia escribimos \n",
    "\n",
    "```julia\n",
    "1/5\n",
    "``` \n",
    "\n",
    "el output que obtenemos es $0.2$. Es decir, Julia 'se da cuenta' que (obviamente) no queremos que el resultado de escribir `1/5` sea un entero y entonces automáticamente le asigna el tipo `Float64`, que se puede decir que es el tipo que corresponde a los reales. Puedes experimentar un poco con esto preguntando con `typeof` los tipos de algunos objetos. Existe también el tipo de objetos `complex` y el número $i$ de los números complejos se denota por `im`, entonces para escribir $x+iy$ escribimos\n",
    "\n",
    "```julia\n",
    "x + im*y\n",
    "``` \n",
    "\n",
    "En general, no es necesario decirle a Julia qué tipos de objetos vamos a usar porque el programa siempre intenta cambiar los tipos de manera adecuada para que las operaciones que uno le está pidiendo a la computadora se puedan realizar. \n",
    "\n",
    "Hasta antes de la versión `0.5` de Julia, se podía usar la función `int(x)` para convertir a `x` en un entero, pero ésta ha sido eliminada. Sin embargo, sí se puede usar la función `float(x)` para convertir a x en un flotante. Si deseas obtener un resultado entero de una operación, se pude usar la función `round(x)`. \n",
    "\n",
    "Para calcular potencias de números escribimos `x^y`. También se puede usar notación científica y escribir `1e2`, lo cual nos regresa un `100.0` (del tipo flotante, no entero). \n",
    "\n",
    "### Arreglos\n",
    "\n",
    "Ahora veamos uno de los elementos más importantes de Julia, los arreglos. Éstos son un tipo de objeto que guarda muchos valores en una sola variable. Podemos pensar en algunos arreglos como vectores o como matrices, pero en realidad pueden ser mucho más que eso. Empecemos por definir un par de arreglos sencillos."
   ]
  },
  {
   "cell_type": "code",
   "execution_count": 5,
   "metadata": {},
   "outputs": [
    {
     "data": {
      "text/plain": [
       "3-element Array{Int64,1}:\n",
       " 1\n",
       " 2\n",
       " 3"
      ]
     },
     "execution_count": 5,
     "metadata": {},
     "output_type": "execute_result"
    }
   ],
   "source": [
    "x=[1,2,3]"
   ]
  },
  {
   "cell_type": "code",
   "execution_count": 6,
   "metadata": {},
   "outputs": [
    {
     "data": {
      "text/plain": [
       "1×3 Array{Int64,2}:\n",
       " 1  2  3"
      ]
     },
     "execution_count": 6,
     "metadata": {},
     "output_type": "execute_result"
    }
   ],
   "source": [
    "y=[1 2 3]"
   ]
  },
  {
   "cell_type": "markdown",
   "metadata": {},
   "source": [
    "En principio estos dos arreglos parecen similares, pero preguntémosle a Julia si tienen diferencias. Para esto escribimos `typeof(x)` y `typeof(y)`.\n",
    "\n",
    "```julia\n",
    "In: typeof(x)\n",
    "Out: Array{Int64,1}\n",
    "\n",
    "In: typeof(x)\n",
    "Out: Array{Int64,2}\n",
    "```\n",
    "La diferencia está en lo que se encuentra al lado de `Int64`, `x` es un arreglo que se indexa con un sólo índice y `y` se puede indexar con dos. ¿Qué significa esto?. Cuando definimos `x` Julia nos dice que es un arreglo de 3 elementos pero cuando definimos `y` nos dice que es un arreglo de `1x3` elementos. Esto quiere decir, como en las matrices, que tenemos un renglón y 3 columnas. Si queremos accesar a un elemento específico de x, escribimos `x[i]`, donde `i` será el i-ésimo elemento del arreglo. En Julia, el primer elemento comienza con 1.\n",
    "\n",
    "```julia\n",
    "x[i]\n",
    "```\n",
    "\n",
    "Como dijimos, `y` está indexado por dos índices, lo cual quiere decir que podemos escribir `y[1,j]` y esto nos da el elemento que se encuentra en el primer renglón en la columna j-ésima. \n",
    "\n",
    "```julia\n",
    "y[1,j]\n",
    "```\n",
    "\n",
    "Ahora definamos una verdadera matriz para hablar más sobre los índices. Podemos definir la siguiente matriz:"
   ]
  },
  {
   "cell_type": "code",
   "execution_count": 7,
   "metadata": {},
   "outputs": [
    {
     "data": {
      "text/plain": [
       "3×3 Array{Int64,2}:\n",
       "  1   2   3\n",
       " -1  -2  -3\n",
       "  0   0   0"
      ]
     },
     "execution_count": 7,
     "metadata": {},
     "output_type": "execute_result"
    }
   ],
   "source": [
    "M = [1 2 3;-1 -2 -3;0 0 0]"
   ]
  },
  {
   "cell_type": "markdown",
   "metadata": {},
   "source": [
    "El tipo de `M` es `Array{Int64,2}` y tiene 9 elementos. Supongamos que queremos extraer el valor -3. Esto lo podemos hacer de dos formas. La primera es llamar al elemento por renglón y columna, entonces escribiríamos `M[2,3]` y obtenemos el `-3`, pero Julia nos permite hacer otra cosa. Si empezamos a contar desde el `1` hacia abajo, de modo que cuando lleguemos a la columna `2` y nuestra cuenta vaya en 8, se puede decir que el `-3` es el elemento 8 del arreglo. Entonces si escribimos `M[8]` Julia nos regresa el `-3` tal como se podría esperar. Esto no parecería ser muy importante pero a veces puede ser muy útil, en especial cuando hacemos ciclos (los cuales veremos en el siguiente Notebook). \n",
    "\n",
    "El operador `*` en Julia tiene muchas formas de usarse, a cada una de estas formas se le llama un método. En particular, si tenemos dos matrices que se puedan multiplicar de acuerdo a las reglas el álgebra lineal, podemos multiplicarlas directamente como `A*B`. Por ejemplo, podemos multiplicar de la siguiente forma:  "
   ]
  },
  {
   "cell_type": "code",
   "execution_count": 8,
   "metadata": {},
   "outputs": [
    {
     "data": {
      "text/plain": [
       "1-element Array{Int64,1}:\n",
       " -14"
      ]
     },
     "execution_count": 8,
     "metadata": {},
     "output_type": "execute_result"
    }
   ],
   "source": [
    "y*M*x"
   ]
  },
  {
   "cell_type": "markdown",
   "metadata": {},
   "source": [
    "En lenguaje matemático es análogo a que escribiéramos $\\mathbf{y}^T \\mathbb{M} \\mathbf{x}$. Si deseas aprender un poco más acerca de las operaciones que se pueden realizar con los arreglos puedes consultar [Julia arrays](https://docs.julialang.org/en/v1/base/arrays/).\n",
    "\n",
    "Los arreglos que hemos definido hasta ahora tienen como tipo de dato el tipo de los elementos que lo conforman. Podemos hacer un arreglo de `strings`."
   ]
  },
  {
   "cell_type": "code",
   "execution_count": 9,
   "metadata": {},
   "outputs": [
    {
     "data": {
      "text/plain": [
       "2×3 Array{String,2}:\n",
       " \"Uno\"   \"Dos\"    \"Tres\"\n",
       " \"Hola\"  \"Adiós\"  \"Void\""
      ]
     },
     "execution_count": 9,
     "metadata": {},
     "output_type": "execute_result"
    }
   ],
   "source": [
    "S = [\"Uno\" \"Dos\" \"Tres\";\"Hola\" \"Adiós\" \"Void\"]"
   ]
  },
  {
   "cell_type": "markdown",
   "metadata": {},
   "source": [
    "Pero podemos definir un arreglo sin decirle a Julia qué tipo de dato vamos a guardar en cada una de sus entradas. Lo que sí debemos especificar es el tamaño del arreglo. Por ejemplo"
   ]
  },
  {
   "cell_type": "code",
   "execution_count": 10,
   "metadata": {},
   "outputs": [
    {
     "data": {
      "text/plain": [
       "2×2×3 Array{Any,3}:\n",
       "[:, :, 1] =\n",
       " #undef  #undef\n",
       " #undef  #undef\n",
       "\n",
       "[:, :, 2] =\n",
       " #undef  #undef\n",
       " #undef  #undef\n",
       "\n",
       "[:, :, 3] =\n",
       " #undef  #undef\n",
       " #undef  #undef"
      ]
     },
     "execution_count": 10,
     "metadata": {},
     "output_type": "execute_result"
    }
   ],
   "source": [
    "U = Array{Any}(undef,2,2,3)"
   ]
  },
  {
   "cell_type": "markdown",
   "metadata": {},
   "source": [
    "`U` es un arreglo complicado, así que intentemos entenderlo. Primero, el arreglo se indexa con 3 índices, cada uno de los cuales puede tener distintos valores. Es decir, si llamamos al elemento `U[i,j,k]` es claro que `i` sólo puede valer 1, `j` puede valer 1 ó 2 y `k` puede valer 1,2 ó 3. Segundo, el tipo de dato que tiene es `Any`, esto significa que podemos llenarlo con cualquier cosa. ¿Qué significa esto?. Si vemos los ejemplos anteriores de `S` y `M`, si intentamos sustituir uno de los elementos de `S` por un número o uno de los elementos de `M` por una cadena de caracteres Julia nos regresa un error como se muestra a continuación:"
   ]
  },
  {
   "cell_type": "code",
   "execution_count": 11,
   "metadata": {},
   "outputs": [
    {
     "ename": "LoadError",
     "evalue": "MethodError: Cannot `convert` an object of type Int64 to an object of type String\nClosest candidates are:\n  convert(::Type{T}, !Matched::T) where T<:AbstractString at strings/basic.jl:229\n  convert(::Type{T}, !Matched::AbstractString) where T<:AbstractString at strings/basic.jl:230\n  convert(::Type{T}, !Matched::T) where T at essentials.jl:171",
     "output_type": "error",
     "traceback": [
      "MethodError: Cannot `convert` an object of type Int64 to an object of type String\nClosest candidates are:\n  convert(::Type{T}, !Matched::T) where T<:AbstractString at strings/basic.jl:229\n  convert(::Type{T}, !Matched::AbstractString) where T<:AbstractString at strings/basic.jl:230\n  convert(::Type{T}, !Matched::T) where T at essentials.jl:171",
      "",
      "Stacktrace:",
      " [1] setindex!(::Array{String,2}, ::Int64, ::Int64, ::Int64) at ./array.jl:849",
      " [2] top-level scope at In[11]:1",
      " [3] include_string(::Function, ::Module, ::String, ::String) at ./loading.jl:1091"
     ]
    }
   ],
   "source": [
    "S[1,1] = 5"
   ]
  },
  {
   "cell_type": "code",
   "execution_count": 12,
   "metadata": {},
   "outputs": [
    {
     "ename": "LoadError",
     "evalue": "MethodError: Cannot `convert` an object of type String to an object of type Int64\nClosest candidates are:\n  convert(::Type{T}, !Matched::T) where T<:Number at number.jl:6\n  convert(::Type{T}, !Matched::Number) where T<:Number at number.jl:7\n  convert(::Type{T}, !Matched::Ptr) where T<:Integer at pointer.jl:23\n  ...",
     "output_type": "error",
     "traceback": [
      "MethodError: Cannot `convert` an object of type String to an object of type Int64\nClosest candidates are:\n  convert(::Type{T}, !Matched::T) where T<:Number at number.jl:6\n  convert(::Type{T}, !Matched::Number) where T<:Number at number.jl:7\n  convert(::Type{T}, !Matched::Ptr) where T<:Integer at pointer.jl:23\n  ...",
      "",
      "Stacktrace:",
      " [1] setindex!(::Array{Int64,2}, ::String, ::Int64, ::Int64) at ./array.jl:849",
      " [2] top-level scope at In[12]:1",
      " [3] include_string(::Function, ::Module, ::String, ::String) at ./loading.jl:1091"
     ]
    }
   ],
   "source": [
    "M[1,1] = \"Hola\""
   ]
  },
  {
   "cell_type": "markdown",
   "metadata": {},
   "source": [
    "Estos errores se deben a que la conversión de tipo no es clara para Julia y entonces no procede. Ahora, el arreglo `U` está vacío, pero intentemos llenarlo. "
   ]
  },
  {
   "cell_type": "code",
   "execution_count": 13,
   "metadata": {},
   "outputs": [],
   "source": [
    "U[1,1,1] = \"Hola\" ; U[1,2,1] = 5\n",
    "U[1,2,2] = im;"
   ]
  },
  {
   "cell_type": "code",
   "execution_count": 14,
   "metadata": {},
   "outputs": [
    {
     "data": {
      "text/plain": [
       "2×2×3 Array{Any,3}:\n",
       "[:, :, 1] =\n",
       "    \"Hola\"    5\n",
       " #undef     #undef\n",
       "\n",
       "[:, :, 2] =\n",
       " #undef   im\n",
       " #undef  #undef\n",
       "\n",
       "[:, :, 3] =\n",
       " #undef  #undef\n",
       " #undef  #undef"
      ]
     },
     "execution_count": 14,
     "metadata": {},
     "output_type": "execute_result"
    }
   ],
   "source": [
    "U"
   ]
  },
  {
   "cell_type": "markdown",
   "metadata": {},
   "source": [
    "Y podemos observar que el arreglo `U` ahora consta de elementos de tipos distintos sin ningún problema. Esto puede ser extraordinariamente útil, los elementos de `U` incluso podrían ser arreglos. \n",
    "\n",
    "Con lo que sabemos hasta ahora sobre los arreglos, haremos mención de una herramienta útil de Julia. Supongamos que tenemos la función de 3 variables\n",
    "\n",
    "```julia\n",
    "h(x,y,z)\n",
    "```\n",
    "\n",
    "Podemos definir un par de arreglos $X=[x_1,x_2,x_3]$ y $Y=[y_1 \\; y_2 \\; y_3]$. Si quisiéramos evaluar la función `h` en los valores de estos arreglos, no basta con escribir `h(X)` o `h(Y)`, pero se puede hacer lo siguiente:\n",
    "\n",
    "```julia\n",
    "h(X...)\n",
    "h(Y...)\n",
    "```\n",
    "\n",
    "Lo que hace el operador `...` es \"desempacar\" los elementos de `X` y `Y` para pasar cada uno de sus elementos como argumento individual a la función `h`. Es decir, lo que escribimos es equivalente a escribir: \n",
    "\n",
    "```julia\n",
    "h(X[1],X[2],X[3])\n",
    "```\n",
    "\n",
    "Como motivación del uso de arreglos, ahora mostramos una manera interesante de definir una matriz que dará pie a definir los ciclos. "
   ]
  },
  {
   "cell_type": "code",
   "execution_count": 15,
   "metadata": {},
   "outputs": [
    {
     "data": {
      "text/plain": [
       "3×3 Array{Int64,2}:\n",
       " 5  4  2\n",
       " 4  4  4\n",
       " 3  5  1"
      ]
     },
     "execution_count": 15,
     "metadata": {},
     "output_type": "execute_result"
    }
   ],
   "source": [
    "R = reshape([rand(1:9) for i in 1:9],3,3)"
   ]
  },
  {
   "cell_type": "markdown",
   "metadata": {},
   "source": [
    "Lo que aparece es una matriz de `3x3` cuyos elementos son números aleatorios entre 1 y 9. Usamos dos funciones: `reshape` y `rand`, un ciclo `for` y un rango `1:9`. Para aprender un poco más de cada una de estás cosas usa `typeof()` y `?`. En el siguiente Notebook aprenderemos a usar ciclos.  \n",
    "\n",
    "### Tuplas \n",
    "\n",
    "Además de los arreglos en Julia tiene otro tipo de estructura de datos llamada tupla que se escriben\n",
    "\n",
    "```julia\n",
    "(n1,n2,...,nL)\n",
    "```\n",
    "ó\n",
    "\n",
    "```julia\n",
    "n1,n2,...,nL\n",
    "``` \n",
    "\n",
    "Y tenemos una tupla de `L` elementos. Las dos formas de escribirlo son equivalentes. Las $n_i$ no tienen que ser todas del mismo tipo. Cada una de ellas puede ser distinta que las demás.  "
   ]
  },
  {
   "cell_type": "code",
   "execution_count": 16,
   "metadata": {},
   "outputs": [
    {
     "data": {
      "text/plain": [
       "Tuple{Int64,Int64,Int64}"
      ]
     },
     "execution_count": 16,
     "metadata": {},
     "output_type": "execute_result"
    }
   ],
   "source": [
    "typeof((1,2,3))"
   ]
  },
  {
   "cell_type": "code",
   "execution_count": 17,
   "metadata": {},
   "outputs": [
    {
     "data": {
      "text/plain": [
       "(1, [1, 2])"
      ]
     },
     "execution_count": 17,
     "metadata": {},
     "output_type": "execute_result"
    }
   ],
   "source": [
    "1,[1,2]"
   ]
  },
  {
   "cell_type": "code",
   "execution_count": 18,
   "metadata": {},
   "outputs": [
    {
     "data": {
      "text/plain": [
       "Tuple{Int64,Array{Int64,1}}"
      ]
     },
     "execution_count": 18,
     "metadata": {},
     "output_type": "execute_result"
    }
   ],
   "source": [
    "typeof((1,[1,2]))"
   ]
  },
  {
   "cell_type": "markdown",
   "metadata": {},
   "source": [
    "La utilidad de las tuplas está en que a veces queremos que una función nos regrese más de un valor, pero no queremos guardar esto en un arreglo. Podemos pedirle a Julia que nos devuelva una tupla y guardar los valores por separado. Por ejemplo:"
   ]
  },
  {
   "cell_type": "code",
   "execution_count": 19,
   "metadata": {},
   "outputs": [
    {
     "data": {
      "text/plain": [
       "H (generic function with 1 method)"
      ]
     },
     "execution_count": 19,
     "metadata": {},
     "output_type": "execute_result"
    }
   ],
   "source": [
    "H(x,y) = 2x , 3y"
   ]
  },
  {
   "cell_type": "code",
   "execution_count": 20,
   "metadata": {},
   "outputs": [
    {
     "data": {
      "text/plain": [
       "(2, 3)"
      ]
     },
     "execution_count": 20,
     "metadata": {},
     "output_type": "execute_result"
    }
   ],
   "source": [
    "valor_1,valor_2 = H(1,1)"
   ]
  },
  {
   "cell_type": "code",
   "execution_count": 21,
   "metadata": {},
   "outputs": [
    {
     "data": {
      "text/plain": [
       "2"
      ]
     },
     "execution_count": 21,
     "metadata": {},
     "output_type": "execute_result"
    }
   ],
   "source": [
    "valor_1"
   ]
  },
  {
   "cell_type": "code",
   "execution_count": 22,
   "metadata": {},
   "outputs": [
    {
     "data": {
      "text/plain": [
       "3"
      ]
     },
     "execution_count": 22,
     "metadata": {},
     "output_type": "execute_result"
    }
   ],
   "source": [
    "valor_2"
   ]
  },
  {
   "cell_type": "markdown",
   "metadata": {},
   "source": [
    "El ejercicio anterior nos muestra la forma básica de como definir una función. Hay varias maneras de hacerlo y a continuación veamos como definir una función en Julia.\n",
    "\n",
    "## Funciones\n",
    "\n",
    "Podemos fácilmente definir funciones:\n",
    "\n",
    "```julia\n",
    "f(y) = y^2 - 1\n",
    "```\n",
    "\n",
    "Con esto hemos definido la función `f` que podemos evaluar en la `y` que queramos. Otra forma de definir funciones que resulta más útil cuando la función no es para hacer una simple operación aritmética es:\n",
    "\n",
    "```julia\n",
    "function signo(x)\n",
    "    if x < 0\n",
    "        -1\n",
    "    else\n",
    "        1\n",
    "    end\n",
    "end    \n",
    "``` \n",
    "\n",
    "Esta función (que ya está definida en Julia y se llama, por supuesto, `sign`) nos dice el signo del número `x` que pongamos como argumento. Analicemos la sintaxis de la función\n",
    "\n",
    "1. Primero tenemos que decirle a julia que vamos a definir una función, esto lo hacemos escribiendo `function`.\n",
    "2. Después ponemos el nombre de la función (en este caso `signo`) y ponemos a continuación entre paréntesis los argumentos que va a tomar la función. Los tipos de argumentos puedes ser muy variados, pueden ser enteros, flotantes, arreglos, incluso otras funciones. \n",
    ">Nota: Existen funciones que no llevan argumentos, por ejemplo, la función `rand()` nos da un número pseudo-aleatorio entre 0 y 1, inténtalo. Intenta también preguntarle a Julia qué más sabe hacer la función `rand`.\n",
    "\n",
    "3. Ahora presionamos `enter` y Julia automáticamente pone una sangría para hacer más claro el cuerpo de la función. \n",
    ">Nota: En el ejemplo, después del if hay una sangría, esto se hace para dejar muy claro qué partes del código pertenecen a los ciclos. \n",
    "\n",
    "4. Finalmente debemos avisar a Julia que hemos terminado de definir la función. Esto se hace con `end`. Nota que `function` y `end` empiezan 'a la misma altura'. \n",
    "\n",
    "En Julia se pueden definir funciones con variables que se conocen como opcionales. Esto se hace de la siguiente forma:\n",
    "\n",
    "```julia\n",
    "G(x,y=n)\n",
    "``` \n",
    "\n",
    "Esto define a una función `G` que toma como argumento a `x` y opcionalmente podemos poner un argumento `y`, en caso de que no lo pongamos `G` se evalúa con el valor predeterminado `n`. Por ejemplo, definimos:\n",
    "\n",
    "```julia\n",
    "f_2(y,x=0) = y^2 - 1 + x\n",
    "```\n",
    "\n",
    "Esta función va a dar el mismo valor que la `f` que habíamos definido de ejemplo anterior siempre y cuando no le pasemos el segundo argumento. En cambio, cuando le demos un segundo argumento distinto de $0$ es claro que la función tendrá otro comportamiento. Veamos: "
   ]
  },
  {
   "cell_type": "code",
   "execution_count": 23,
   "metadata": {},
   "outputs": [
    {
     "data": {
      "text/plain": [
       "f_2 (generic function with 2 methods)"
      ]
     },
     "execution_count": 23,
     "metadata": {},
     "output_type": "execute_result"
    }
   ],
   "source": [
    "f_2(y,x=0) = y^2 - 1 + x"
   ]
  },
  {
   "cell_type": "code",
   "execution_count": 24,
   "metadata": {},
   "outputs": [
    {
     "data": {
      "text/plain": [
       "0"
      ]
     },
     "execution_count": 24,
     "metadata": {},
     "output_type": "execute_result"
    }
   ],
   "source": [
    "f_2(1)"
   ]
  },
  {
   "cell_type": "code",
   "execution_count": 25,
   "metadata": {},
   "outputs": [
    {
     "data": {
      "text/plain": [
       "1"
      ]
     },
     "execution_count": 25,
     "metadata": {},
     "output_type": "execute_result"
    }
   ],
   "source": [
    "f_2(1,1)"
   ]
  },
  {
   "cell_type": "markdown",
   "metadata": {},
   "source": [
    "Experimenta definiendo funciones que regresen tuplas y ve la practicidad de utilizar este tipo de arreglos. Como se puede observar, Julia ofrece una gran versatilidad en el manejo de las variables. Además, este lenguaje está orientado al manejo eficiente de arreglos, haciendo que este lenguaje sea idóneo para cálculo numérico."
   ]
  },
  {
   "cell_type": "markdown",
   "metadata": {
    "collapsed": true
   },
   "source": [
    "Regresar a las [Herramientas](http://sistemas.fciencias.unam.mx/~rich/Herramientas/)\n",
    "\n",
    "Curso relacionado con este notebook: [Física Computacional](http://sistemas.fciencias.unam.mx/~rich/FisComp/)\n",
    "\n",
    "Se agradece el apoyo de los proyectos:\n",
    "* PE 112919 durante el año 2020. *Actualización a la última versión de Julia. Se han agregado explicaciones y ejemplos*\n",
    "* PE 105017 durante el año 2017. *Idea original*"
   ]
  }
 ],
 "metadata": {
  "anaconda-cloud": {},
  "kernelspec": {
   "display_name": "Julia 1.5.3",
   "language": "julia",
   "name": "julia-1.5"
  },
  "language_info": {
   "file_extension": ".jl",
   "mimetype": "application/julia",
   "name": "julia",
   "version": "1.5.3"
  }
 },
 "nbformat": 4,
 "nbformat_minor": 1
}
