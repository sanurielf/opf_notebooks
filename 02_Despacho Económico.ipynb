{
 "cells": [
  {
   "cell_type": "markdown",
   "metadata": {},
   "source": [
    "# Despacho económico\n",
    "\n",
    "**Cotribución de**: Uriel Sandoval, basado en las notas del Prof. Claudio Fuerte."
   ]
  },
  {
   "cell_type": "markdown",
   "metadata": {},
   "source": [
    "El despacho económico (DE) es un problema de optimización que busca minimizar el costo de producción de energía eléctrica sujeto a restricciones físicas en la red de potencia. En su modificación más básica, es un problema lineal (LP) o cuadrático (QO) que se soluciona considerando una carga agregada y un pronóstico de energía variable (eólica o solar) para un sólo momento infinitésimal. Matemáticamente, el problema puede ser escrito de la siguiente forma:\n",
    "\n",
    "\\begin{equation*}\n",
    "\\min \\sum_{i=1}^N C_i (P_{G_i}) = \\sum_{i=1}^N \\left(a_i + b_i P_{G_i} + c P_{G_i}^2\\right)\n",
    "\\end{equation*}\n",
    "\n",
    "donde $a_{i}$ es el costo fijo de producción ($\\$/MWh$), $b_i$  el costo incremental ($\\$/MWh$), $c_i$ es el costo cuadrático de producción ($\\$/MWh$) y $P_{G_i}$ es la potencia generada (MW) del generador $i$.\n",
    "\n",
    "\n",
    "Sujeto a la siguiente restricción:\n",
    "\n",
    "* Balance de potencia\n",
    "\n",
    "\\begin{equation}\n",
    "\\sum_{i=1}^N P_{G_i} = P_D\n",
    "\\end{equation}\n",
    "\n",
    "donde $P_D$ es la carga demandada.\n",
    "\n",
    "Esta formulación no toma en cuenta las pérdidas en la red de transmisión ni las restricciones de flujo en la misma. También notar que efecto de la potencia reactiva no es tomado en cuenta."
   ]
  },
  {
   "attachments": {
    "image.png": {
     "image/png": "[encoded data removed]"
    }
   },
   "cell_type": "markdown",
   "metadata": {},
   "source": [
    "## Ejemplo de tres generadores\n",
    "\n",
    "\n",
    "\n",
    "Considere el siguiente sistema de potencia ideal:\n",
    "\n",
    "![image.png](attachment:image.png)\n",
    "\n",
    "\n",
    "con los siguientes costos de generación.\n",
    "\n",
    "| Unidad  | $a_i$ | $b_i$ | $c_i$ |\n",
    "| -- | -- | -- | -- | \n",
    "| $G_1$  | 561 | 7.92 | 0.00154 |\n",
    "| $G_2$ | 310  | 7.8 | 0.002 |\n",
    "| $G_3$| 78  | 8 | 0.005 |\n",
    "\n",
    "\n",
    "Por lo cual, nuestro problema de optimización cuadrático se puede escribir como:\n",
    "\n",
    "\\begin{equation}\n",
    "\\min C_T = 561 + 7.92 P_{G_1}  + 0.00154 P_{G_1}^2 + 310 + 7.8 P_{G_2}  + 0.002 P_{G_2}^2 + 78 + 8 P_{G_3}  + 0.005 P_{G_3}^2\n",
    "\\end{equation}\n",
    "\n",
    "sujeto a:\n",
    "\n",
    "\\begin{equation}\n",
    "P_{G_1} + P_{G_2} + P_{G_3} = 850\n",
    "\\end{equation}\n",
    "\n",
    "\n",
    "Este problema de optimización puede ser resuelto utilizando la ecuación extendida de Lagrange:\n",
    "\n",
    "\n",
    "\\begin{equation}\n",
    "\\begin{split}\n",
    "L  &= C_T + \\lambda \\left(-\\left(P_{G_1} + P_{G_2} + P_{G_3} \\right) + 850 \\right) \\\\\n",
    "&=  561 + 7.92 P_{G_1}  + 0.00154 P_{G_1}^2 + 310 + 7.8 P_{G_2}  + 0.002 P_{G_2}^2 + 78 + 8 P_{G_3}  + 0.005 P_{G_3}^2 +  \\lambda \\left(- \\left(P_{G_1} + P_{G_2} + P_{G_3}\\right)  + 850 \\right)\n",
    "\\end{split}\n",
    "\\end{equation}\n",
    "\n",
    "Dado que esta ecuación es continua y convexa se puede calcular el óptimo global derivando $L$ con respecto al resto de las variables e igualando a cero:\n",
    "\n",
    "\n",
    "$$\n",
    "\\begin{align}\n",
    "\\frac{\\partial L}{\\partial P_{G_1}} &= 7.92 + 2\\left(0.00154 P_{G_1}\\right)  - \\lambda = 7.92 + 0.00308 P_{G_1} - \\lambda = 0 \\\\ \n",
    "\\frac{\\partial L}{\\partial P_{G_2}} &= 7.8 + 2\\left(0.002 P_{G_2}\\right)  - \\lambda = 7.8 + 0.004 P_{G_2} - \\lambda  = 0 \\\\\n",
    "\\frac{\\partial L}{\\partial P_{G_3}} &= 8.0 + 2\\left(0.005 P_{G_3}\\right)  - \\lambda = 8 + 0.01 P_{G_3} - \\lambda  = 0 \\\\\n",
    "\\frac{\\partial L}{\\partial \\lambda} &= -P_{G_1} - P_{G_2} - P_{G_3} + 850 = 0 \n",
    "\\end{align}\n",
    "$$\n",
    "\n",
    "\n",
    "Como se puede notar, las derivadas forman un sistema de 4 ecuaciones lineales con 4 variables, el cual puede ser resuelto fácilmente utilizando Julia (o Matlab, etc):\n",
    "\n",
    "\n",
    "\\begin{equation}\n",
    "\\begin{bmatrix}\n",
    "0.00308 & 0 & 0 & -1 \\\\\n",
    "0 & 0.004 & 0 & -1 \\\\\n",
    "0 & 0 & 0.01 & -1 \\\\\n",
    "-1 &-1 &-1 & 0\n",
    "\\end{bmatrix}\n",
    "\\begin{bmatrix}\n",
    "P_{G_1} \\\\\n",
    "P_{G_2} \\\\\n",
    "P_{G_2} \\\\\n",
    "\\lambda\n",
    "\\end{bmatrix} = \n",
    "\\begin{bmatrix}\n",
    "-7.92 \\\\\n",
    "-7.8 \\\\\n",
    "-8 \\\\\n",
    "-850\n",
    "\\end{bmatrix}\n",
    "\\end{equation}"
   ]
  },
  {
   "cell_type": "code",
   "execution_count": 1,
   "metadata": {},
   "outputs": [],
   "source": [
    "using LinearAlgebra;"
   ]
  },
  {
   "cell_type": "code",
   "execution_count": 2,
   "metadata": {},
   "outputs": [
    {
     "data": {
      "text/plain": [
       "4×4 Array{Float64,2}:\n",
       "  0.00308   0.0     0.0   -1.0\n",
       "  0.0       0.004   0.0   -1.0\n",
       "  0.0       0.0     0.01  -1.0\n",
       " -1.0      -1.0    -1.0    0.0"
      ]
     },
     "execution_count": 2,
     "metadata": {},
     "output_type": "execute_result"
    }
   ],
   "source": [
    "A = [2*0.00154 0 0 -1; \n",
    "    0 2*0.002 0 -1;\n",
    "    0 0 2*0.005 -1;\n",
    "    -1 -1 -1 0]"
   ]
  },
  {
   "cell_type": "code",
   "execution_count": 3,
   "metadata": {},
   "outputs": [
    {
     "data": {
      "text/plain": [
       "4-element Array{Float64,1}:\n",
       "   -7.92\n",
       "   -7.8\n",
       "   -8.0\n",
       " -850.0"
      ]
     },
     "execution_count": 3,
     "metadata": {},
     "output_type": "execute_result"
    }
   ],
   "source": [
    "b = [-7.92;-7.8; -8; -850]"
   ]
  },
  {
   "cell_type": "code",
   "execution_count": 4,
   "metadata": {},
   "outputs": [
    {
     "data": {
      "text/plain": [
       "4-element Array{Float64,1}:\n",
       " 398.4600577478343\n",
       " 336.81424446583264\n",
       " 114.72569778633303\n",
       "   9.14725697786333"
      ]
     },
     "execution_count": 4,
     "metadata": {},
     "output_type": "execute_result"
    }
   ],
   "source": [
    "x = A\\b"
   ]
  },
  {
   "cell_type": "markdown",
   "metadata": {},
   "source": [
    "Por lo cual la solución a este problema es:\n",
    "\n",
    "\\begin{equation*}\n",
    "P_{G_1} = 398.46\\\\\n",
    "P_{G_2} = 336.8142\\\\\n",
    "P_{G_3} = 114.7256\\\\\n",
    "\\lambda = 9.1472\n",
    "\\end{equation*}\n",
    "\n",
    "\n",
    "$\\lambda$ es conocido como el costo marginal. \n",
    "\n",
    "Ahora podemos resolver este sistema utilizando JuMP y el solver OSQP. \n",
    "\n",
    "\n"
   ]
  },
  {
   "cell_type": "code",
   "execution_count": 5,
   "metadata": {},
   "outputs": [],
   "source": [
    "# Importamos JuMP y OSQP\n",
    "using JuMP, OSQP"
   ]
  },
  {
   "cell_type": "code",
   "execution_count": 6,
   "metadata": {},
   "outputs": [
    {
     "name": "stdout",
     "output_type": "stream",
     "text": [
      "\n",
      "\n",
      "Despacho de generación: [398.46005845189234, 336.8142450274407, 114.72569802814812] MW\n",
      "Lambda  = 9.14724781979021$/MW\n",
      "\n",
      "\n",
      "Costo de generación: 8186.964402624736$\n",
      "-----------------------------------------------------------------\n",
      "           OSQP v0.6.0  -  Operator Splitting QP Solver\n",
      "              (c) Bartolomeo Stellato,  Goran Banjac\n",
      "        University of Oxford  -  Stanford University 2019\n",
      "-----------------------------------------------------------------\n",
      "problem:  variables n = 3, constraints m = 1\n",
      "          nnz(P) + nnz(A) = 6\n",
      "settings: linear system solver = qdldl,\n",
      "          eps_abs = 1.0e-03, eps_rel = 1.0e-03,\n",
      "          eps_prim_inf = 1.0e-04, eps_dual_inf = 1.0e-04,\n",
      "          rho = 1.00e-01 (adaptive),\n",
      "          sigma = 1.00e-06, alpha = 1.60, max_iter = 4000\n",
      "          check_termination: on (interval 25),\n",
      "          scaling: on, scaled_termination: off\n",
      "          warm start: on, polish: off, time_limit: off\n",
      "\n",
      "iter   objective    pri res    dua res    rho        time\n",
      "   1  -1.2571e+00   8.50e+02   6.80e+05   1.00e-01   6.23e-04s\n",
      "  50   7.2380e+03   1.51e-06   9.16e-06   1.00e-01   6.36e-04s\n",
      "\n",
      "status:               solved\n",
      "number of iterations: 50\n",
      "optimal objective:    7237.9644\n",
      "run time:             6.38e-04s\n",
      "optimal rho estimate: 4.21e-03\n",
      "\n"
     ]
    }
   ],
   "source": [
    "a = [561, 310, 78];\n",
    "b = [7.92, 7.8, 8];\n",
    "c = [0.00154, 0.002, 0.005];\n",
    "Pd = 850.;\n",
    "n = 3;\n",
    "\n",
    "\n",
    "# Definimos el modelo\n",
    "ed = Model(OSQP.Optimizer)\n",
    "\n",
    "# Agregamos las variables\n",
    "@variable(ed,p_g[1:n]);\n",
    "\n",
    "#Define the objective funciton\n",
    "@objective(ed, Min, sum(a[i] + b[i]*p_g[i] + c[i]*p_g[i]^2 for i in 1:n));\n",
    "\n",
    "# Power balance constraint\n",
    "@constraint(ed, balance,  sum(p_g[i] for i in 1:n) == Pd);\n",
    "\n",
    "optimize!(ed)\n",
    "\n",
    "\n",
    "println(\"\\n\")\n",
    "println(\"Despacho de generación: \", value.(p_g), \" MW\")\n",
    "println(\"Lambda  = \", dual(balance), \"\\$/MW\")\n",
    "println(\"\\n\")\n",
    "println(\"Costo de generación: \", objective_value(ed), \"\\$\")\n"
   ]
  },
  {
   "cell_type": "markdown",
   "metadata": {},
   "source": [
    "Podemos extender el problema de optimización y considerar los siguientes límites de generación:\n",
    "\n",
    "| Unidad  | $P_{G_i}^{\\min}$ | $P_{G_i}^{\\max}$ |\n",
    "| -- | -- | -- |\n",
    "| $G_1$  | 150 | 600 | \n",
    "| $G_2$ | 100  | 400 | \n",
    "| $G_3$| 50 | 200 |\n",
    "\n",
    "Por lo cual el problema deberá ser formulado de la siguiente forma:\n",
    "\n",
    "\\begin{equation*}\n",
    "\\min \\sum_{i=1}^N C_i (P_{G_i}) = \\sum_{i=1}^N \\left(a_i + b_i P_{G_i} + c P_{G_i}^2\\right)\n",
    "\\end{equation*}\n",
    "\n",
    "sujeto a:\n",
    "\n",
    "* Ecuación de balance de potencia:\n",
    "\n",
    "$$\n",
    "\\sum_{i=1}^N P_{G_i} = P_D\\\\\n",
    "$$\n",
    "\n",
    "* Límites de generación mínimos ($P_{G_i}^{\\min}$) y máximos ($P_{G_i}^{\\max}$): \n",
    "\n",
    "$$\n",
    "P_{G_i}^{\\min} \\leq P_{G_i} \\leq P_{G_i}^{\\max}\n",
    "$$\n",
    "\n",
    "En el siguiente ejemplo el costo de generación del primer generador fue ligeramente modificado para tratar de alcanzar su límite máximo de generación.\n"
   ]
  },
  {
   "cell_type": "code",
   "execution_count": 7,
   "metadata": {},
   "outputs": [],
   "source": [
    "# Import packades\n",
    "using JuMP, OSQP"
   ]
  },
  {
   "cell_type": "code",
   "execution_count": 8,
   "metadata": {},
   "outputs": [],
   "source": [
    "# We define inputs for test system\n",
    "p_gmax = [600., 400, 200];\n",
    "p_gmin = [150., 100, 50];\n",
    "a = [459., 310, 78];\n",
    "b = [6.48, 7.8, 8];\n",
    "c = [0.00126, 0.002, 0.005];\n",
    "Pd = 850.;\n",
    "n = 3;"
   ]
  },
  {
   "cell_type": "code",
   "execution_count": 9,
   "metadata": {},
   "outputs": [
    {
     "name": "stdout",
     "output_type": "stream",
     "text": [
      "\n",
      "\n",
      "Despacho de generación: [600.7389177250001, 192.45632888390378, 56.80481188633037] MW\n",
      "Lambda  = 8.572518621544083$/MW\n",
      "\n",
      "\n",
      "Costo de generación: 7240.3167891246885$\n",
      "-----------------------------------------------------------------\n",
      "           OSQP v0.6.0  -  Operator Splitting QP Solver\n",
      "              (c) Bartolomeo Stellato,  Goran Banjac\n",
      "        University of Oxford  -  Stanford University 2019\n",
      "-----------------------------------------------------------------\n",
      "problem:  variables n = 3, constraints m = 7\n",
      "          nnz(P) + nnz(A) = 12\n",
      "settings: linear system solver = qdldl,\n",
      "          eps_abs = 1.0e-03, eps_rel = 1.0e-03,\n",
      "          eps_prim_inf = 1.0e-04, eps_dual_inf = 1.0e-04,\n",
      "          rho = 1.00e-01 (adaptive),\n",
      "          sigma = 1.00e-06, alpha = 1.60, max_iter = 4000\n",
      "          check_termination: on (interval 25),\n",
      "          scaling: on, scaled_termination: off\n",
      "          warm start: on, polish: off, time_limit: off\n",
      "\n",
      "iter   objective    pri res    dua res    rho        time\n",
      "   1  -1.4676e+00   8.50e+02   6.80e+05   1.00e-01   2.83e-05s\n",
      "  50   6.3933e+03   7.39e-01   5.15e-03   3.56e-03   7.99e-03s\n",
      "\n",
      "status:               solved\n",
      "number of iterations: 50\n",
      "optimal objective:    6393.3168\n",
      "run time:             8.00e-03s\n",
      "optimal rho estimate: 4.28e-03\n",
      "\n"
     ]
    }
   ],
   "source": [
    "# Define optmization model\n",
    "ed = Model(OSQP.Optimizer)\n",
    "\n",
    "# Add continous variables\n",
    "@variable(ed, p_gmin[i] <= p_g[i=1:n] <= p_gmax[i]);\n",
    "\n",
    "#Define the objective funciton\n",
    "@objective(ed, Min, sum(a[i] + b[i]*p_g[i] + c[i]*p_g[i]^2 for i in 1:n));\n",
    "\n",
    "# Power balance constraint\n",
    "@constraint(ed, balance, sum(p_g[i] for i in 1:n) == Pd);\n",
    "\n",
    "optimize!(ed);\n",
    "\n",
    "println(\"\\n\")\n",
    "println(\"Despacho de generación: \", value.(p_g), \" MW\")\n",
    "println(\"Lambda  = \", dual(balance), \"\\$/MW\")\n",
    "println(\"\\n\")\n",
    "println(\"Costo de generación: \", objective_value(ed), \"\\$\")\n",
    "\n"
   ]
  },
  {
   "cell_type": "markdown",
   "metadata": {},
   "source": [
    "\\begin{equation*}\n",
    "P_{G_1} = 600\\\\\n",
    "P_{G_2} = 192.8571\\\\\n",
    "P_{G_3} = 57.1428\n",
    "\\end{equation*}\n"
   ]
  },
  {
   "cell_type": "code",
   "execution_count": 10,
   "metadata": {},
   "outputs": [
    {
     "name": "stdout",
     "output_type": "stream",
     "text": [
      "dual(UpperBoundRef(p_g[1])) = -0.5838103333684262\n",
      "dual(UpperBoundRef(p_g[2])) = -4.7879061492808204e-17\n",
      "dual(UpperBoundRef(p_g[3])) = 0.0\n"
     ]
    }
   ],
   "source": [
    "@show dual(UpperBoundRef(p_g[1]));\n",
    "@show dual(UpperBoundRef(p_g[2]));\n",
    "@show dual(UpperBoundRef(p_g[3]));"
   ]
  },
  {
   "cell_type": "code",
   "execution_count": 11,
   "metadata": {},
   "outputs": [
    {
     "name": "stdout",
     "output_type": "stream",
     "text": [
      "dual(LowerBoundRef(p_g[1])) = 0.0\n",
      "dual(LowerBoundRef(p_g[2])) = 0.0\n",
      "dual(LowerBoundRef(p_g[3])) = -4.163336342344337e-17\n"
     ]
    }
   ],
   "source": [
    "@show dual(LowerBoundRef(p_g[1]));\n",
    "@show dual(LowerBoundRef(p_g[2]));\n",
    "@show dual(LowerBoundRef(p_g[3]));"
   ]
  },
  {
   "cell_type": "code",
   "execution_count": null,
   "metadata": {},
   "outputs": [],
   "source": []
  }
 ],
 "metadata": {
  "kernelspec": {
   "display_name": "Julia 1.5.3",
   "language": "julia",
   "name": "julia-1.5"
  },
  "language_info": {
   "file_extension": ".jl",
   "mimetype": "application/julia",
   "name": "julia",
   "version": "1.5.3"
  }
 },
 "nbformat": 4,
 "nbformat_minor": 4
}
